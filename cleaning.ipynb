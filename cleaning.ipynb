{
 "cells": [
  {
   "cell_type": "code",
   "execution_count": 72,
   "id": "initial_id",
   "metadata": {
    "collapsed": true,
    "ExecuteTime": {
     "end_time": "2024-03-20T17:27:40.964443300Z",
     "start_time": "2024-03-20T17:27:40.945204900Z"
    }
   },
   "outputs": [],
   "source": [
    "import pandas as pd\n",
    "hustle = pd.read_csv('combined_hustle.csv')"
   ]
  },
  {
   "cell_type": "code",
   "execution_count": 127,
   "outputs": [],
   "source": [
    "box = pd.read_csv('combined_box.csv')"
   ],
   "metadata": {
    "collapsed": false,
    "ExecuteTime": {
     "end_time": "2024-03-21T16:53:09.033927300Z",
     "start_time": "2024-03-21T16:53:09.002199600Z"
    }
   },
   "id": "e6559790f7adf58f"
  },
  {
   "cell_type": "code",
   "execution_count": 128,
   "outputs": [
    {
     "data": {
      "text/plain": "                              PLAYER                     MIN  OFFRTG  DEFRTG  \\\n0     Bennedict MathurinB. MathurinF                   25:50   127.4   106.6   \n1               Obi ToppinO. ToppinF                   19:14   137.0   121.7   \n2             Myles TurnerM. TurnerC                   23:20   137.0   109.1   \n3               Bruce BrownB. BrownG                   27:12   141.0   112.7   \n4    Tyrese HaliburtonT. HaliburtonG                   26:54   125.0   115.6   \n..                               ...                     ...     ...     ...   \n995           Jarace WalkerJ. Walker                    6:51   157.1   121.4   \n996            Kendall BrownK. Brown  DNP - Coach's Decision     NaN     NaN   \n997         Isaiah JacksonI. Jackson  DNP - Coach's Decision     NaN     NaN   \n998          James JohnsonJ. Johnson    DND - Injury/Illness     NaN     NaN   \n999                           TOTALS                     NaN   116.3   106.7   \n\n     NETRTG  AST%  AST/TO  AST RATIO  OREB%  DREB%  REB%  TO RATIO   EFG%  \\\n0      20.9  20.0     2.5       20.8    0.0   13.8   7.4       8.3   46.7   \n1      15.2   5.3     0.0       10.0    5.0   17.6  10.8       0.0   55.6   \n2      27.9   4.2     0.5        8.3    0.0   29.6  18.2      16.7   62.5   \n3      28.3   3.8     1.0        7.1    4.2    6.7   5.6       7.1  100.0   \n4       9.4  52.4     3.7       36.7    0.0   10.3   5.2      10.0   62.5   \n..      ...   ...     ...        ...    ...    ...   ...       ...    ...   \n995    35.7   0.0     0.0        0.0   25.0   11.1  15.4       0.0   75.0   \n996     NaN   NaN     NaN        NaN    NaN    NaN   NaN       NaN    NaN   \n997     NaN   NaN     NaN        NaN    NaN    NaN   NaN       NaN    NaN   \n998     NaN   NaN     NaN        NaN    NaN    NaN   NaN       NaN    NaN   \n999     9.6  70.8     3.8       24.2   11.6   71.2  46.1       8.7   59.0   \n\n       TS%   USG%    PACE   PIE       Game ID  \n0     53.7   27.5  114.26  11.7  202310250IND  \n1     58.3   17.0  114.80   9.8  202310250IND  \n2     61.9   19.3  112.11   8.5  202310250IND  \n3    101.0   18.8  109.41  12.7  202310250IND  \n4     62.5   25.7  114.21  16.8  202310250IND  \n..     ...    ...     ...   ...           ...  \n995   75.0   13.3   98.10   8.8  202403120OKC  \n996    NaN    NaN     NaN   NaN  202403120OKC  \n997    NaN    NaN     NaN   NaN  202403120OKC  \n998    NaN    NaN     NaN   NaN  202403120OKC  \n999   62.1  100.0  104.00  60.0  202403120OKC  \n\n[1000 rows x 18 columns]",
      "text/html": "<div>\n<style scoped>\n    .dataframe tbody tr th:only-of-type {\n        vertical-align: middle;\n    }\n\n    .dataframe tbody tr th {\n        vertical-align: top;\n    }\n\n    .dataframe thead th {\n        text-align: right;\n    }\n</style>\n<table border=\"1\" class=\"dataframe\">\n  <thead>\n    <tr style=\"text-align: right;\">\n      <th></th>\n      <th>PLAYER</th>\n      <th>MIN</th>\n      <th>OFFRTG</th>\n      <th>DEFRTG</th>\n      <th>NETRTG</th>\n      <th>AST%</th>\n      <th>AST/TO</th>\n      <th>AST RATIO</th>\n      <th>OREB%</th>\n      <th>DREB%</th>\n      <th>REB%</th>\n      <th>TO RATIO</th>\n      <th>EFG%</th>\n      <th>TS%</th>\n      <th>USG%</th>\n      <th>PACE</th>\n      <th>PIE</th>\n      <th>Game ID</th>\n    </tr>\n  </thead>\n  <tbody>\n    <tr>\n      <th>0</th>\n      <td>Bennedict MathurinB. MathurinF</td>\n      <td>25:50</td>\n      <td>127.4</td>\n      <td>106.6</td>\n      <td>20.9</td>\n      <td>20.0</td>\n      <td>2.5</td>\n      <td>20.8</td>\n      <td>0.0</td>\n      <td>13.8</td>\n      <td>7.4</td>\n      <td>8.3</td>\n      <td>46.7</td>\n      <td>53.7</td>\n      <td>27.5</td>\n      <td>114.26</td>\n      <td>11.7</td>\n      <td>202310250IND</td>\n    </tr>\n    <tr>\n      <th>1</th>\n      <td>Obi ToppinO. ToppinF</td>\n      <td>19:14</td>\n      <td>137.0</td>\n      <td>121.7</td>\n      <td>15.2</td>\n      <td>5.3</td>\n      <td>0.0</td>\n      <td>10.0</td>\n      <td>5.0</td>\n      <td>17.6</td>\n      <td>10.8</td>\n      <td>0.0</td>\n      <td>55.6</td>\n      <td>58.3</td>\n      <td>17.0</td>\n      <td>114.80</td>\n      <td>9.8</td>\n      <td>202310250IND</td>\n    </tr>\n    <tr>\n      <th>2</th>\n      <td>Myles TurnerM. TurnerC</td>\n      <td>23:20</td>\n      <td>137.0</td>\n      <td>109.1</td>\n      <td>27.9</td>\n      <td>4.2</td>\n      <td>0.5</td>\n      <td>8.3</td>\n      <td>0.0</td>\n      <td>29.6</td>\n      <td>18.2</td>\n      <td>16.7</td>\n      <td>62.5</td>\n      <td>61.9</td>\n      <td>19.3</td>\n      <td>112.11</td>\n      <td>8.5</td>\n      <td>202310250IND</td>\n    </tr>\n    <tr>\n      <th>3</th>\n      <td>Bruce BrownB. BrownG</td>\n      <td>27:12</td>\n      <td>141.0</td>\n      <td>112.7</td>\n      <td>28.3</td>\n      <td>3.8</td>\n      <td>1.0</td>\n      <td>7.1</td>\n      <td>4.2</td>\n      <td>6.7</td>\n      <td>5.6</td>\n      <td>7.1</td>\n      <td>100.0</td>\n      <td>101.0</td>\n      <td>18.8</td>\n      <td>109.41</td>\n      <td>12.7</td>\n      <td>202310250IND</td>\n    </tr>\n    <tr>\n      <th>4</th>\n      <td>Tyrese HaliburtonT. HaliburtonG</td>\n      <td>26:54</td>\n      <td>125.0</td>\n      <td>115.6</td>\n      <td>9.4</td>\n      <td>52.4</td>\n      <td>3.7</td>\n      <td>36.7</td>\n      <td>0.0</td>\n      <td>10.3</td>\n      <td>5.2</td>\n      <td>10.0</td>\n      <td>62.5</td>\n      <td>62.5</td>\n      <td>25.7</td>\n      <td>114.21</td>\n      <td>16.8</td>\n      <td>202310250IND</td>\n    </tr>\n    <tr>\n      <th>...</th>\n      <td>...</td>\n      <td>...</td>\n      <td>...</td>\n      <td>...</td>\n      <td>...</td>\n      <td>...</td>\n      <td>...</td>\n      <td>...</td>\n      <td>...</td>\n      <td>...</td>\n      <td>...</td>\n      <td>...</td>\n      <td>...</td>\n      <td>...</td>\n      <td>...</td>\n      <td>...</td>\n      <td>...</td>\n      <td>...</td>\n    </tr>\n    <tr>\n      <th>995</th>\n      <td>Jarace WalkerJ. Walker</td>\n      <td>6:51</td>\n      <td>157.1</td>\n      <td>121.4</td>\n      <td>35.7</td>\n      <td>0.0</td>\n      <td>0.0</td>\n      <td>0.0</td>\n      <td>25.0</td>\n      <td>11.1</td>\n      <td>15.4</td>\n      <td>0.0</td>\n      <td>75.0</td>\n      <td>75.0</td>\n      <td>13.3</td>\n      <td>98.10</td>\n      <td>8.8</td>\n      <td>202403120OKC</td>\n    </tr>\n    <tr>\n      <th>996</th>\n      <td>Kendall BrownK. Brown</td>\n      <td>DNP - Coach's Decision</td>\n      <td>NaN</td>\n      <td>NaN</td>\n      <td>NaN</td>\n      <td>NaN</td>\n      <td>NaN</td>\n      <td>NaN</td>\n      <td>NaN</td>\n      <td>NaN</td>\n      <td>NaN</td>\n      <td>NaN</td>\n      <td>NaN</td>\n      <td>NaN</td>\n      <td>NaN</td>\n      <td>NaN</td>\n      <td>NaN</td>\n      <td>202403120OKC</td>\n    </tr>\n    <tr>\n      <th>997</th>\n      <td>Isaiah JacksonI. Jackson</td>\n      <td>DNP - Coach's Decision</td>\n      <td>NaN</td>\n      <td>NaN</td>\n      <td>NaN</td>\n      <td>NaN</td>\n      <td>NaN</td>\n      <td>NaN</td>\n      <td>NaN</td>\n      <td>NaN</td>\n      <td>NaN</td>\n      <td>NaN</td>\n      <td>NaN</td>\n      <td>NaN</td>\n      <td>NaN</td>\n      <td>NaN</td>\n      <td>NaN</td>\n      <td>202403120OKC</td>\n    </tr>\n    <tr>\n      <th>998</th>\n      <td>James JohnsonJ. Johnson</td>\n      <td>DND - Injury/Illness</td>\n      <td>NaN</td>\n      <td>NaN</td>\n      <td>NaN</td>\n      <td>NaN</td>\n      <td>NaN</td>\n      <td>NaN</td>\n      <td>NaN</td>\n      <td>NaN</td>\n      <td>NaN</td>\n      <td>NaN</td>\n      <td>NaN</td>\n      <td>NaN</td>\n      <td>NaN</td>\n      <td>NaN</td>\n      <td>NaN</td>\n      <td>202403120OKC</td>\n    </tr>\n    <tr>\n      <th>999</th>\n      <td>TOTALS</td>\n      <td>NaN</td>\n      <td>116.3</td>\n      <td>106.7</td>\n      <td>9.6</td>\n      <td>70.8</td>\n      <td>3.8</td>\n      <td>24.2</td>\n      <td>11.6</td>\n      <td>71.2</td>\n      <td>46.1</td>\n      <td>8.7</td>\n      <td>59.0</td>\n      <td>62.1</td>\n      <td>100.0</td>\n      <td>104.00</td>\n      <td>60.0</td>\n      <td>202403120OKC</td>\n    </tr>\n  </tbody>\n</table>\n<p>1000 rows × 18 columns</p>\n</div>"
     },
     "execution_count": 128,
     "metadata": {},
     "output_type": "execute_result"
    }
   ],
   "source": [
    "advanced = pd.read_csv('combined_advanced.csv')\n",
    "advanced"
   ],
   "metadata": {
    "collapsed": false,
    "ExecuteTime": {
     "end_time": "2024-03-21T16:53:11.425975200Z",
     "start_time": "2024-03-21T16:53:11.358564100Z"
    }
   },
   "id": "33755b64b4a5bf7f"
  },
  {
   "cell_type": "code",
   "execution_count": 129,
   "outputs": [],
   "source": [
    "box_player = box[~box['PLAYER'].str.contains('TOTALS')]"
   ],
   "metadata": {
    "collapsed": false,
    "ExecuteTime": {
     "end_time": "2024-03-21T16:53:14.271830400Z",
     "start_time": "2024-03-21T16:53:14.223562900Z"
    }
   },
   "id": "a47768d17617cabd"
  },
  {
   "cell_type": "code",
   "execution_count": 130,
   "outputs": [],
   "source": [
    "# Remove all rows where 'FGA' column is null\n",
    "box_player = box_player.dropna(subset=['FGA'])"
   ],
   "metadata": {
    "collapsed": false,
    "ExecuteTime": {
     "end_time": "2024-03-21T16:53:16.298520200Z",
     "start_time": "2024-03-21T16:53:16.262793Z"
    }
   },
   "id": "11d469b1fc055a11"
  },
  {
   "cell_type": "code",
   "execution_count": 131,
   "outputs": [
    {
     "data": {
      "text/plain": "                              PLAYER    MIN  FGM   FGA   FG%  3PM  3PA    3P%  \\\n0     Bennedict MathurinB. MathurinF  25:50  6.0  15.0  40.0  2.0  6.0   33.3   \n1               Obi ToppinO. ToppinF  19:14  4.0   9.0  44.4  2.0  5.0   40.0   \n2             Myles TurnerM. TurnerC  23:20  5.0   8.0  62.5  0.0  2.0    0.0   \n3               Bruce BrownB. BrownG  27:12  8.0  11.0  72.7  6.0  8.0   75.0   \n4    Tyrese HaliburtonT. HaliburtonG  26:54  9.0  16.0  56.3  2.0  6.0   33.3   \n..                               ...    ...  ...   ...   ...  ...  ...    ...   \n991              Obi ToppinO. Toppin  18:39  4.0   6.0  66.7  0.0  1.0    0.0   \n992              Jalen SmithJ. Smith  17:58  2.0   5.0  40.0  0.0  2.0    0.0   \n993       T.J. McConnellT. McConnell  17:29  4.0   8.0  50.0  1.0  1.0  100.0   \n994          Ben SheppardB. Sheppard  17:27  2.0   5.0  40.0  0.0  3.0    0.0   \n995           Jarace WalkerJ. Walker   6:51  1.0   2.0  50.0  1.0  2.0   50.0   \n\n     FTM  FTA  ...  DREB  REB   AST  STL  BLK   TO   PF   PTS   +/-  \\\n0    4.0  4.0  ...   4.0  4.0   5.0  2.0  0.0  2.0  1.0  18.0  14.0   \n1    1.0  1.0  ...   3.0  4.0   1.0  1.0  0.0  0.0  0.0  11.0   7.0   \n2    1.0  2.0  ...   8.0  8.0   1.0  0.0  3.0  2.0  4.0  11.0  14.0   \n3    2.0  2.0  ...   2.0  3.0   1.0  1.0  0.0  1.0  3.0  24.0  15.0   \n4    0.0  0.0  ...   3.0  3.0  11.0  1.0  2.0  3.0  1.0  20.0   6.0   \n..   ...  ...  ...   ...  ...   ...  ...  ...  ...  ...   ...   ...   \n991  2.0  4.0  ...   3.0  4.0   1.0  0.0  0.0  0.0  1.0  10.0   0.0   \n992  2.0  2.0  ...   8.0  9.0   3.0  0.0  1.0  1.0  1.0   6.0   3.0   \n993  0.0  0.0  ...   0.0  0.0   4.0  1.0  0.0  1.0  0.0   9.0   3.0   \n994  0.0  0.0  ...   1.0  2.0   0.0  0.0  0.0  0.0  1.0   4.0  -2.0   \n995  0.0  0.0  ...   1.0  2.0   0.0  0.0  0.0  0.0  0.0   3.0   5.0   \n\n          Game ID  \n0    202310250IND  \n1    202310250IND  \n2    202310250IND  \n3    202310250IND  \n4    202310250IND  \n..            ...  \n991  202403120OKC  \n992  202403120OKC  \n993  202403120OKC  \n994  202403120OKC  \n995  202403120OKC  \n\n[731 rows x 22 columns]",
      "text/html": "<div>\n<style scoped>\n    .dataframe tbody tr th:only-of-type {\n        vertical-align: middle;\n    }\n\n    .dataframe tbody tr th {\n        vertical-align: top;\n    }\n\n    .dataframe thead th {\n        text-align: right;\n    }\n</style>\n<table border=\"1\" class=\"dataframe\">\n  <thead>\n    <tr style=\"text-align: right;\">\n      <th></th>\n      <th>PLAYER</th>\n      <th>MIN</th>\n      <th>FGM</th>\n      <th>FGA</th>\n      <th>FG%</th>\n      <th>3PM</th>\n      <th>3PA</th>\n      <th>3P%</th>\n      <th>FTM</th>\n      <th>FTA</th>\n      <th>...</th>\n      <th>DREB</th>\n      <th>REB</th>\n      <th>AST</th>\n      <th>STL</th>\n      <th>BLK</th>\n      <th>TO</th>\n      <th>PF</th>\n      <th>PTS</th>\n      <th>+/-</th>\n      <th>Game ID</th>\n    </tr>\n  </thead>\n  <tbody>\n    <tr>\n      <th>0</th>\n      <td>Bennedict MathurinB. MathurinF</td>\n      <td>25:50</td>\n      <td>6.0</td>\n      <td>15.0</td>\n      <td>40.0</td>\n      <td>2.0</td>\n      <td>6.0</td>\n      <td>33.3</td>\n      <td>4.0</td>\n      <td>4.0</td>\n      <td>...</td>\n      <td>4.0</td>\n      <td>4.0</td>\n      <td>5.0</td>\n      <td>2.0</td>\n      <td>0.0</td>\n      <td>2.0</td>\n      <td>1.0</td>\n      <td>18.0</td>\n      <td>14.0</td>\n      <td>202310250IND</td>\n    </tr>\n    <tr>\n      <th>1</th>\n      <td>Obi ToppinO. ToppinF</td>\n      <td>19:14</td>\n      <td>4.0</td>\n      <td>9.0</td>\n      <td>44.4</td>\n      <td>2.0</td>\n      <td>5.0</td>\n      <td>40.0</td>\n      <td>1.0</td>\n      <td>1.0</td>\n      <td>...</td>\n      <td>3.0</td>\n      <td>4.0</td>\n      <td>1.0</td>\n      <td>1.0</td>\n      <td>0.0</td>\n      <td>0.0</td>\n      <td>0.0</td>\n      <td>11.0</td>\n      <td>7.0</td>\n      <td>202310250IND</td>\n    </tr>\n    <tr>\n      <th>2</th>\n      <td>Myles TurnerM. TurnerC</td>\n      <td>23:20</td>\n      <td>5.0</td>\n      <td>8.0</td>\n      <td>62.5</td>\n      <td>0.0</td>\n      <td>2.0</td>\n      <td>0.0</td>\n      <td>1.0</td>\n      <td>2.0</td>\n      <td>...</td>\n      <td>8.0</td>\n      <td>8.0</td>\n      <td>1.0</td>\n      <td>0.0</td>\n      <td>3.0</td>\n      <td>2.0</td>\n      <td>4.0</td>\n      <td>11.0</td>\n      <td>14.0</td>\n      <td>202310250IND</td>\n    </tr>\n    <tr>\n      <th>3</th>\n      <td>Bruce BrownB. BrownG</td>\n      <td>27:12</td>\n      <td>8.0</td>\n      <td>11.0</td>\n      <td>72.7</td>\n      <td>6.0</td>\n      <td>8.0</td>\n      <td>75.0</td>\n      <td>2.0</td>\n      <td>2.0</td>\n      <td>...</td>\n      <td>2.0</td>\n      <td>3.0</td>\n      <td>1.0</td>\n      <td>1.0</td>\n      <td>0.0</td>\n      <td>1.0</td>\n      <td>3.0</td>\n      <td>24.0</td>\n      <td>15.0</td>\n      <td>202310250IND</td>\n    </tr>\n    <tr>\n      <th>4</th>\n      <td>Tyrese HaliburtonT. HaliburtonG</td>\n      <td>26:54</td>\n      <td>9.0</td>\n      <td>16.0</td>\n      <td>56.3</td>\n      <td>2.0</td>\n      <td>6.0</td>\n      <td>33.3</td>\n      <td>0.0</td>\n      <td>0.0</td>\n      <td>...</td>\n      <td>3.0</td>\n      <td>3.0</td>\n      <td>11.0</td>\n      <td>1.0</td>\n      <td>2.0</td>\n      <td>3.0</td>\n      <td>1.0</td>\n      <td>20.0</td>\n      <td>6.0</td>\n      <td>202310250IND</td>\n    </tr>\n    <tr>\n      <th>...</th>\n      <td>...</td>\n      <td>...</td>\n      <td>...</td>\n      <td>...</td>\n      <td>...</td>\n      <td>...</td>\n      <td>...</td>\n      <td>...</td>\n      <td>...</td>\n      <td>...</td>\n      <td>...</td>\n      <td>...</td>\n      <td>...</td>\n      <td>...</td>\n      <td>...</td>\n      <td>...</td>\n      <td>...</td>\n      <td>...</td>\n      <td>...</td>\n      <td>...</td>\n      <td>...</td>\n    </tr>\n    <tr>\n      <th>991</th>\n      <td>Obi ToppinO. Toppin</td>\n      <td>18:39</td>\n      <td>4.0</td>\n      <td>6.0</td>\n      <td>66.7</td>\n      <td>0.0</td>\n      <td>1.0</td>\n      <td>0.0</td>\n      <td>2.0</td>\n      <td>4.0</td>\n      <td>...</td>\n      <td>3.0</td>\n      <td>4.0</td>\n      <td>1.0</td>\n      <td>0.0</td>\n      <td>0.0</td>\n      <td>0.0</td>\n      <td>1.0</td>\n      <td>10.0</td>\n      <td>0.0</td>\n      <td>202403120OKC</td>\n    </tr>\n    <tr>\n      <th>992</th>\n      <td>Jalen SmithJ. Smith</td>\n      <td>17:58</td>\n      <td>2.0</td>\n      <td>5.0</td>\n      <td>40.0</td>\n      <td>0.0</td>\n      <td>2.0</td>\n      <td>0.0</td>\n      <td>2.0</td>\n      <td>2.0</td>\n      <td>...</td>\n      <td>8.0</td>\n      <td>9.0</td>\n      <td>3.0</td>\n      <td>0.0</td>\n      <td>1.0</td>\n      <td>1.0</td>\n      <td>1.0</td>\n      <td>6.0</td>\n      <td>3.0</td>\n      <td>202403120OKC</td>\n    </tr>\n    <tr>\n      <th>993</th>\n      <td>T.J. McConnellT. McConnell</td>\n      <td>17:29</td>\n      <td>4.0</td>\n      <td>8.0</td>\n      <td>50.0</td>\n      <td>1.0</td>\n      <td>1.0</td>\n      <td>100.0</td>\n      <td>0.0</td>\n      <td>0.0</td>\n      <td>...</td>\n      <td>0.0</td>\n      <td>0.0</td>\n      <td>4.0</td>\n      <td>1.0</td>\n      <td>0.0</td>\n      <td>1.0</td>\n      <td>0.0</td>\n      <td>9.0</td>\n      <td>3.0</td>\n      <td>202403120OKC</td>\n    </tr>\n    <tr>\n      <th>994</th>\n      <td>Ben SheppardB. Sheppard</td>\n      <td>17:27</td>\n      <td>2.0</td>\n      <td>5.0</td>\n      <td>40.0</td>\n      <td>0.0</td>\n      <td>3.0</td>\n      <td>0.0</td>\n      <td>0.0</td>\n      <td>0.0</td>\n      <td>...</td>\n      <td>1.0</td>\n      <td>2.0</td>\n      <td>0.0</td>\n      <td>0.0</td>\n      <td>0.0</td>\n      <td>0.0</td>\n      <td>1.0</td>\n      <td>4.0</td>\n      <td>-2.0</td>\n      <td>202403120OKC</td>\n    </tr>\n    <tr>\n      <th>995</th>\n      <td>Jarace WalkerJ. Walker</td>\n      <td>6:51</td>\n      <td>1.0</td>\n      <td>2.0</td>\n      <td>50.0</td>\n      <td>1.0</td>\n      <td>2.0</td>\n      <td>50.0</td>\n      <td>0.0</td>\n      <td>0.0</td>\n      <td>...</td>\n      <td>1.0</td>\n      <td>2.0</td>\n      <td>0.0</td>\n      <td>0.0</td>\n      <td>0.0</td>\n      <td>0.0</td>\n      <td>0.0</td>\n      <td>3.0</td>\n      <td>5.0</td>\n      <td>202403120OKC</td>\n    </tr>\n  </tbody>\n</table>\n<p>731 rows × 22 columns</p>\n</div>"
     },
     "execution_count": 131,
     "metadata": {},
     "output_type": "execute_result"
    }
   ],
   "source": [
    "box_player"
   ],
   "metadata": {
    "collapsed": false,
    "ExecuteTime": {
     "end_time": "2024-03-21T16:53:19.534616Z",
     "start_time": "2024-03-21T16:53:19.479145800Z"
    }
   },
   "id": "a4711c86a79dc691"
  },
  {
   "cell_type": "code",
   "execution_count": 105,
   "outputs": [
    {
     "data": {
      "text/plain": "                              PLAYER    MIN  SCREEN\\nAST  SCREEN\\nAST PTS  \\\n0     Bennedict MathurinB. MathurinF  25:50            1                2   \n1               Obi ToppinO. ToppinF  19:14            2                5   \n2             Myles TurnerM. TurnerC  23:20            7               16   \n3               Bruce BrownB. BrownG  27:12            0                0   \n4    Tyrese HaliburtonT. HaliburtonG  26:54            0                0   \n..                               ...    ...          ...              ...   \n792              Obi ToppinO. Toppin  18:39            0                0   \n793              Jalen SmithJ. Smith  17:58            3                6   \n794       T.J. McConnellT. McConnell  17:29            0                0   \n795          Ben SheppardB. Sheppard  17:27            0                0   \n796           Jarace WalkerJ. Walker   6:51            0                0   \n\n     deflections  OFF LOOSE BALLS\\nRECOVERED  DEF LOOSE BALLS\\nRECOVERED  \\\n0              3                           0                           0   \n1              1                           0                           1   \n2              0                           0                           0   \n3              1                           0                           0   \n4              2                           0                           0   \n..           ...                         ...                         ...   \n792            0                           0                           0   \n793            0                           0                           0   \n794            3                           0                           0   \n795            0                           0                           0   \n796            0                           0                           0   \n\n     LOOSE BALLS\\nRECOVERED  CHARGES\\nDRAWN  CONTESTED\\n2PT SHOTS  \\\n0                         0               0                     1   \n1                         1               0                     3   \n2                         0               0                     6   \n3                         0               0                     3   \n4                         0               0                     2   \n..                      ...             ...                   ...   \n792                       0               0                     1   \n793                       0               0                     1   \n794                       0               0                     0   \n795                       0               0                     2   \n796                       0               0                     1   \n\n     CONTESTED\\n3PT SHOTS  CONTESTED\\nSHOTS  OFF\\nBOX OUTS  DEF\\nBOX OUTS  \\\n0                       2                 3              0              1   \n1                       0                 3              0              1   \n2                       2                 8              0              2   \n3                       3                 6              0              0   \n4                       1                 3              0              0   \n..                    ...               ...            ...            ...   \n792                     1                 2              0              0   \n793                     0                 1              0              1   \n794                     1                 1              0              0   \n795                     0                 2              0              1   \n796                     0                 1              0              0   \n\n     BOX OUTS       Game ID  \n0           1  202310250IND  \n1           1  202310250IND  \n2           2  202310250IND  \n3           0  202310250IND  \n4           0  202310250IND  \n..        ...           ...  \n792         0  202403120OKC  \n793         1  202403120OKC  \n794         0  202403120OKC  \n795         1  202403120OKC  \n796         0  202403120OKC  \n\n[731 rows x 16 columns]",
      "text/html": "<div>\n<style scoped>\n    .dataframe tbody tr th:only-of-type {\n        vertical-align: middle;\n    }\n\n    .dataframe tbody tr th {\n        vertical-align: top;\n    }\n\n    .dataframe thead th {\n        text-align: right;\n    }\n</style>\n<table border=\"1\" class=\"dataframe\">\n  <thead>\n    <tr style=\"text-align: right;\">\n      <th></th>\n      <th>PLAYER</th>\n      <th>MIN</th>\n      <th>SCREEN\\nAST</th>\n      <th>SCREEN\\nAST PTS</th>\n      <th>deflections</th>\n      <th>OFF LOOSE BALLS\\nRECOVERED</th>\n      <th>DEF LOOSE BALLS\\nRECOVERED</th>\n      <th>LOOSE BALLS\\nRECOVERED</th>\n      <th>CHARGES\\nDRAWN</th>\n      <th>CONTESTED\\n2PT SHOTS</th>\n      <th>CONTESTED\\n3PT SHOTS</th>\n      <th>CONTESTED\\nSHOTS</th>\n      <th>OFF\\nBOX OUTS</th>\n      <th>DEF\\nBOX OUTS</th>\n      <th>BOX OUTS</th>\n      <th>Game ID</th>\n    </tr>\n  </thead>\n  <tbody>\n    <tr>\n      <th>0</th>\n      <td>Bennedict MathurinB. MathurinF</td>\n      <td>25:50</td>\n      <td>1</td>\n      <td>2</td>\n      <td>3</td>\n      <td>0</td>\n      <td>0</td>\n      <td>0</td>\n      <td>0</td>\n      <td>1</td>\n      <td>2</td>\n      <td>3</td>\n      <td>0</td>\n      <td>1</td>\n      <td>1</td>\n      <td>202310250IND</td>\n    </tr>\n    <tr>\n      <th>1</th>\n      <td>Obi ToppinO. ToppinF</td>\n      <td>19:14</td>\n      <td>2</td>\n      <td>5</td>\n      <td>1</td>\n      <td>0</td>\n      <td>1</td>\n      <td>1</td>\n      <td>0</td>\n      <td>3</td>\n      <td>0</td>\n      <td>3</td>\n      <td>0</td>\n      <td>1</td>\n      <td>1</td>\n      <td>202310250IND</td>\n    </tr>\n    <tr>\n      <th>2</th>\n      <td>Myles TurnerM. TurnerC</td>\n      <td>23:20</td>\n      <td>7</td>\n      <td>16</td>\n      <td>0</td>\n      <td>0</td>\n      <td>0</td>\n      <td>0</td>\n      <td>0</td>\n      <td>6</td>\n      <td>2</td>\n      <td>8</td>\n      <td>0</td>\n      <td>2</td>\n      <td>2</td>\n      <td>202310250IND</td>\n    </tr>\n    <tr>\n      <th>3</th>\n      <td>Bruce BrownB. BrownG</td>\n      <td>27:12</td>\n      <td>0</td>\n      <td>0</td>\n      <td>1</td>\n      <td>0</td>\n      <td>0</td>\n      <td>0</td>\n      <td>0</td>\n      <td>3</td>\n      <td>3</td>\n      <td>6</td>\n      <td>0</td>\n      <td>0</td>\n      <td>0</td>\n      <td>202310250IND</td>\n    </tr>\n    <tr>\n      <th>4</th>\n      <td>Tyrese HaliburtonT. HaliburtonG</td>\n      <td>26:54</td>\n      <td>0</td>\n      <td>0</td>\n      <td>2</td>\n      <td>0</td>\n      <td>0</td>\n      <td>0</td>\n      <td>0</td>\n      <td>2</td>\n      <td>1</td>\n      <td>3</td>\n      <td>0</td>\n      <td>0</td>\n      <td>0</td>\n      <td>202310250IND</td>\n    </tr>\n    <tr>\n      <th>...</th>\n      <td>...</td>\n      <td>...</td>\n      <td>...</td>\n      <td>...</td>\n      <td>...</td>\n      <td>...</td>\n      <td>...</td>\n      <td>...</td>\n      <td>...</td>\n      <td>...</td>\n      <td>...</td>\n      <td>...</td>\n      <td>...</td>\n      <td>...</td>\n      <td>...</td>\n      <td>...</td>\n    </tr>\n    <tr>\n      <th>792</th>\n      <td>Obi ToppinO. Toppin</td>\n      <td>18:39</td>\n      <td>0</td>\n      <td>0</td>\n      <td>0</td>\n      <td>0</td>\n      <td>0</td>\n      <td>0</td>\n      <td>0</td>\n      <td>1</td>\n      <td>1</td>\n      <td>2</td>\n      <td>0</td>\n      <td>0</td>\n      <td>0</td>\n      <td>202403120OKC</td>\n    </tr>\n    <tr>\n      <th>793</th>\n      <td>Jalen SmithJ. Smith</td>\n      <td>17:58</td>\n      <td>3</td>\n      <td>6</td>\n      <td>0</td>\n      <td>0</td>\n      <td>0</td>\n      <td>0</td>\n      <td>0</td>\n      <td>1</td>\n      <td>0</td>\n      <td>1</td>\n      <td>0</td>\n      <td>1</td>\n      <td>1</td>\n      <td>202403120OKC</td>\n    </tr>\n    <tr>\n      <th>794</th>\n      <td>T.J. McConnellT. McConnell</td>\n      <td>17:29</td>\n      <td>0</td>\n      <td>0</td>\n      <td>3</td>\n      <td>0</td>\n      <td>0</td>\n      <td>0</td>\n      <td>0</td>\n      <td>0</td>\n      <td>1</td>\n      <td>1</td>\n      <td>0</td>\n      <td>0</td>\n      <td>0</td>\n      <td>202403120OKC</td>\n    </tr>\n    <tr>\n      <th>795</th>\n      <td>Ben SheppardB. Sheppard</td>\n      <td>17:27</td>\n      <td>0</td>\n      <td>0</td>\n      <td>0</td>\n      <td>0</td>\n      <td>0</td>\n      <td>0</td>\n      <td>0</td>\n      <td>2</td>\n      <td>0</td>\n      <td>2</td>\n      <td>0</td>\n      <td>1</td>\n      <td>1</td>\n      <td>202403120OKC</td>\n    </tr>\n    <tr>\n      <th>796</th>\n      <td>Jarace WalkerJ. Walker</td>\n      <td>6:51</td>\n      <td>0</td>\n      <td>0</td>\n      <td>0</td>\n      <td>0</td>\n      <td>0</td>\n      <td>0</td>\n      <td>0</td>\n      <td>1</td>\n      <td>0</td>\n      <td>1</td>\n      <td>0</td>\n      <td>0</td>\n      <td>0</td>\n      <td>202403120OKC</td>\n    </tr>\n  </tbody>\n</table>\n<p>731 rows × 16 columns</p>\n</div>"
     },
     "execution_count": 105,
     "metadata": {},
     "output_type": "execute_result"
    }
   ],
   "source": [
    "hustle_player = hustle[~hustle['PLAYER'].str.contains('TOTALS')]\n",
    "hustle_player"
   ],
   "metadata": {
    "collapsed": false,
    "ExecuteTime": {
     "end_time": "2024-03-21T16:39:11.655650500Z",
     "start_time": "2024-03-21T16:39:11.626322700Z"
    }
   },
   "id": "8c0c820223baf997"
  },
  {
   "cell_type": "code",
   "execution_count": 132,
   "outputs": [
    {
     "data": {
      "text/plain": "                              PLAYER    MIN  OFFRTG  DEFRTG  NETRTG  AST%  \\\n0     Bennedict MathurinB. MathurinF  25:50   127.4   106.6    20.9  20.0   \n1               Obi ToppinO. ToppinF  19:14   137.0   121.7    15.2   5.3   \n2             Myles TurnerM. TurnerC  23:20   137.0   109.1    27.9   4.2   \n3               Bruce BrownB. BrownG  27:12   141.0   112.7    28.3   3.8   \n4    Tyrese HaliburtonT. HaliburtonG  26:54   125.0   115.6     9.4  52.4   \n..                               ...    ...     ...     ...     ...   ...   \n991              Obi ToppinO. Toppin  18:39    97.6   100.0    -2.4   7.7   \n992              Jalen SmithJ. Smith  17:58   110.3   108.1     2.1  21.4   \n993       T.J. McConnellT. McConnell  17:29   113.2   111.1     2.0  33.3   \n994          Ben SheppardB. Sheppard  17:27   110.3   121.6   -11.4   0.0   \n995           Jarace WalkerJ. Walker   6:51   157.1   121.4    35.7   0.0   \n\n     AST/TO  AST RATIO  OREB%  DREB%  REB%  TO RATIO   EFG%    TS%  USG%  \\\n0       2.5       20.8    0.0   13.8   7.4       8.3   46.7   53.7  27.5   \n1       0.0       10.0    5.0   17.6  10.8       0.0   55.6   58.3  17.0   \n2       0.5        8.3    0.0   29.6  18.2      16.7   62.5   61.9  19.3   \n3       1.0        7.1    4.2    6.7   5.6       7.1  100.0  101.0  18.8   \n4       3.7       36.7    0.0   10.3   5.2      10.0   62.5   62.5  25.7   \n..      ...        ...    ...    ...   ...       ...    ...    ...   ...   \n991     0.0       11.1    4.5   15.0   9.5       0.0   66.7   64.4  17.4   \n992     3.0       30.0    5.6   32.0  20.9      10.0   40.0   51.0  16.3   \n993     4.0       30.8    0.0    0.0   0.0       7.7   56.3   56.3  21.4   \n994     0.0        0.0    5.9    4.8   5.3       0.0   40.0   40.0  11.9   \n995     0.0        0.0   25.0   11.1  15.4       0.0   75.0   75.0  13.3   \n\n       PACE   PIE       Game ID  \n0    114.26  11.7  202310250IND  \n1    114.80   9.8  202310250IND  \n2    112.11   8.5  202310250IND  \n3    109.41  12.7  202310250IND  \n4    114.21  16.8  202310250IND  \n..      ...   ...           ...  \n991  104.24  12.6  202403120OKC  \n992  101.52  16.5  202403120OKC  \n993  101.58  11.3  202403120OKC  \n994  104.53   1.7  202403120OKC  \n995   98.10   8.8  202403120OKC  \n\n[731 rows x 18 columns]",
      "text/html": "<div>\n<style scoped>\n    .dataframe tbody tr th:only-of-type {\n        vertical-align: middle;\n    }\n\n    .dataframe tbody tr th {\n        vertical-align: top;\n    }\n\n    .dataframe thead th {\n        text-align: right;\n    }\n</style>\n<table border=\"1\" class=\"dataframe\">\n  <thead>\n    <tr style=\"text-align: right;\">\n      <th></th>\n      <th>PLAYER</th>\n      <th>MIN</th>\n      <th>OFFRTG</th>\n      <th>DEFRTG</th>\n      <th>NETRTG</th>\n      <th>AST%</th>\n      <th>AST/TO</th>\n      <th>AST RATIO</th>\n      <th>OREB%</th>\n      <th>DREB%</th>\n      <th>REB%</th>\n      <th>TO RATIO</th>\n      <th>EFG%</th>\n      <th>TS%</th>\n      <th>USG%</th>\n      <th>PACE</th>\n      <th>PIE</th>\n      <th>Game ID</th>\n    </tr>\n  </thead>\n  <tbody>\n    <tr>\n      <th>0</th>\n      <td>Bennedict MathurinB. MathurinF</td>\n      <td>25:50</td>\n      <td>127.4</td>\n      <td>106.6</td>\n      <td>20.9</td>\n      <td>20.0</td>\n      <td>2.5</td>\n      <td>20.8</td>\n      <td>0.0</td>\n      <td>13.8</td>\n      <td>7.4</td>\n      <td>8.3</td>\n      <td>46.7</td>\n      <td>53.7</td>\n      <td>27.5</td>\n      <td>114.26</td>\n      <td>11.7</td>\n      <td>202310250IND</td>\n    </tr>\n    <tr>\n      <th>1</th>\n      <td>Obi ToppinO. ToppinF</td>\n      <td>19:14</td>\n      <td>137.0</td>\n      <td>121.7</td>\n      <td>15.2</td>\n      <td>5.3</td>\n      <td>0.0</td>\n      <td>10.0</td>\n      <td>5.0</td>\n      <td>17.6</td>\n      <td>10.8</td>\n      <td>0.0</td>\n      <td>55.6</td>\n      <td>58.3</td>\n      <td>17.0</td>\n      <td>114.80</td>\n      <td>9.8</td>\n      <td>202310250IND</td>\n    </tr>\n    <tr>\n      <th>2</th>\n      <td>Myles TurnerM. TurnerC</td>\n      <td>23:20</td>\n      <td>137.0</td>\n      <td>109.1</td>\n      <td>27.9</td>\n      <td>4.2</td>\n      <td>0.5</td>\n      <td>8.3</td>\n      <td>0.0</td>\n      <td>29.6</td>\n      <td>18.2</td>\n      <td>16.7</td>\n      <td>62.5</td>\n      <td>61.9</td>\n      <td>19.3</td>\n      <td>112.11</td>\n      <td>8.5</td>\n      <td>202310250IND</td>\n    </tr>\n    <tr>\n      <th>3</th>\n      <td>Bruce BrownB. BrownG</td>\n      <td>27:12</td>\n      <td>141.0</td>\n      <td>112.7</td>\n      <td>28.3</td>\n      <td>3.8</td>\n      <td>1.0</td>\n      <td>7.1</td>\n      <td>4.2</td>\n      <td>6.7</td>\n      <td>5.6</td>\n      <td>7.1</td>\n      <td>100.0</td>\n      <td>101.0</td>\n      <td>18.8</td>\n      <td>109.41</td>\n      <td>12.7</td>\n      <td>202310250IND</td>\n    </tr>\n    <tr>\n      <th>4</th>\n      <td>Tyrese HaliburtonT. HaliburtonG</td>\n      <td>26:54</td>\n      <td>125.0</td>\n      <td>115.6</td>\n      <td>9.4</td>\n      <td>52.4</td>\n      <td>3.7</td>\n      <td>36.7</td>\n      <td>0.0</td>\n      <td>10.3</td>\n      <td>5.2</td>\n      <td>10.0</td>\n      <td>62.5</td>\n      <td>62.5</td>\n      <td>25.7</td>\n      <td>114.21</td>\n      <td>16.8</td>\n      <td>202310250IND</td>\n    </tr>\n    <tr>\n      <th>...</th>\n      <td>...</td>\n      <td>...</td>\n      <td>...</td>\n      <td>...</td>\n      <td>...</td>\n      <td>...</td>\n      <td>...</td>\n      <td>...</td>\n      <td>...</td>\n      <td>...</td>\n      <td>...</td>\n      <td>...</td>\n      <td>...</td>\n      <td>...</td>\n      <td>...</td>\n      <td>...</td>\n      <td>...</td>\n      <td>...</td>\n    </tr>\n    <tr>\n      <th>991</th>\n      <td>Obi ToppinO. Toppin</td>\n      <td>18:39</td>\n      <td>97.6</td>\n      <td>100.0</td>\n      <td>-2.4</td>\n      <td>7.7</td>\n      <td>0.0</td>\n      <td>11.1</td>\n      <td>4.5</td>\n      <td>15.0</td>\n      <td>9.5</td>\n      <td>0.0</td>\n      <td>66.7</td>\n      <td>64.4</td>\n      <td>17.4</td>\n      <td>104.24</td>\n      <td>12.6</td>\n      <td>202403120OKC</td>\n    </tr>\n    <tr>\n      <th>992</th>\n      <td>Jalen SmithJ. Smith</td>\n      <td>17:58</td>\n      <td>110.3</td>\n      <td>108.1</td>\n      <td>2.1</td>\n      <td>21.4</td>\n      <td>3.0</td>\n      <td>30.0</td>\n      <td>5.6</td>\n      <td>32.0</td>\n      <td>20.9</td>\n      <td>10.0</td>\n      <td>40.0</td>\n      <td>51.0</td>\n      <td>16.3</td>\n      <td>101.52</td>\n      <td>16.5</td>\n      <td>202403120OKC</td>\n    </tr>\n    <tr>\n      <th>993</th>\n      <td>T.J. McConnellT. McConnell</td>\n      <td>17:29</td>\n      <td>113.2</td>\n      <td>111.1</td>\n      <td>2.0</td>\n      <td>33.3</td>\n      <td>4.0</td>\n      <td>30.8</td>\n      <td>0.0</td>\n      <td>0.0</td>\n      <td>0.0</td>\n      <td>7.7</td>\n      <td>56.3</td>\n      <td>56.3</td>\n      <td>21.4</td>\n      <td>101.58</td>\n      <td>11.3</td>\n      <td>202403120OKC</td>\n    </tr>\n    <tr>\n      <th>994</th>\n      <td>Ben SheppardB. Sheppard</td>\n      <td>17:27</td>\n      <td>110.3</td>\n      <td>121.6</td>\n      <td>-11.4</td>\n      <td>0.0</td>\n      <td>0.0</td>\n      <td>0.0</td>\n      <td>5.9</td>\n      <td>4.8</td>\n      <td>5.3</td>\n      <td>0.0</td>\n      <td>40.0</td>\n      <td>40.0</td>\n      <td>11.9</td>\n      <td>104.53</td>\n      <td>1.7</td>\n      <td>202403120OKC</td>\n    </tr>\n    <tr>\n      <th>995</th>\n      <td>Jarace WalkerJ. Walker</td>\n      <td>6:51</td>\n      <td>157.1</td>\n      <td>121.4</td>\n      <td>35.7</td>\n      <td>0.0</td>\n      <td>0.0</td>\n      <td>0.0</td>\n      <td>25.0</td>\n      <td>11.1</td>\n      <td>15.4</td>\n      <td>0.0</td>\n      <td>75.0</td>\n      <td>75.0</td>\n      <td>13.3</td>\n      <td>98.10</td>\n      <td>8.8</td>\n      <td>202403120OKC</td>\n    </tr>\n  </tbody>\n</table>\n<p>731 rows × 18 columns</p>\n</div>"
     },
     "execution_count": 132,
     "metadata": {},
     "output_type": "execute_result"
    }
   ],
   "source": [
    "advanced_player = advanced[~advanced['PLAYER'].str.contains('TOTALS')]\n",
    "advanced_player = advanced_player.dropna(subset=['OFFRTG'])\n",
    "advanced_player"
   ],
   "metadata": {
    "collapsed": false,
    "ExecuteTime": {
     "end_time": "2024-03-21T16:53:26.495477Z",
     "start_time": "2024-03-21T16:53:26.437189800Z"
    }
   },
   "id": "be460cf3aeffa90e"
  },
  {
   "cell_type": "code",
   "execution_count": 133,
   "outputs": [
    {
     "name": "stderr",
     "output_type": "stream",
     "text": [
      "C:\\Users\\user\\AppData\\Local\\Temp\\ipykernel_30156\\28321686.py:18: SettingWithCopyWarning: \n",
      "A value is trying to be set on a copy of a slice from a DataFrame.\n",
      "Try using .loc[row_indexer,col_indexer] = value instead\n",
      "\n",
      "See the caveats in the documentation: https://pandas.pydata.org/pandas-docs/stable/user_guide/indexing.html#returning-a-view-versus-a-copy\n",
      "  hustle_player['PLAYER'] = hustle_player['PLAYER'].apply(clean_pos_name)\n"
     ]
    }
   ],
   "source": [
    "# Define a function to clean the player names\n",
    "def clean_pos_name(player):\n",
    "    # Remove the last character if it is an uppercase letter\n",
    "    if player[-1].isupper():\n",
    "        player = player[:-1]\n",
    "    return player\n",
    "# Define a function to clean the player names\n",
    "def clean_player_name(player):\n",
    "    # Split the player name by the last \".\" and keep one letter in front\n",
    "    parts = player.rsplit('.', 1)\n",
    "    if len(parts) > 1:\n",
    "        cleaned_name = parts[-2][-1] + '.' + parts[-1]\n",
    "    else:\n",
    "        cleaned_name = player\n",
    "    return cleaned_name\n",
    "\n",
    "# Apply the function to the 'PLAYER' column\n",
    "hustle_player['PLAYER'] = hustle_player['PLAYER'].apply(clean_pos_name)"
   ],
   "metadata": {
    "collapsed": false,
    "ExecuteTime": {
     "end_time": "2024-03-21T16:53:34.259877200Z",
     "start_time": "2024-03-21T16:53:34.236821100Z"
    }
   },
   "id": "5379ef084c88aa8b"
  },
  {
   "cell_type": "code",
   "execution_count": 112,
   "outputs": [
    {
     "name": "stdout",
     "output_type": "stream",
     "text": [
      "['B. Mathurin' 'O. Toppin' 'M. Turner' 'B. Brown' 'T. Haliburton'\n",
      " 'J. Smith' 'B. Hield' 'A. Nembhard' 'A. Nesmith' 'I. Jackson'\n",
      " 'T. McConnell' 'J. Nwora' 'J. Walker' 'B. Sheppard' 'D. Theis'\n",
      " 'J. Johnson' 'K. Brown' 'O. Tshiebwe' 'P. Siakam' 'D. McDermott']\n"
     ]
    },
    {
     "name": "stderr",
     "output_type": "stream",
     "text": [
      "C:\\Users\\user\\AppData\\Local\\Temp\\ipykernel_30156\\1164326175.py:2: SettingWithCopyWarning: \n",
      "A value is trying to be set on a copy of a slice from a DataFrame.\n",
      "Try using .loc[row_indexer,col_indexer] = value instead\n",
      "\n",
      "See the caveats in the documentation: https://pandas.pydata.org/pandas-docs/stable/user_guide/indexing.html#returning-a-view-versus-a-copy\n",
      "  hustle_player['PLAYER'] = hustle_player['PLAYER'].apply(clean_pos_name)\n",
      "C:\\Users\\user\\AppData\\Local\\Temp\\ipykernel_30156\\1164326175.py:4: SettingWithCopyWarning: \n",
      "A value is trying to be set on a copy of a slice from a DataFrame.\n",
      "Try using .loc[row_indexer,col_indexer] = value instead\n",
      "\n",
      "See the caveats in the documentation: https://pandas.pydata.org/pandas-docs/stable/user_guide/indexing.html#returning-a-view-versus-a-copy\n",
      "  hustle_player['PLAYER'] = hustle_player['PLAYER'].apply(clean_player_name)\n"
     ]
    }
   ],
   "source": [
    "# Apply the function to the 'PLAYER' column\n",
    "hustle_player['PLAYER'] = hustle_player['PLAYER'].apply(clean_pos_name)\n",
    "# Apply the function to the 'PLAYER' column\n",
    "hustle_player['PLAYER'] = hustle_player['PLAYER'].apply(clean_player_name)\n",
    "print(hustle_player['PLAYER'].unique())"
   ],
   "metadata": {
    "collapsed": false,
    "ExecuteTime": {
     "end_time": "2024-03-21T16:42:58.352294700Z",
     "start_time": "2024-03-21T16:42:58.262599600Z"
    }
   },
   "id": "37a27aadf10c179e"
  },
  {
   "cell_type": "code",
   "execution_count": 134,
   "outputs": [
    {
     "name": "stdout",
     "output_type": "stream",
     "text": [
      "['B. Mathurin' 'O. Toppin' 'M. Turner' 'B. Brown' 'T. Haliburton'\n",
      " 'J. Smith' 'B. Hield' 'A. Nembhard' 'A. Nesmith' 'I. Jackson'\n",
      " 'T. McConnell' 'J. Nwora' 'J. Walker' 'B. Sheppard' 'D. Theis'\n",
      " 'J. Johnson' 'K. Brown' 'O. Tshiebwe' 'P. Siakam' 'D. McDermott']\n"
     ]
    }
   ],
   "source": [
    "# Apply the function to the 'PLAYER' column\n",
    "box_player['PLAYER'] = box_player['PLAYER'].apply(clean_pos_name)\n",
    "# Apply the function to the 'PLAYER' column\n",
    "box_player['PLAYER'] = box_player['PLAYER'].apply(clean_player_name)\n",
    "print(box_player['PLAYER'].unique())"
   ],
   "metadata": {
    "collapsed": false,
    "ExecuteTime": {
     "end_time": "2024-03-21T16:53:39.264532200Z",
     "start_time": "2024-03-21T16:53:39.244580Z"
    }
   },
   "id": "d21745dc63255c8e"
  },
  {
   "cell_type": "code",
   "execution_count": 135,
   "outputs": [],
   "source": [
    "# Apply the function to the 'PLAYER' column\n",
    "advanced_player['PLAYER'] = advanced_player['PLAYER'].apply(clean_pos_name)\n",
    "# Apply the function to the 'PLAYER' column\n",
    "advanced_player['PLAYER'] = advanced_player['PLAYER'].apply(clean_player_name)"
   ],
   "metadata": {
    "collapsed": false,
    "ExecuteTime": {
     "end_time": "2024-03-21T16:53:42.098841500Z",
     "start_time": "2024-03-21T16:53:42.075112900Z"
    }
   },
   "id": "e870ce7ee611f954"
  },
  {
   "cell_type": "code",
   "execution_count": 119,
   "outputs": [
    {
     "data": {
      "text/plain": "            PLAYER  MIN_x  FGM   FGA   FG%  3PM  3PA    3P%  FTM  FTA  ...  \\\n0      B. Mathurin  25:50  6.0  15.0  40.0  2.0  6.0   33.3  4.0  4.0  ...   \n1        O. Toppin  19:14  4.0   9.0  44.4  2.0  5.0   40.0  1.0  1.0  ...   \n2        M. Turner  23:20  5.0   8.0  62.5  0.0  2.0    0.0  1.0  2.0  ...   \n3         B. Brown  27:12  8.0  11.0  72.7  6.0  8.0   75.0  2.0  2.0  ...   \n4    T. Haliburton  26:54  9.0  16.0  56.3  2.0  6.0   33.3  0.0  0.0  ...   \n..             ...    ...  ...   ...   ...  ...  ...    ...  ...  ...  ...   \n716      O. Toppin  18:39  4.0   6.0  66.7  0.0  1.0    0.0  2.0  4.0  ...   \n717       J. Smith  17:58  2.0   5.0  40.0  0.0  2.0    0.0  2.0  2.0  ...   \n718   T. McConnell  17:29  4.0   8.0  50.0  1.0  1.0  100.0  0.0  0.0  ...   \n719    B. Sheppard  17:27  2.0   5.0  40.0  0.0  3.0    0.0  0.0  0.0  ...   \n720      J. Walker   6:51  1.0   2.0  50.0  1.0  2.0   50.0  0.0  0.0  ...   \n\n     AST RATIO  OREB%  DREB%  REB%  TO RATIO   EFG%    TS%  USG%    PACE   PIE  \n0         20.8    0.0   13.8   7.4       8.3   46.7   53.7  27.5  114.26  11.7  \n1         10.0    5.0   17.6  10.8       0.0   55.6   58.3  17.0  114.80   9.8  \n2          8.3    0.0   29.6  18.2      16.7   62.5   61.9  19.3  112.11   8.5  \n3          7.1    4.2    6.7   5.6       7.1  100.0  101.0  18.8  109.41  12.7  \n4         36.7    0.0   10.3   5.2      10.0   62.5   62.5  25.7  114.21  16.8  \n..         ...    ...    ...   ...       ...    ...    ...   ...     ...   ...  \n716       11.1    4.5   15.0   9.5       0.0   66.7   64.4  17.4  104.24  12.6  \n717       30.0    5.6   32.0  20.9      10.0   40.0   51.0  16.3  101.52  16.5  \n718       30.8    0.0    0.0   0.0       7.7   56.3   56.3  21.4  101.58  11.3  \n719        0.0    5.9    4.8   5.3       0.0   40.0   40.0  11.9  104.53   1.7  \n720        0.0   25.0   11.1  15.4       0.0   75.0   75.0  13.3   98.10   8.8  \n\n[721 rows x 52 columns]",
      "text/html": "<div>\n<style scoped>\n    .dataframe tbody tr th:only-of-type {\n        vertical-align: middle;\n    }\n\n    .dataframe tbody tr th {\n        vertical-align: top;\n    }\n\n    .dataframe thead th {\n        text-align: right;\n    }\n</style>\n<table border=\"1\" class=\"dataframe\">\n  <thead>\n    <tr style=\"text-align: right;\">\n      <th></th>\n      <th>PLAYER</th>\n      <th>MIN_x</th>\n      <th>FGM</th>\n      <th>FGA</th>\n      <th>FG%</th>\n      <th>3PM</th>\n      <th>3PA</th>\n      <th>3P%</th>\n      <th>FTM</th>\n      <th>FTA</th>\n      <th>...</th>\n      <th>AST RATIO</th>\n      <th>OREB%</th>\n      <th>DREB%</th>\n      <th>REB%</th>\n      <th>TO RATIO</th>\n      <th>EFG%</th>\n      <th>TS%</th>\n      <th>USG%</th>\n      <th>PACE</th>\n      <th>PIE</th>\n    </tr>\n  </thead>\n  <tbody>\n    <tr>\n      <th>0</th>\n      <td>B. Mathurin</td>\n      <td>25:50</td>\n      <td>6.0</td>\n      <td>15.0</td>\n      <td>40.0</td>\n      <td>2.0</td>\n      <td>6.0</td>\n      <td>33.3</td>\n      <td>4.0</td>\n      <td>4.0</td>\n      <td>...</td>\n      <td>20.8</td>\n      <td>0.0</td>\n      <td>13.8</td>\n      <td>7.4</td>\n      <td>8.3</td>\n      <td>46.7</td>\n      <td>53.7</td>\n      <td>27.5</td>\n      <td>114.26</td>\n      <td>11.7</td>\n    </tr>\n    <tr>\n      <th>1</th>\n      <td>O. Toppin</td>\n      <td>19:14</td>\n      <td>4.0</td>\n      <td>9.0</td>\n      <td>44.4</td>\n      <td>2.0</td>\n      <td>5.0</td>\n      <td>40.0</td>\n      <td>1.0</td>\n      <td>1.0</td>\n      <td>...</td>\n      <td>10.0</td>\n      <td>5.0</td>\n      <td>17.6</td>\n      <td>10.8</td>\n      <td>0.0</td>\n      <td>55.6</td>\n      <td>58.3</td>\n      <td>17.0</td>\n      <td>114.80</td>\n      <td>9.8</td>\n    </tr>\n    <tr>\n      <th>2</th>\n      <td>M. Turner</td>\n      <td>23:20</td>\n      <td>5.0</td>\n      <td>8.0</td>\n      <td>62.5</td>\n      <td>0.0</td>\n      <td>2.0</td>\n      <td>0.0</td>\n      <td>1.0</td>\n      <td>2.0</td>\n      <td>...</td>\n      <td>8.3</td>\n      <td>0.0</td>\n      <td>29.6</td>\n      <td>18.2</td>\n      <td>16.7</td>\n      <td>62.5</td>\n      <td>61.9</td>\n      <td>19.3</td>\n      <td>112.11</td>\n      <td>8.5</td>\n    </tr>\n    <tr>\n      <th>3</th>\n      <td>B. Brown</td>\n      <td>27:12</td>\n      <td>8.0</td>\n      <td>11.0</td>\n      <td>72.7</td>\n      <td>6.0</td>\n      <td>8.0</td>\n      <td>75.0</td>\n      <td>2.0</td>\n      <td>2.0</td>\n      <td>...</td>\n      <td>7.1</td>\n      <td>4.2</td>\n      <td>6.7</td>\n      <td>5.6</td>\n      <td>7.1</td>\n      <td>100.0</td>\n      <td>101.0</td>\n      <td>18.8</td>\n      <td>109.41</td>\n      <td>12.7</td>\n    </tr>\n    <tr>\n      <th>4</th>\n      <td>T. Haliburton</td>\n      <td>26:54</td>\n      <td>9.0</td>\n      <td>16.0</td>\n      <td>56.3</td>\n      <td>2.0</td>\n      <td>6.0</td>\n      <td>33.3</td>\n      <td>0.0</td>\n      <td>0.0</td>\n      <td>...</td>\n      <td>36.7</td>\n      <td>0.0</td>\n      <td>10.3</td>\n      <td>5.2</td>\n      <td>10.0</td>\n      <td>62.5</td>\n      <td>62.5</td>\n      <td>25.7</td>\n      <td>114.21</td>\n      <td>16.8</td>\n    </tr>\n    <tr>\n      <th>...</th>\n      <td>...</td>\n      <td>...</td>\n      <td>...</td>\n      <td>...</td>\n      <td>...</td>\n      <td>...</td>\n      <td>...</td>\n      <td>...</td>\n      <td>...</td>\n      <td>...</td>\n      <td>...</td>\n      <td>...</td>\n      <td>...</td>\n      <td>...</td>\n      <td>...</td>\n      <td>...</td>\n      <td>...</td>\n      <td>...</td>\n      <td>...</td>\n      <td>...</td>\n      <td>...</td>\n    </tr>\n    <tr>\n      <th>716</th>\n      <td>O. Toppin</td>\n      <td>18:39</td>\n      <td>4.0</td>\n      <td>6.0</td>\n      <td>66.7</td>\n      <td>0.0</td>\n      <td>1.0</td>\n      <td>0.0</td>\n      <td>2.0</td>\n      <td>4.0</td>\n      <td>...</td>\n      <td>11.1</td>\n      <td>4.5</td>\n      <td>15.0</td>\n      <td>9.5</td>\n      <td>0.0</td>\n      <td>66.7</td>\n      <td>64.4</td>\n      <td>17.4</td>\n      <td>104.24</td>\n      <td>12.6</td>\n    </tr>\n    <tr>\n      <th>717</th>\n      <td>J. Smith</td>\n      <td>17:58</td>\n      <td>2.0</td>\n      <td>5.0</td>\n      <td>40.0</td>\n      <td>0.0</td>\n      <td>2.0</td>\n      <td>0.0</td>\n      <td>2.0</td>\n      <td>2.0</td>\n      <td>...</td>\n      <td>30.0</td>\n      <td>5.6</td>\n      <td>32.0</td>\n      <td>20.9</td>\n      <td>10.0</td>\n      <td>40.0</td>\n      <td>51.0</td>\n      <td>16.3</td>\n      <td>101.52</td>\n      <td>16.5</td>\n    </tr>\n    <tr>\n      <th>718</th>\n      <td>T. McConnell</td>\n      <td>17:29</td>\n      <td>4.0</td>\n      <td>8.0</td>\n      <td>50.0</td>\n      <td>1.0</td>\n      <td>1.0</td>\n      <td>100.0</td>\n      <td>0.0</td>\n      <td>0.0</td>\n      <td>...</td>\n      <td>30.8</td>\n      <td>0.0</td>\n      <td>0.0</td>\n      <td>0.0</td>\n      <td>7.7</td>\n      <td>56.3</td>\n      <td>56.3</td>\n      <td>21.4</td>\n      <td>101.58</td>\n      <td>11.3</td>\n    </tr>\n    <tr>\n      <th>719</th>\n      <td>B. Sheppard</td>\n      <td>17:27</td>\n      <td>2.0</td>\n      <td>5.0</td>\n      <td>40.0</td>\n      <td>0.0</td>\n      <td>3.0</td>\n      <td>0.0</td>\n      <td>0.0</td>\n      <td>0.0</td>\n      <td>...</td>\n      <td>0.0</td>\n      <td>5.9</td>\n      <td>4.8</td>\n      <td>5.3</td>\n      <td>0.0</td>\n      <td>40.0</td>\n      <td>40.0</td>\n      <td>11.9</td>\n      <td>104.53</td>\n      <td>1.7</td>\n    </tr>\n    <tr>\n      <th>720</th>\n      <td>J. Walker</td>\n      <td>6:51</td>\n      <td>1.0</td>\n      <td>2.0</td>\n      <td>50.0</td>\n      <td>1.0</td>\n      <td>2.0</td>\n      <td>50.0</td>\n      <td>0.0</td>\n      <td>0.0</td>\n      <td>...</td>\n      <td>0.0</td>\n      <td>25.0</td>\n      <td>11.1</td>\n      <td>15.4</td>\n      <td>0.0</td>\n      <td>75.0</td>\n      <td>75.0</td>\n      <td>13.3</td>\n      <td>98.10</td>\n      <td>8.8</td>\n    </tr>\n  </tbody>\n</table>\n<p>721 rows × 52 columns</p>\n</div>"
     },
     "execution_count": 119,
     "metadata": {},
     "output_type": "execute_result"
    }
   ],
   "source": [
    "# Merge box_player and hustle_player on 'PLAYER' and 'Game ID' columns\n",
    "merged_data = pd.merge(pd.merge(box_player, hustle_player, on=['PLAYER', 'Game ID']), advanced_player, on=['PLAYER', 'Game ID'])\n",
    "merged_data"
   ],
   "metadata": {
    "collapsed": false,
    "ExecuteTime": {
     "end_time": "2024-03-21T16:45:45.078079100Z",
     "start_time": "2024-03-21T16:45:44.982911200Z"
    }
   },
   "id": "e7e89b7cf1820d71"
  },
  {
   "cell_type": "code",
   "execution_count": 122,
   "outputs": [
    {
     "data": {
      "text/plain": "            PLAYER MIN_box  FGM   FGA   FG%  3PM  3PA    3P%  FTM  FTA  ...  \\\n0      B. Mathurin   25:50  6.0  15.0  40.0  2.0  6.0   33.3  4.0  4.0  ...   \n1        O. Toppin   19:14  4.0   9.0  44.4  2.0  5.0   40.0  1.0  1.0  ...   \n2        M. Turner   23:20  5.0   8.0  62.5  0.0  2.0    0.0  1.0  2.0  ...   \n3         B. Brown   27:12  8.0  11.0  72.7  6.0  8.0   75.0  2.0  2.0  ...   \n4    T. Haliburton   26:54  9.0  16.0  56.3  2.0  6.0   33.3  0.0  0.0  ...   \n..             ...     ...  ...   ...   ...  ...  ...    ...  ...  ...  ...   \n726      O. Toppin   18:39  4.0   6.0  66.7  0.0  1.0    0.0  2.0  4.0  ...   \n727       J. Smith   17:58  2.0   5.0  40.0  0.0  2.0    0.0  2.0  2.0  ...   \n728   T. McConnell   17:29  4.0   8.0  50.0  1.0  1.0  100.0  0.0  0.0  ...   \n729    B. Sheppard   17:27  2.0   5.0  40.0  0.0  3.0    0.0  0.0  0.0  ...   \n730      J. Walker    6:51  1.0   2.0  50.0  1.0  2.0   50.0  0.0  0.0  ...   \n\n     OFF LOOSE BALLS\\nRECOVERED  DEF LOOSE BALLS\\nRECOVERED  \\\n0                             0                           0   \n1                             0                           1   \n2                             0                           0   \n3                             0                           0   \n4                             0                           0   \n..                          ...                         ...   \n726                           0                           0   \n727                           0                           0   \n728                           0                           0   \n729                           0                           0   \n730                           0                           0   \n\n     LOOSE BALLS\\nRECOVERED  CHARGES\\nDRAWN  CONTESTED\\n2PT SHOTS  \\\n0                         0               0                     1   \n1                         1               0                     3   \n2                         0               0                     6   \n3                         0               0                     3   \n4                         0               0                     2   \n..                      ...             ...                   ...   \n726                       0               0                     1   \n727                       0               0                     1   \n728                       0               0                     0   \n729                       0               0                     2   \n730                       0               0                     1   \n\n     CONTESTED\\n3PT SHOTS  CONTESTED\\nSHOTS  OFF\\nBOX OUTS  DEF\\nBOX OUTS  \\\n0                       2                 3              0              1   \n1                       0                 3              0              1   \n2                       2                 8              0              2   \n3                       3                 6              0              0   \n4                       1                 3              0              0   \n..                    ...               ...            ...            ...   \n726                     1                 2              0              0   \n727                     0                 1              0              1   \n728                     1                 1              0              0   \n729                     0                 2              0              1   \n730                     0                 1              0              0   \n\n     BOX OUTS  \n0           1  \n1           1  \n2           2  \n3           0  \n4           0  \n..        ...  \n726         0  \n727         1  \n728         0  \n729         1  \n730         0  \n\n[731 rows x 36 columns]",
      "text/html": "<div>\n<style scoped>\n    .dataframe tbody tr th:only-of-type {\n        vertical-align: middle;\n    }\n\n    .dataframe tbody tr th {\n        vertical-align: top;\n    }\n\n    .dataframe thead th {\n        text-align: right;\n    }\n</style>\n<table border=\"1\" class=\"dataframe\">\n  <thead>\n    <tr style=\"text-align: right;\">\n      <th></th>\n      <th>PLAYER</th>\n      <th>MIN_box</th>\n      <th>FGM</th>\n      <th>FGA</th>\n      <th>FG%</th>\n      <th>3PM</th>\n      <th>3PA</th>\n      <th>3P%</th>\n      <th>FTM</th>\n      <th>FTA</th>\n      <th>...</th>\n      <th>OFF LOOSE BALLS\\nRECOVERED</th>\n      <th>DEF LOOSE BALLS\\nRECOVERED</th>\n      <th>LOOSE BALLS\\nRECOVERED</th>\n      <th>CHARGES\\nDRAWN</th>\n      <th>CONTESTED\\n2PT SHOTS</th>\n      <th>CONTESTED\\n3PT SHOTS</th>\n      <th>CONTESTED\\nSHOTS</th>\n      <th>OFF\\nBOX OUTS</th>\n      <th>DEF\\nBOX OUTS</th>\n      <th>BOX OUTS</th>\n    </tr>\n  </thead>\n  <tbody>\n    <tr>\n      <th>0</th>\n      <td>B. Mathurin</td>\n      <td>25:50</td>\n      <td>6.0</td>\n      <td>15.0</td>\n      <td>40.0</td>\n      <td>2.0</td>\n      <td>6.0</td>\n      <td>33.3</td>\n      <td>4.0</td>\n      <td>4.0</td>\n      <td>...</td>\n      <td>0</td>\n      <td>0</td>\n      <td>0</td>\n      <td>0</td>\n      <td>1</td>\n      <td>2</td>\n      <td>3</td>\n      <td>0</td>\n      <td>1</td>\n      <td>1</td>\n    </tr>\n    <tr>\n      <th>1</th>\n      <td>O. Toppin</td>\n      <td>19:14</td>\n      <td>4.0</td>\n      <td>9.0</td>\n      <td>44.4</td>\n      <td>2.0</td>\n      <td>5.0</td>\n      <td>40.0</td>\n      <td>1.0</td>\n      <td>1.0</td>\n      <td>...</td>\n      <td>0</td>\n      <td>1</td>\n      <td>1</td>\n      <td>0</td>\n      <td>3</td>\n      <td>0</td>\n      <td>3</td>\n      <td>0</td>\n      <td>1</td>\n      <td>1</td>\n    </tr>\n    <tr>\n      <th>2</th>\n      <td>M. Turner</td>\n      <td>23:20</td>\n      <td>5.0</td>\n      <td>8.0</td>\n      <td>62.5</td>\n      <td>0.0</td>\n      <td>2.0</td>\n      <td>0.0</td>\n      <td>1.0</td>\n      <td>2.0</td>\n      <td>...</td>\n      <td>0</td>\n      <td>0</td>\n      <td>0</td>\n      <td>0</td>\n      <td>6</td>\n      <td>2</td>\n      <td>8</td>\n      <td>0</td>\n      <td>2</td>\n      <td>2</td>\n    </tr>\n    <tr>\n      <th>3</th>\n      <td>B. Brown</td>\n      <td>27:12</td>\n      <td>8.0</td>\n      <td>11.0</td>\n      <td>72.7</td>\n      <td>6.0</td>\n      <td>8.0</td>\n      <td>75.0</td>\n      <td>2.0</td>\n      <td>2.0</td>\n      <td>...</td>\n      <td>0</td>\n      <td>0</td>\n      <td>0</td>\n      <td>0</td>\n      <td>3</td>\n      <td>3</td>\n      <td>6</td>\n      <td>0</td>\n      <td>0</td>\n      <td>0</td>\n    </tr>\n    <tr>\n      <th>4</th>\n      <td>T. Haliburton</td>\n      <td>26:54</td>\n      <td>9.0</td>\n      <td>16.0</td>\n      <td>56.3</td>\n      <td>2.0</td>\n      <td>6.0</td>\n      <td>33.3</td>\n      <td>0.0</td>\n      <td>0.0</td>\n      <td>...</td>\n      <td>0</td>\n      <td>0</td>\n      <td>0</td>\n      <td>0</td>\n      <td>2</td>\n      <td>1</td>\n      <td>3</td>\n      <td>0</td>\n      <td>0</td>\n      <td>0</td>\n    </tr>\n    <tr>\n      <th>...</th>\n      <td>...</td>\n      <td>...</td>\n      <td>...</td>\n      <td>...</td>\n      <td>...</td>\n      <td>...</td>\n      <td>...</td>\n      <td>...</td>\n      <td>...</td>\n      <td>...</td>\n      <td>...</td>\n      <td>...</td>\n      <td>...</td>\n      <td>...</td>\n      <td>...</td>\n      <td>...</td>\n      <td>...</td>\n      <td>...</td>\n      <td>...</td>\n      <td>...</td>\n      <td>...</td>\n    </tr>\n    <tr>\n      <th>726</th>\n      <td>O. Toppin</td>\n      <td>18:39</td>\n      <td>4.0</td>\n      <td>6.0</td>\n      <td>66.7</td>\n      <td>0.0</td>\n      <td>1.0</td>\n      <td>0.0</td>\n      <td>2.0</td>\n      <td>4.0</td>\n      <td>...</td>\n      <td>0</td>\n      <td>0</td>\n      <td>0</td>\n      <td>0</td>\n      <td>1</td>\n      <td>1</td>\n      <td>2</td>\n      <td>0</td>\n      <td>0</td>\n      <td>0</td>\n    </tr>\n    <tr>\n      <th>727</th>\n      <td>J. Smith</td>\n      <td>17:58</td>\n      <td>2.0</td>\n      <td>5.0</td>\n      <td>40.0</td>\n      <td>0.0</td>\n      <td>2.0</td>\n      <td>0.0</td>\n      <td>2.0</td>\n      <td>2.0</td>\n      <td>...</td>\n      <td>0</td>\n      <td>0</td>\n      <td>0</td>\n      <td>0</td>\n      <td>1</td>\n      <td>0</td>\n      <td>1</td>\n      <td>0</td>\n      <td>1</td>\n      <td>1</td>\n    </tr>\n    <tr>\n      <th>728</th>\n      <td>T. McConnell</td>\n      <td>17:29</td>\n      <td>4.0</td>\n      <td>8.0</td>\n      <td>50.0</td>\n      <td>1.0</td>\n      <td>1.0</td>\n      <td>100.0</td>\n      <td>0.0</td>\n      <td>0.0</td>\n      <td>...</td>\n      <td>0</td>\n      <td>0</td>\n      <td>0</td>\n      <td>0</td>\n      <td>0</td>\n      <td>1</td>\n      <td>1</td>\n      <td>0</td>\n      <td>0</td>\n      <td>0</td>\n    </tr>\n    <tr>\n      <th>729</th>\n      <td>B. Sheppard</td>\n      <td>17:27</td>\n      <td>2.0</td>\n      <td>5.0</td>\n      <td>40.0</td>\n      <td>0.0</td>\n      <td>3.0</td>\n      <td>0.0</td>\n      <td>0.0</td>\n      <td>0.0</td>\n      <td>...</td>\n      <td>0</td>\n      <td>0</td>\n      <td>0</td>\n      <td>0</td>\n      <td>2</td>\n      <td>0</td>\n      <td>2</td>\n      <td>0</td>\n      <td>1</td>\n      <td>1</td>\n    </tr>\n    <tr>\n      <th>730</th>\n      <td>J. Walker</td>\n      <td>6:51</td>\n      <td>1.0</td>\n      <td>2.0</td>\n      <td>50.0</td>\n      <td>1.0</td>\n      <td>2.0</td>\n      <td>50.0</td>\n      <td>0.0</td>\n      <td>0.0</td>\n      <td>...</td>\n      <td>0</td>\n      <td>0</td>\n      <td>0</td>\n      <td>0</td>\n      <td>1</td>\n      <td>0</td>\n      <td>1</td>\n      <td>0</td>\n      <td>0</td>\n      <td>0</td>\n    </tr>\n  </tbody>\n</table>\n<p>731 rows × 36 columns</p>\n</div>"
     },
     "execution_count": 122,
     "metadata": {},
     "output_type": "execute_result"
    }
   ],
   "source": [
    "merged_data = pd.merge(box_player, hustle_player, on=['PLAYER', 'Game ID'], suffixes=('_box', '_hustle'))\n",
    "merged_data"
   ],
   "metadata": {
    "collapsed": false,
    "ExecuteTime": {
     "end_time": "2024-03-21T16:47:42.281014400Z",
     "start_time": "2024-03-21T16:47:42.151060600Z"
    }
   },
   "id": "8f3a42845f23620d"
  },
  {
   "cell_type": "code",
   "execution_count": 136,
   "outputs": [
    {
     "name": "stdout",
     "output_type": "stream",
     "text": [
      "            PLAYER  MIN_x   FGM   FGA   FG%  3PM   3PA    3P%  FTM  FTA  ...  \\\n",
      "150       B. Hield  38:28   7.0  15.0  46.7  5.0  11.0   45.5  1.0  1.0  ...   \n",
      "151      O. Toppin  24:28   1.0   6.0  16.7  0.0   3.0    0.0  1.0  2.0  ...   \n",
      "152      M. Turner  29:19   9.0  11.0  81.8  2.0   4.0   50.0  4.0  4.0  ...   \n",
      "153    A. Nembhard  36:24   8.0  10.0  80.0  1.0   1.0  100.0  0.0  0.0  ...   \n",
      "154  T. Haliburton  39:54  12.0  22.0  54.5  3.0   5.0   60.0  2.0  3.0  ...   \n",
      "155    B. Mathurin  16:18   1.0   5.0  20.0  0.0   2.0    0.0  0.0  0.0  ...   \n",
      "156       J. Smith  14:38   4.0   5.0  80.0  3.0   4.0   75.0  0.0  1.0  ...   \n",
      "157     A. Nesmith  27:45   1.0   5.0  20.0  1.0   4.0   25.0  0.0  0.0  ...   \n",
      "158     I. Jackson   5:56   0.0   2.0   0.0  0.0   0.0    0.0  0.0  0.0  ...   \n",
      "159   T. McConnell   6:50   0.0   1.0   0.0  0.0   0.0    0.0  1.0  2.0  ...   \n",
      "731       B. Hield    NaN   NaN   NaN   NaN  NaN   NaN    NaN  NaN  NaN  ...   \n",
      "732      O. Toppin    NaN   NaN   NaN   NaN  NaN   NaN    NaN  NaN  NaN  ...   \n",
      "733      M. Turner    NaN   NaN   NaN   NaN  NaN   NaN    NaN  NaN  NaN  ...   \n",
      "734    A. Nembhard    NaN   NaN   NaN   NaN  NaN   NaN    NaN  NaN  NaN  ...   \n",
      "735  T. Haliburton    NaN   NaN   NaN   NaN  NaN   NaN    NaN  NaN  NaN  ...   \n",
      "736    B. Mathurin    NaN   NaN   NaN   NaN  NaN   NaN    NaN  NaN  NaN  ...   \n",
      "737       J. Smith    NaN   NaN   NaN   NaN  NaN   NaN    NaN  NaN  NaN  ...   \n",
      "738     A. Nesmith    NaN   NaN   NaN   NaN  NaN   NaN    NaN  NaN  NaN  ...   \n",
      "739     I. Jackson    NaN   NaN   NaN   NaN  NaN   NaN    NaN  NaN  NaN  ...   \n",
      "740   T. McConnell    NaN   NaN   NaN   NaN  NaN   NaN    NaN  NaN  NaN  ...   \n",
      "\n",
      "     OREB%  DREB%  REB%  TO RATIO   EFG%    TS%  USG%    PACE   PIE  \\\n",
      "150    NaN    NaN   NaN       NaN    NaN    NaN   NaN     NaN   NaN   \n",
      "151    NaN    NaN   NaN       NaN    NaN    NaN   NaN     NaN   NaN   \n",
      "152    NaN    NaN   NaN       NaN    NaN    NaN   NaN     NaN   NaN   \n",
      "153    NaN    NaN   NaN       NaN    NaN    NaN   NaN     NaN   NaN   \n",
      "154    NaN    NaN   NaN       NaN    NaN    NaN   NaN     NaN   NaN   \n",
      "155    NaN    NaN   NaN       NaN    NaN    NaN   NaN     NaN   NaN   \n",
      "156    NaN    NaN   NaN       NaN    NaN    NaN   NaN     NaN   NaN   \n",
      "157    NaN    NaN   NaN       NaN    NaN    NaN   NaN     NaN   NaN   \n",
      "158    NaN    NaN   NaN       NaN    NaN    NaN   NaN     NaN   NaN   \n",
      "159    NaN    NaN   NaN       NaN    NaN    NaN   NaN     NaN   NaN   \n",
      "731    3.4   18.8  11.5      11.1   63.3   64.8  21.0   94.84   8.8   \n",
      "732    0.0   28.6  14.3       0.0   16.7   21.8  12.5   98.09   1.7   \n",
      "733    4.8   22.2  14.6       7.1   90.9   94.0  22.6   93.33  21.5   \n",
      "734    3.7    0.0   1.8       6.3   85.0   85.0  14.3   92.31  11.5   \n",
      "735    0.0    6.3   3.1       7.5   61.4   62.2  28.7   95.04  19.4   \n",
      "736    0.0   16.7   6.7      14.3   20.0   20.0  14.6  104.54  -1.6   \n",
      "737    7.7   12.5   9.5      25.0  110.0  101.1  22.6   96.77   7.0   \n",
      "738    3.8    9.1   6.3      36.4   30.0   30.0  14.8   94.27  -3.8   \n",
      "739   22.2   20.0  21.4       0.0    0.0    0.0  12.5  101.12 -22.2   \n",
      "740    0.0    0.0   0.0      20.0    0.0   26.6  17.6  105.37   0.0   \n",
      "\n",
      "         _merge  \n",
      "150   left_only  \n",
      "151   left_only  \n",
      "152   left_only  \n",
      "153   left_only  \n",
      "154   left_only  \n",
      "155   left_only  \n",
      "156   left_only  \n",
      "157   left_only  \n",
      "158   left_only  \n",
      "159   left_only  \n",
      "731  right_only  \n",
      "732  right_only  \n",
      "733  right_only  \n",
      "734  right_only  \n",
      "735  right_only  \n",
      "736  right_only  \n",
      "737  right_only  \n",
      "738  right_only  \n",
      "739  right_only  \n",
      "740  right_only  \n",
      "\n",
      "[20 rows x 39 columns]\n"
     ]
    }
   ],
   "source": [
    "# Merge box_player and advanced_player on 'PLAYER' and 'Game ID' columns\n",
    "merged_data = pd.merge(box_player, advanced_player, on=['PLAYER', 'Game ID'], how='outer', indicator=True)\n",
    "\n",
    "# Filter rows that didn't merge from both sides (left_only and right_only)\n",
    "unmerged_rows = merged_data[merged_data['_merge'] != 'both']\n",
    "\n",
    "# Display the unmerged rows\n",
    "print(unmerged_rows)"
   ],
   "metadata": {
    "collapsed": false,
    "ExecuteTime": {
     "end_time": "2024-03-21T16:53:49.643656100Z",
     "start_time": "2024-03-21T16:53:49.533428900Z"
    }
   },
   "id": "a402b9e3d97b8f51"
  },
  {
   "cell_type": "code",
   "execution_count": 137,
   "outputs": [
    {
     "name": "stdout",
     "output_type": "stream",
     "text": [
      "            PLAYER    MIN  OFFRTG  DEFRTG  NETRTG  AST%  AST/TO  AST RATIO  \\\n",
      "0      B. Mathurin  25:50   127.4   106.6    20.9  20.0     2.5       20.8   \n",
      "1        O. Toppin  19:14   137.0   121.7    15.2   5.3     0.0       10.0   \n",
      "2        M. Turner  23:20   137.0   109.1    27.9   4.2     0.5        8.3   \n",
      "3         B. Brown  27:12   141.0   112.7    28.3   3.8     1.0        7.1   \n",
      "4    T. Haliburton  26:54   125.0   115.6     9.4  52.4     3.7       36.7   \n",
      "..             ...    ...     ...     ...     ...   ...     ...        ...   \n",
      "991      O. Toppin  18:39    97.6   100.0    -2.4   7.7     0.0       11.1   \n",
      "992       J. Smith  17:58   110.3   108.1     2.1  21.4     3.0       30.0   \n",
      "993   T. McConnell  17:29   113.2   111.1     2.0  33.3     4.0       30.8   \n",
      "994    B. Sheppard  17:27   110.3   121.6   -11.4   0.0     0.0        0.0   \n",
      "995      J. Walker   6:51   157.1   121.4    35.7   0.0     0.0        0.0   \n",
      "\n",
      "     OREB%  DREB%  REB%  TO RATIO   EFG%    TS%  USG%    PACE   PIE  \\\n",
      "0      0.0   13.8   7.4       8.3   46.7   53.7  27.5  114.26  11.7   \n",
      "1      5.0   17.6  10.8       0.0   55.6   58.3  17.0  114.80   9.8   \n",
      "2      0.0   29.6  18.2      16.7   62.5   61.9  19.3  112.11   8.5   \n",
      "3      4.2    6.7   5.6       7.1  100.0  101.0  18.8  109.41  12.7   \n",
      "4      0.0   10.3   5.2      10.0   62.5   62.5  25.7  114.21  16.8   \n",
      "..     ...    ...   ...       ...    ...    ...   ...     ...   ...   \n",
      "991    4.5   15.0   9.5       0.0   66.7   64.4  17.4  104.24  12.6   \n",
      "992    5.6   32.0  20.9      10.0   40.0   51.0  16.3  101.52  16.5   \n",
      "993    0.0    0.0   0.0       7.7   56.3   56.3  21.4  101.58  11.3   \n",
      "994    5.9    4.8   5.3       0.0   40.0   40.0  11.9  104.53   1.7   \n",
      "995   25.0   11.1  15.4       0.0   75.0   75.0  13.3   98.10   8.8   \n",
      "\n",
      "          Game ID  \n",
      "0    202310250IND  \n",
      "1    202310250IND  \n",
      "2    202310250IND  \n",
      "3    202310250IND  \n",
      "4    202310250IND  \n",
      "..            ...  \n",
      "991  202403120OKC  \n",
      "992  202403120OKC  \n",
      "993  202403120OKC  \n",
      "994  202403120OKC  \n",
      "995  202403120OKC  \n",
      "\n",
      "[731 rows x 18 columns]\n"
     ]
    }
   ],
   "source": [
    "print(advanced_player)"
   ],
   "metadata": {
    "collapsed": false,
    "ExecuteTime": {
     "end_time": "2024-03-21T16:55:45.401988500Z",
     "start_time": "2024-03-21T16:55:45.348912200Z"
    }
   },
   "id": "4c593a959fe461c9"
  },
  {
   "cell_type": "code",
   "execution_count": null,
   "outputs": [],
   "source": [],
   "metadata": {
    "collapsed": false
   },
   "id": "dfa867787048347e"
  }
 ],
 "metadata": {
  "kernelspec": {
   "display_name": "Python 3",
   "language": "python",
   "name": "python3"
  },
  "language_info": {
   "codemirror_mode": {
    "name": "ipython",
    "version": 2
   },
   "file_extension": ".py",
   "mimetype": "text/x-python",
   "name": "python",
   "nbconvert_exporter": "python",
   "pygments_lexer": "ipython2",
   "version": "2.7.6"
  }
 },
 "nbformat": 4,
 "nbformat_minor": 5
}
