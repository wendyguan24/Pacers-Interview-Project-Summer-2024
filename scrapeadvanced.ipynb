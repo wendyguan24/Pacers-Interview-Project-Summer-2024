{
 "cells": [
  {
   "cell_type": "code",
   "execution_count": 96,
   "id": "initial_id",
   "metadata": {
    "collapsed": true,
    "ExecuteTime": {
     "end_time": "2024-03-21T16:08:34.483469900Z",
     "start_time": "2024-03-21T16:08:34.463479200Z"
    }
   },
   "outputs": [],
   "source": [
    "from selenium import webdriver\n",
    "from bs4 import BeautifulSoup\n",
    "import pandas as pd"
   ]
  },
  {
   "cell_type": "code",
   "execution_count": 97,
   "outputs": [
    {
     "data": {
      "text/plain": "     G      Date                                                Web Away  \\\n0    1  20231025  https://www.nba.com/game/was-vs-ind-0022300064...  NaN   \n1    2  20231028  https://www.nba.com/game/ind-vs-cle-0022300091...    @   \n2    3  20231030  https://www.nba.com/game/chi-vs-ind-0022300102...  NaN   \n3    4  20231101  https://www.nba.com/game/ind-vs-bos-0022300118...    @   \n4    5  20231103  https://www.nba.com/game/cle-vs-ind-0022300001...  NaN   \n..  ..       ...                                                ...  ...   \n62  63  20240305  https://www.nba.com/game/ind-vs-dal-0022300892...    @   \n63  64  20240307  https://www.nba.com/game/min-vs-ind-0022300903...  NaN   \n64  65  20240310  https://www.nba.com/game/ind-vs-orl-0022300928...    @   \n65  66  20240312  https://www.nba.com/game/ind-vs-okc-0022300941...    @   \n66  67  20240313  https://www.nba.com/game/chi-vs-ind-0022300948...  NaN   \n\n   Opponent W/L  Pacers  Opp                 Notes       Game ID  \n0       WAS   W     143  120                   NaN  202310250IND  \n1       CLE   W     125  113                   NaN  202310280CLE  \n2       CHI   L     105  112                   NaN  202310300IND  \n3       BOS   L     104  155                   NaN  202311010BOS  \n4       CLE   W     121  116  In-Season Tournament  202311030IND  \n..      ...  ..     ...  ...                   ...           ...  \n62      DAL   W     137  120                   NaN  202403050DAL  \n63      MIN   L     111  113                   NaN  202403070IND  \n64      ORL   W     111   97                   NaN  202403100ORL  \n65      OKC   W     121  111                   NaN  202403120OKC  \n66      CHI   L     129  132                   NaN  202403130IND  \n\n[67 rows x 10 columns]",
      "text/html": "<div>\n<style scoped>\n    .dataframe tbody tr th:only-of-type {\n        vertical-align: middle;\n    }\n\n    .dataframe tbody tr th {\n        vertical-align: top;\n    }\n\n    .dataframe thead th {\n        text-align: right;\n    }\n</style>\n<table border=\"1\" class=\"dataframe\">\n  <thead>\n    <tr style=\"text-align: right;\">\n      <th></th>\n      <th>G</th>\n      <th>Date</th>\n      <th>Web</th>\n      <th>Away</th>\n      <th>Opponent</th>\n      <th>W/L</th>\n      <th>Pacers</th>\n      <th>Opp</th>\n      <th>Notes</th>\n      <th>Game ID</th>\n    </tr>\n  </thead>\n  <tbody>\n    <tr>\n      <th>0</th>\n      <td>1</td>\n      <td>20231025</td>\n      <td>https://www.nba.com/game/was-vs-ind-0022300064...</td>\n      <td>NaN</td>\n      <td>WAS</td>\n      <td>W</td>\n      <td>143</td>\n      <td>120</td>\n      <td>NaN</td>\n      <td>202310250IND</td>\n    </tr>\n    <tr>\n      <th>1</th>\n      <td>2</td>\n      <td>20231028</td>\n      <td>https://www.nba.com/game/ind-vs-cle-0022300091...</td>\n      <td>@</td>\n      <td>CLE</td>\n      <td>W</td>\n      <td>125</td>\n      <td>113</td>\n      <td>NaN</td>\n      <td>202310280CLE</td>\n    </tr>\n    <tr>\n      <th>2</th>\n      <td>3</td>\n      <td>20231030</td>\n      <td>https://www.nba.com/game/chi-vs-ind-0022300102...</td>\n      <td>NaN</td>\n      <td>CHI</td>\n      <td>L</td>\n      <td>105</td>\n      <td>112</td>\n      <td>NaN</td>\n      <td>202310300IND</td>\n    </tr>\n    <tr>\n      <th>3</th>\n      <td>4</td>\n      <td>20231101</td>\n      <td>https://www.nba.com/game/ind-vs-bos-0022300118...</td>\n      <td>@</td>\n      <td>BOS</td>\n      <td>L</td>\n      <td>104</td>\n      <td>155</td>\n      <td>NaN</td>\n      <td>202311010BOS</td>\n    </tr>\n    <tr>\n      <th>4</th>\n      <td>5</td>\n      <td>20231103</td>\n      <td>https://www.nba.com/game/cle-vs-ind-0022300001...</td>\n      <td>NaN</td>\n      <td>CLE</td>\n      <td>W</td>\n      <td>121</td>\n      <td>116</td>\n      <td>In-Season Tournament</td>\n      <td>202311030IND</td>\n    </tr>\n    <tr>\n      <th>...</th>\n      <td>...</td>\n      <td>...</td>\n      <td>...</td>\n      <td>...</td>\n      <td>...</td>\n      <td>...</td>\n      <td>...</td>\n      <td>...</td>\n      <td>...</td>\n      <td>...</td>\n    </tr>\n    <tr>\n      <th>62</th>\n      <td>63</td>\n      <td>20240305</td>\n      <td>https://www.nba.com/game/ind-vs-dal-0022300892...</td>\n      <td>@</td>\n      <td>DAL</td>\n      <td>W</td>\n      <td>137</td>\n      <td>120</td>\n      <td>NaN</td>\n      <td>202403050DAL</td>\n    </tr>\n    <tr>\n      <th>63</th>\n      <td>64</td>\n      <td>20240307</td>\n      <td>https://www.nba.com/game/min-vs-ind-0022300903...</td>\n      <td>NaN</td>\n      <td>MIN</td>\n      <td>L</td>\n      <td>111</td>\n      <td>113</td>\n      <td>NaN</td>\n      <td>202403070IND</td>\n    </tr>\n    <tr>\n      <th>64</th>\n      <td>65</td>\n      <td>20240310</td>\n      <td>https://www.nba.com/game/ind-vs-orl-0022300928...</td>\n      <td>@</td>\n      <td>ORL</td>\n      <td>W</td>\n      <td>111</td>\n      <td>97</td>\n      <td>NaN</td>\n      <td>202403100ORL</td>\n    </tr>\n    <tr>\n      <th>65</th>\n      <td>66</td>\n      <td>20240312</td>\n      <td>https://www.nba.com/game/ind-vs-okc-0022300941...</td>\n      <td>@</td>\n      <td>OKC</td>\n      <td>W</td>\n      <td>121</td>\n      <td>111</td>\n      <td>NaN</td>\n      <td>202403120OKC</td>\n    </tr>\n    <tr>\n      <th>66</th>\n      <td>67</td>\n      <td>20240313</td>\n      <td>https://www.nba.com/game/chi-vs-ind-0022300948...</td>\n      <td>NaN</td>\n      <td>CHI</td>\n      <td>L</td>\n      <td>129</td>\n      <td>132</td>\n      <td>NaN</td>\n      <td>202403130IND</td>\n    </tr>\n  </tbody>\n</table>\n<p>67 rows × 10 columns</p>\n</div>"
     },
     "execution_count": 97,
     "metadata": {},
     "output_type": "execute_result"
    }
   ],
   "source": [
    "schedule = pd.read_csv(\"Schedule.csv\")\n",
    "schedule['Web'] = schedule['Web'].str.replace('#box-score$', '?type=advanced', regex=True)\n",
    "schedule"
   ],
   "metadata": {
    "collapsed": false,
    "ExecuteTime": {
     "end_time": "2024-03-21T16:08:35.948076200Z",
     "start_time": "2024-03-21T16:08:35.891282700Z"
    }
   },
   "id": "80ecf538976ac484"
  },
  {
   "cell_type": "code",
   "execution_count": 98,
   "outputs": [
    {
     "data": {
      "text/plain": "     G      Date                                                url Away  \\\n0    1  20231025  https://www.nba.com/game/was-vs-ind-0022300064...  NaN   \n1    2  20231028  https://www.nba.com/game/ind-vs-cle-0022300091...    @   \n2    3  20231030  https://www.nba.com/game/chi-vs-ind-0022300102...  NaN   \n3    4  20231101  https://www.nba.com/game/ind-vs-bos-0022300118...    @   \n4    5  20231103  https://www.nba.com/game/cle-vs-ind-0022300001...  NaN   \n..  ..       ...                                                ...  ...   \n62  63  20240305  https://www.nba.com/game/ind-vs-dal-0022300892...    @   \n63  64  20240307  https://www.nba.com/game/min-vs-ind-0022300903...  NaN   \n64  65  20240310  https://www.nba.com/game/ind-vs-orl-0022300928...    @   \n65  66  20240312  https://www.nba.com/game/ind-vs-okc-0022300941...    @   \n66  67  20240313  https://www.nba.com/game/chi-vs-ind-0022300948...  NaN   \n\n   Opponent W/L  Pacers  Opp                 Notes       Game ID  \n0       WAS   W     143  120                   NaN  202310250IND  \n1       CLE   W     125  113                   NaN  202310280CLE  \n2       CHI   L     105  112                   NaN  202310300IND  \n3       BOS   L     104  155                   NaN  202311010BOS  \n4       CLE   W     121  116  In-Season Tournament  202311030IND  \n..      ...  ..     ...  ...                   ...           ...  \n62      DAL   W     137  120                   NaN  202403050DAL  \n63      MIN   L     111  113                   NaN  202403070IND  \n64      ORL   W     111   97                   NaN  202403100ORL  \n65      OKC   W     121  111                   NaN  202403120OKC  \n66      CHI   L     129  132                   NaN  202403130IND  \n\n[67 rows x 10 columns]",
      "text/html": "<div>\n<style scoped>\n    .dataframe tbody tr th:only-of-type {\n        vertical-align: middle;\n    }\n\n    .dataframe tbody tr th {\n        vertical-align: top;\n    }\n\n    .dataframe thead th {\n        text-align: right;\n    }\n</style>\n<table border=\"1\" class=\"dataframe\">\n  <thead>\n    <tr style=\"text-align: right;\">\n      <th></th>\n      <th>G</th>\n      <th>Date</th>\n      <th>url</th>\n      <th>Away</th>\n      <th>Opponent</th>\n      <th>W/L</th>\n      <th>Pacers</th>\n      <th>Opp</th>\n      <th>Notes</th>\n      <th>Game ID</th>\n    </tr>\n  </thead>\n  <tbody>\n    <tr>\n      <th>0</th>\n      <td>1</td>\n      <td>20231025</td>\n      <td>https://www.nba.com/game/was-vs-ind-0022300064...</td>\n      <td>NaN</td>\n      <td>WAS</td>\n      <td>W</td>\n      <td>143</td>\n      <td>120</td>\n      <td>NaN</td>\n      <td>202310250IND</td>\n    </tr>\n    <tr>\n      <th>1</th>\n      <td>2</td>\n      <td>20231028</td>\n      <td>https://www.nba.com/game/ind-vs-cle-0022300091...</td>\n      <td>@</td>\n      <td>CLE</td>\n      <td>W</td>\n      <td>125</td>\n      <td>113</td>\n      <td>NaN</td>\n      <td>202310280CLE</td>\n    </tr>\n    <tr>\n      <th>2</th>\n      <td>3</td>\n      <td>20231030</td>\n      <td>https://www.nba.com/game/chi-vs-ind-0022300102...</td>\n      <td>NaN</td>\n      <td>CHI</td>\n      <td>L</td>\n      <td>105</td>\n      <td>112</td>\n      <td>NaN</td>\n      <td>202310300IND</td>\n    </tr>\n    <tr>\n      <th>3</th>\n      <td>4</td>\n      <td>20231101</td>\n      <td>https://www.nba.com/game/ind-vs-bos-0022300118...</td>\n      <td>@</td>\n      <td>BOS</td>\n      <td>L</td>\n      <td>104</td>\n      <td>155</td>\n      <td>NaN</td>\n      <td>202311010BOS</td>\n    </tr>\n    <tr>\n      <th>4</th>\n      <td>5</td>\n      <td>20231103</td>\n      <td>https://www.nba.com/game/cle-vs-ind-0022300001...</td>\n      <td>NaN</td>\n      <td>CLE</td>\n      <td>W</td>\n      <td>121</td>\n      <td>116</td>\n      <td>In-Season Tournament</td>\n      <td>202311030IND</td>\n    </tr>\n    <tr>\n      <th>...</th>\n      <td>...</td>\n      <td>...</td>\n      <td>...</td>\n      <td>...</td>\n      <td>...</td>\n      <td>...</td>\n      <td>...</td>\n      <td>...</td>\n      <td>...</td>\n      <td>...</td>\n    </tr>\n    <tr>\n      <th>62</th>\n      <td>63</td>\n      <td>20240305</td>\n      <td>https://www.nba.com/game/ind-vs-dal-0022300892...</td>\n      <td>@</td>\n      <td>DAL</td>\n      <td>W</td>\n      <td>137</td>\n      <td>120</td>\n      <td>NaN</td>\n      <td>202403050DAL</td>\n    </tr>\n    <tr>\n      <th>63</th>\n      <td>64</td>\n      <td>20240307</td>\n      <td>https://www.nba.com/game/min-vs-ind-0022300903...</td>\n      <td>NaN</td>\n      <td>MIN</td>\n      <td>L</td>\n      <td>111</td>\n      <td>113</td>\n      <td>NaN</td>\n      <td>202403070IND</td>\n    </tr>\n    <tr>\n      <th>64</th>\n      <td>65</td>\n      <td>20240310</td>\n      <td>https://www.nba.com/game/ind-vs-orl-0022300928...</td>\n      <td>@</td>\n      <td>ORL</td>\n      <td>W</td>\n      <td>111</td>\n      <td>97</td>\n      <td>NaN</td>\n      <td>202403100ORL</td>\n    </tr>\n    <tr>\n      <th>65</th>\n      <td>66</td>\n      <td>20240312</td>\n      <td>https://www.nba.com/game/ind-vs-okc-0022300941...</td>\n      <td>@</td>\n      <td>OKC</td>\n      <td>W</td>\n      <td>121</td>\n      <td>111</td>\n      <td>NaN</td>\n      <td>202403120OKC</td>\n    </tr>\n    <tr>\n      <th>66</th>\n      <td>67</td>\n      <td>20240313</td>\n      <td>https://www.nba.com/game/chi-vs-ind-0022300948...</td>\n      <td>NaN</td>\n      <td>CHI</td>\n      <td>L</td>\n      <td>129</td>\n      <td>132</td>\n      <td>NaN</td>\n      <td>202403130IND</td>\n    </tr>\n  </tbody>\n</table>\n<p>67 rows × 10 columns</p>\n</div>"
     },
     "execution_count": 98,
     "metadata": {},
     "output_type": "execute_result"
    }
   ],
   "source": [
    "schedule.rename(columns={'Web':'url'}, inplace =True)\n",
    "schedule"
   ],
   "metadata": {
    "collapsed": false,
    "ExecuteTime": {
     "end_time": "2024-03-21T16:08:41.529359400Z",
     "start_time": "2024-03-21T16:08:41.475971900Z"
    }
   },
   "id": "965c2032f95bade0"
  },
  {
   "cell_type": "code",
   "execution_count": 99,
   "outputs": [
    {
     "name": "stdout",
     "output_type": "stream",
     "text": [
      "Scraping data for Game ID: 202310250IND\n",
      "Scraping data for Game ID: 202310300IND\n",
      "Scraping data for Game ID: 202311030IND\n",
      "Scraping data for Game ID: 202311040IND\n",
      "Scraping data for Game ID: 202311060IND\n",
      "Scraping data for Game ID: 202311080IND\n",
      "Scraping data for Game ID: 202311090IND\n",
      "Scraping data for Game ID: 202311190IND\n",
      "Scraping data for Game ID: 202311220IND\n",
      "Scraping data for Game ID: 202311240IND\n",
      "Scraping data for Game ID: 202311270IND\n",
      "Scraping data for Game ID: 202312040IND\n",
      "Scraping data for Game ID: 202312180IND\n",
      "Scraping data for Game ID: 202312200IND\n",
      "Scraping data for Game ID: 202312230IND\n",
      "Page load timed out. Retrying...\n",
      "Failed to scrape data for Game ID: 202312230IND\n",
      "Scraping data for Game ID: 202312300IND\n",
      "Scraping data for Game ID: 202401030IND\n",
      "Scraping data for Game ID: 202401050IND\n",
      "Scraping data for Game ID: 202401060IND\n",
      "Scraping data for Game ID: 202401080IND\n",
      "Scraping data for Game ID: 202401100IND\n",
      "Scraping data for Game ID: 202401230IND\n",
      "Scraping data for Game ID: 202401250IND\n",
      "Scraping data for Game ID: 202401260IND\n",
      "Scraping data for Game ID: 202401280IND\n",
      "Scraping data for Game ID: 202402020IND\n",
      "Scraping data for Game ID: 202402060IND\n",
      "Scraping data for Game ID: 202402080IND\n",
      "Scraping data for Game ID: 202402220IND\n",
      "Scraping data for Game ID: 202402250IND\n",
      "Scraping data for Game ID: 202402260IND\n",
      "Scraping data for Game ID: 202402280IND\n",
      "Scraping data for Game ID: 202403070IND\n",
      "Scraping data for Game ID: 202403130IND\n",
      "                              PLAYER                     MIN OFFRTG DEFRTG  \\\n",
      "0     Bennedict MathurinB. MathurinF                   25:50  127.4  106.6   \n",
      "1               Obi ToppinO. ToppinF                   19:14  137.0  121.7   \n",
      "2             Myles TurnerM. TurnerC                   23:20  137.0  109.1   \n",
      "3               Bruce BrownB. BrownG                   27:12  141.0  112.7   \n",
      "4    Tyrese HaliburtonT. HaliburtonG                   26:54  125.0  115.6   \n",
      "..                               ...                     ...    ...    ...   \n",
      "497            Kendall BrownK. Brown  DNP - Coach's Decision   None   None   \n",
      "498        Quenton JacksonQ. Jackson  DNP - Coach's Decision   None   None   \n",
      "499          James JohnsonJ. Johnson  DNP - Coach's Decision   None   None   \n",
      "500        Oscar TshiebweO. Tshiebwe  DNP - Coach's Decision   None   None   \n",
      "501                           TOTALS                          116.2  118.9   \n",
      "\n",
      "    NETRTG  AST% AST/TO AST RATIO OREB% DREB%  REB% TO RATIO   EFG%    TS%  \\\n",
      "0     20.9  20.0    2.5      20.8   0.0  13.8   7.4      8.3   46.7   53.7   \n",
      "1     15.2   5.3    0.0      10.0   5.0  17.6  10.8      0.0   55.6   58.3   \n",
      "2     27.9   4.2    0.5       8.3   0.0  29.6  18.2     16.7   62.5   61.9   \n",
      "3     28.3   3.8    1.0       7.1   4.2   6.7   5.6      7.1  100.0  101.0   \n",
      "4      9.4  52.4    3.7      36.7   0.0  10.3   5.2     10.0   62.5   62.5   \n",
      "..     ...   ...    ...       ...   ...   ...   ...      ...    ...    ...   \n",
      "497   None  None   None      None  None  None  None     None   None   None   \n",
      "498   None  None   None      None  None  None  None     None   None   None   \n",
      "499   None  None   None      None  None  None  None     None   None   None   \n",
      "500   None  None   None      None  None  None  None     None   None   None   \n",
      "501   -2.7  65.2    3.3      20.0  23.2  81.6  50.5      8.1   53.5   57.9   \n",
      "\n",
      "     USG%    PACE   PIE       Game ID  \n",
      "0    27.5  114.26  11.7  202310250IND  \n",
      "1    17.0  114.80   9.8  202310250IND  \n",
      "2    19.3  112.11   8.5  202310250IND  \n",
      "3    18.8  109.41  12.7  202310250IND  \n",
      "4    25.7  114.21  16.8  202310250IND  \n",
      "..    ...     ...   ...           ...  \n",
      "497  None    None  None  202403130IND  \n",
      "498  None    None  None  202403130IND  \n",
      "499  None    None  None  202403130IND  \n",
      "500  None    None  None  202403130IND  \n",
      "501   100  100.53  48.4  202403130IND  \n",
      "\n",
      "[502 rows x 18 columns]\n"
     ]
    }
   ],
   "source": [
    "from selenium.webdriver.common.by import By\n",
    "from selenium.webdriver.support.ui import WebDriverWait\n",
    "from selenium.webdriver.support import expected_conditions as EC\n",
    "from selenium.common.exceptions import TimeoutException\n",
    "\n",
    "# Function to scrape data from a given URL\n",
    "def scrape_data(url):\n",
    "    try:\n",
    "        # chrome driver to scrape dynamic webpages\n",
    "        driver = webdriver.Chrome()\n",
    "        driver.get(url)\n",
    "\n",
    "        # Wait for the table to be present on the page\n",
    "        WebDriverWait(driver, 3).until(EC.presence_of_element_located((By.TAG_NAME, 'table')))\n",
    "\n",
    "        # beautiful soup to parse it\n",
    "        soup = BeautifulSoup(driver.page_source, 'html.parser')\n",
    "\n",
    "        # Find all tables on the page\n",
    "        tables = soup.find_all('table')\n",
    "\n",
    "        # Select the second table (indexing starts from 0)\n",
    "        t = tables[1]\n",
    "\n",
    "        # Extract headers and data from the table\n",
    "        headers = [i.text.strip() for i in t.find_all('th')]\n",
    "        data = [[i.text.strip() for i in b.find_all('td')] for b in t.find_all('tr')]\n",
    "\n",
    "        # Remove empty rows\n",
    "        data = [row for row in data if len(row) > 1]\n",
    "\n",
    "        # Create DataFrame\n",
    "        df = pd.DataFrame(data, columns=headers)\n",
    "\n",
    "        return df\n",
    "    except TimeoutException:\n",
    "        print(\"Page load timed out. Retrying...\")\n",
    "        return None\n",
    "    finally:\n",
    "        driver.quit()\n",
    "\n",
    "# Initialize an empty list to store DataFrames\n",
    "advancedhome_dfs = []\n",
    "\n",
    "# Iterate through the schedule DataFrame and scrape data for rows where \"Away\" is NaN\n",
    "for index, row in schedule.iterrows():\n",
    "    if pd.isna(row['Away']):\n",
    "        game_id = row['Game ID']\n",
    "        url = row['url']\n",
    "        print(f\"Scraping data for Game ID: {game_id}\")\n",
    "\n",
    "        # Attempt to scrape data from the URL\n",
    "        df = scrape_data(url)\n",
    "\n",
    "        if df is not None:\n",
    "            # Add Game ID to the DataFrame\n",
    "            df['Game ID'] = game_id\n",
    "\n",
    "            # Append the scraped DataFrame to the list\n",
    "            advancedhome_dfs.append(df)\n",
    "        else:\n",
    "            print(f\"Failed to scrape data for Game ID: {game_id}\")\n",
    "\n",
    "# Concatenate all scraped DataFrames into a single DataFrame\n",
    "advancedhome = pd.concat(advancedhome_dfs, ignore_index=True)\n",
    "\n",
    "# Display the combined DataFrame\n",
    "print(advancedhome)"
   ],
   "metadata": {
    "collapsed": false,
    "ExecuteTime": {
     "end_time": "2024-03-21T16:18:41.852790700Z",
     "start_time": "2024-03-21T16:08:47.690998300Z"
    }
   },
   "id": "8c844ca149091255"
  },
  {
   "cell_type": "code",
   "execution_count": 100,
   "outputs": [
    {
     "name": "stdout",
     "output_type": "stream",
     "text": [
      "Scraping data for URL: https://www.nba.com/game/orl-vs-ind-0022300391/box-score?type=advanced\n",
      "                              PLAYER                     MIN OFFRTG DEFRTG  \\\n",
      "0     Bennedict MathurinB. MathurinF                   25:50  127.4  106.6   \n",
      "1               Obi ToppinO. ToppinF                   19:14  137.0  121.7   \n",
      "2             Myles TurnerM. TurnerC                   23:20  137.0  109.1   \n",
      "3               Bruce BrownB. BrownG                   27:12  141.0  112.7   \n",
      "4    Tyrese HaliburtonT. HaliburtonG                   26:54  125.0  115.6   \n",
      "..                               ...                     ...    ...    ...   \n",
      "513          James JohnsonJ. Johnson  DNP - Coach's Decision   None   None   \n",
      "514             Jordan NworaJ. Nwora  DNP - Coach's Decision   None   None   \n",
      "515          Ben SheppardB. Sheppard  DNP - Coach's Decision   None   None   \n",
      "516           Jarace WalkerJ. Walker  DNP - Coach's Decision   None   None   \n",
      "517                           TOTALS                          114.6  124.5   \n",
      "\n",
      "    NETRTG  AST% AST/TO AST RATIO OREB% DREB%  REB% TO RATIO   EFG%    TS%  \\\n",
      "0     20.9  20.0    2.5      20.8   0.0  13.8   7.4      8.3   46.7   53.7   \n",
      "1     15.2   5.3    0.0      10.0   5.0  17.6  10.8      0.0   55.6   58.3   \n",
      "2     27.9   4.2    0.5       8.3   0.0  29.6  18.2     16.7   62.5   61.9   \n",
      "3     28.3   3.8    1.0       7.1   4.2   6.7   5.6      7.1  100.0  101.0   \n",
      "4      9.4  52.4    3.7      36.7   0.0  10.3   5.2     10.0   62.5   62.5   \n",
      "..     ...   ...    ...       ...   ...   ...   ...      ...    ...    ...   \n",
      "513   None  None   None      None  None  None  None     None   None   None   \n",
      "514   None  None   None      None  None  None  None     None   None   None   \n",
      "515   None  None   None      None  None  None  None     None   None   None   \n",
      "516   None  None   None      None  None  None  None     None   None   None   \n",
      "517   -9.9  62.8    1.8      20.8  22.0  71.8  46.3     15.6   61.6   62.7   \n",
      "\n",
      "     USG%    PACE   PIE       Game ID  \n",
      "0    27.5  114.26  11.7  202310250IND  \n",
      "1    17.0  114.80   9.8  202310250IND  \n",
      "2    19.3  112.11   8.5  202310250IND  \n",
      "3    18.8  109.41  12.7  202310250IND  \n",
      "4    25.7  114.21  16.8  202310250IND  \n",
      "..    ...     ...   ...           ...  \n",
      "513  None    None  None           NaN  \n",
      "514  None    None  None           NaN  \n",
      "515  None    None  None           NaN  \n",
      "516  None    None  None           NaN  \n",
      "517   100   95.00  44.7           NaN  \n",
      "\n",
      "[518 rows x 18 columns]\n"
     ]
    }
   ],
   "source": [
    "# Initialize empty lists to store the URLs\n",
    "failed_urls = []\n",
    "\n",
    "# Iterate through the schedule DataFrame to get the URLs for the failed games\n",
    "for index, row in schedule.iterrows():\n",
    "    if row['Game ID'] in ['202312230IND']:\n",
    "        failed_urls.append(row['url'])\n",
    "\n",
    "# Initialize an empty list to store DataFrames for the failed games\n",
    "failed_dfs = []\n",
    "\n",
    "# Scrape data for the failed games\n",
    "for url in failed_urls:\n",
    "    print(f\"Scraping data for URL: {url}\")\n",
    "\n",
    "    # Attempt to scrape data from the URL\n",
    "    df = scrape_data(url)\n",
    "\n",
    "    if df is not None:\n",
    "        # Append the scraped DataFrame to the list of failed ones\n",
    "        failed_dfs.append(df)\n",
    "    else:\n",
    "        print(f\"Failed to scrape data for URL: {url}\")\n",
    "\n",
    "# Concatenate the DataFrames for the failed games\n",
    "failed_combined_df = pd.concat(failed_dfs, ignore_index=True)\n",
    "\n",
    "# Combine the failed DataFrames with the advancedhome DataFrame\n",
    "combinedhome_df = pd.concat([advancedhome, failed_combined_df], ignore_index=True)\n",
    "\n",
    "# Display the combined DataFrame\n",
    "print(combinedhome_df)"
   ],
   "metadata": {
    "collapsed": false,
    "ExecuteTime": {
     "end_time": "2024-03-21T16:19:38.258377300Z",
     "start_time": "2024-03-21T16:19:24.182180900Z"
    }
   },
   "id": "18a113577ffae4c2"
  },
  {
   "cell_type": "code",
   "execution_count": 101,
   "outputs": [
    {
     "name": "stdout",
     "output_type": "stream",
     "text": [
      "Scraping data for Game ID: 202310280CLE\n",
      "Scraping data for Game ID: 202311010BOS\n",
      "Scraping data for Game ID: 202311120PHI\n",
      "Scraping data for Game ID: 202311140PHI\n",
      "Scraping data for Game ID: 202311210ATL\n",
      "Scraping data for Game ID: 202311300MIA\n",
      "Scraping data for Game ID: 202312020MIA\n",
      "Scraping data for Game ID: 202312070MIL\n",
      "Scraping data for Game ID: 202312110DET\n",
      "Scraping data for Game ID: 202312130MIL\n",
      "Scraping data for Game ID: 202312150WAS\n",
      "Scraping data for Game ID: 202312160MIN\n",
      "Scraping data for Game ID: 202312210MEM\n",
      "Scraping data for Game ID: 202312260HOU\n",
      "Scraping data for Game ID: 202312280CHI\n",
      "Scraping data for Game ID: 202401010MIL\n",
      "Scraping data for Game ID: 202401120ATL\n",
      "Scraping data for Game ID: 202401140DEN\n",
      "Scraping data for Game ID: 202401150UTA\n",
      "Scraping data for Game ID: 202401180SAC\n",
      "Scraping data for Game ID: 202401190POR\n",
      "Scraping data for Game ID: 202401210PHO\n",
      "Scraping data for Game ID: 202401300BOS\n",
      "Scraping data for Game ID: 202402010NYK\n",
      "Scraping data for Game ID: 202402040CHO\n",
      "Scraping data for Game ID: 202402100NYK\n",
      "Scraping data for Game ID: 202402120CHO\n",
      "Scraping data for Game ID: 202402140TOR\n",
      "Scraping data for Game ID: 202403010NOP\n",
      "Scraping data for Game ID: 202403030SAS\n",
      "Scraping data for Game ID: 202403050DAL\n",
      "Scraping data for Game ID: 202403100ORL\n",
      "Scraping data for Game ID: 202403120OKC\n",
      "                              PLAYER                     MIN OFFRTG DEFRTG  \\\n",
      "0     Bennedict MathurinB. MathurinF                   17:04   91.9  121.6   \n",
      "1               Obi ToppinO. ToppinF                   18:00   97.4  112.8   \n",
      "2             Myles TurnerM. TurnerC                   29:25  111.9  120.3   \n",
      "3               Bruce BrownB. BrownG                   32:11  128.6  126.6   \n",
      "4    Tyrese HaliburtonT. HaliburtonG                   32:01  110.8  110.6   \n",
      "..                               ...                     ...    ...    ...   \n",
      "477           Jarace WalkerJ. Walker                    6:51  157.1  121.4   \n",
      "478            Kendall BrownK. Brown  DNP - Coach's Decision   None   None   \n",
      "479         Isaiah JacksonI. Jackson  DNP - Coach's Decision   None   None   \n",
      "480          James JohnsonJ. Johnson    DND - Injury/Illness   None   None   \n",
      "481                           TOTALS                          116.3  106.7   \n",
      "\n",
      "    NETRTG  AST% AST/TO AST RATIO OREB% DREB%  REB% TO RATIO  EFG%   TS%  \\\n",
      "0    -29.7  14.3    0.0       8.3   0.0   0.0   0.0      0.0  55.0  57.4   \n",
      "1    -15.4   0.0    0.0       0.0   8.3   7.7   8.0     16.7  40.0  40.0   \n",
      "2     -8.5   5.3    0.5       5.3   2.9  28.9  16.7     10.5  53.6  61.7   \n",
      "3      2.0   7.4    0.0      20.0   0.0  11.1   5.6      0.0  37.5  37.5   \n",
      "4      0.2  61.9   13.0      41.9   2.8  16.7  10.3      3.2  56.3  60.6   \n",
      "..     ...   ...    ...       ...   ...   ...   ...      ...   ...   ...   \n",
      "477   35.7   0.0    0.0       0.0  25.0  11.1  15.4      0.0  75.0  75.0   \n",
      "478   None  None   None      None  None  None  None     None  None  None   \n",
      "479   None  None   None      None  None  None  None     None  None  None   \n",
      "480   None  None   None      None  None  None  None     None  None  None   \n",
      "481    9.6  70.8    3.8      24.2  11.6  71.2  46.1      8.7  59.0  62.1   \n",
      "\n",
      "     USG%    PACE   PIE       Game ID  \n",
      "0    26.8  104.06  10.7  202310280CLE  \n",
      "1    13.6  104.00   3.2  202310280CLE  \n",
      "2    26.9   96.27  14.8  202310280CLE  \n",
      "3    11.0   94.71   3.2  202310280CLE  \n",
      "4    24.0   98.20  22.4  202310280CLE  \n",
      "..    ...     ...   ...           ...  \n",
      "477  13.3   98.10   8.8  202403120OKC  \n",
      "478  None    None  None  202403120OKC  \n",
      "479  None    None  None  202403120OKC  \n",
      "480  None    None  None  202403120OKC  \n",
      "481   100  104.00  60.0  202403120OKC  \n",
      "\n",
      "[482 rows x 18 columns]\n"
     ]
    }
   ],
   "source": [
    "# Function to scrape data from a given URL\n",
    "def scrape_dataaway(url):\n",
    "    try:\n",
    "        # chrome driver to scrape dynamic webpages\n",
    "        driver = webdriver.Chrome()\n",
    "        driver.get(url)\n",
    "\n",
    "        # Wait for the table to be present on the page\n",
    "        WebDriverWait(driver, 3).until(EC.presence_of_element_located((By.TAG_NAME, 'table')))\n",
    "\n",
    "        # beautiful soup to parse it\n",
    "        soup = BeautifulSoup(driver.page_source, 'html.parser')\n",
    "\n",
    "        # Find all tables on the page\n",
    "        tables = soup.find_all('table')\n",
    "\n",
    "        # Select the second table (indexing starts from 0)\n",
    "        t = tables[0]\n",
    "\n",
    "        # Extract headers and data from the table\n",
    "        headers = [i.text.strip() for i in t.find_all('th')]\n",
    "        data = [[i.text.strip() for i in b.find_all('td')] for b in t.find_all('tr')]\n",
    "\n",
    "        # Remove empty rows\n",
    "        data = [row for row in data if len(row) > 1]\n",
    "\n",
    "        # Create DataFrame\n",
    "        df = pd.DataFrame(data, columns=headers)\n",
    "\n",
    "        return df\n",
    "    except TimeoutException:\n",
    "        print(\"Page load timed out. Retrying...\")\n",
    "        return None\n",
    "    finally:\n",
    "        driver.quit()\n",
    "\n",
    "# Initialize an empty list to store DataFrames\n",
    "advancedaway_dfs = []\n",
    "\n",
    "# Iterate through the schedule DataFrame and scrape data for rows where \"Away\" is NaN\n",
    "for index, row in schedule.iterrows():\n",
    "    if not pd.isna(row['Away']):\n",
    "        game_id = row['Game ID']\n",
    "        url = row['url']\n",
    "        print(f\"Scraping data for Game ID: {game_id}\")\n",
    "\n",
    "        # Attempt to scrape data from the URL\n",
    "        df = scrape_dataaway(url)\n",
    "\n",
    "        if df is not None:\n",
    "            # Add Game ID to the DataFrame\n",
    "            df['Game ID'] = game_id\n",
    "\n",
    "            # Append the scraped DataFrame to the list\n",
    "            advancedaway_dfs.append(df)\n",
    "        else:\n",
    "            print(f\"Failed to scrape data for Game ID: {game_id}\")\n",
    "\n",
    "# Concatenate all scraped DataFrames into a single DataFrame\n",
    "advancedaway = pd.concat(advancedaway_dfs, ignore_index=True)\n",
    "\n",
    "# Display the combined DataFrame\n",
    "print(advancedaway) "
   ],
   "metadata": {
    "collapsed": false,
    "ExecuteTime": {
     "end_time": "2024-03-21T16:27:31.536473300Z",
     "start_time": "2024-03-21T16:19:54.017763300Z"
    }
   },
   "id": "9376cee734c46c4e"
  },
  {
   "cell_type": "code",
   "execution_count": 102,
   "outputs": [],
   "source": [
    "advanced = pd.concat([combinedhome_df, advancedaway], ignore_index=True)"
   ],
   "metadata": {
    "collapsed": false,
    "ExecuteTime": {
     "end_time": "2024-03-21T16:29:26.062018700Z",
     "start_time": "2024-03-21T16:29:26.048617500Z"
    }
   },
   "id": "1b54b71b154467d0"
  },
  {
   "cell_type": "code",
   "execution_count": 104,
   "outputs": [],
   "source": [
    "advanced.to_csv(\"combined_advanced.csv\", index = False)"
   ],
   "metadata": {
    "collapsed": false,
    "ExecuteTime": {
     "end_time": "2024-03-21T16:29:57.731402300Z",
     "start_time": "2024-03-21T16:29:57.697215700Z"
    }
   },
   "id": "c90085baec70fdca"
  },
  {
   "cell_type": "code",
   "execution_count": 105,
   "outputs": [
    {
     "data": {
      "text/plain": "                              PLAYER                     MIN OFFRTG DEFRTG  \\\n0     Bennedict MathurinB. MathurinF                   25:50  127.4  106.6   \n1               Obi ToppinO. ToppinF                   19:14  137.0  121.7   \n2             Myles TurnerM. TurnerC                   23:20  137.0  109.1   \n3               Bruce BrownB. BrownG                   27:12  141.0  112.7   \n4    Tyrese HaliburtonT. HaliburtonG                   26:54  125.0  115.6   \n..                               ...                     ...    ...    ...   \n995           Jarace WalkerJ. Walker                    6:51  157.1  121.4   \n996            Kendall BrownK. Brown  DNP - Coach's Decision   None   None   \n997         Isaiah JacksonI. Jackson  DNP - Coach's Decision   None   None   \n998          James JohnsonJ. Johnson    DND - Injury/Illness   None   None   \n999                           TOTALS                          116.3  106.7   \n\n    NETRTG  AST% AST/TO AST RATIO OREB% DREB%  REB% TO RATIO   EFG%    TS%  \\\n0     20.9  20.0    2.5      20.8   0.0  13.8   7.4      8.3   46.7   53.7   \n1     15.2   5.3    0.0      10.0   5.0  17.6  10.8      0.0   55.6   58.3   \n2     27.9   4.2    0.5       8.3   0.0  29.6  18.2     16.7   62.5   61.9   \n3     28.3   3.8    1.0       7.1   4.2   6.7   5.6      7.1  100.0  101.0   \n4      9.4  52.4    3.7      36.7   0.0  10.3   5.2     10.0   62.5   62.5   \n..     ...   ...    ...       ...   ...   ...   ...      ...    ...    ...   \n995   35.7   0.0    0.0       0.0  25.0  11.1  15.4      0.0   75.0   75.0   \n996   None  None   None      None  None  None  None     None   None   None   \n997   None  None   None      None  None  None  None     None   None   None   \n998   None  None   None      None  None  None  None     None   None   None   \n999    9.6  70.8    3.8      24.2  11.6  71.2  46.1      8.7   59.0   62.1   \n\n     USG%    PACE   PIE       Game ID  \n0    27.5  114.26  11.7  202310250IND  \n1    17.0  114.80   9.8  202310250IND  \n2    19.3  112.11   8.5  202310250IND  \n3    18.8  109.41  12.7  202310250IND  \n4    25.7  114.21  16.8  202310250IND  \n..    ...     ...   ...           ...  \n995  13.3   98.10   8.8  202403120OKC  \n996  None    None  None  202403120OKC  \n997  None    None  None  202403120OKC  \n998  None    None  None  202403120OKC  \n999   100  104.00  60.0  202403120OKC  \n\n[1000 rows x 18 columns]",
      "text/html": "<div>\n<style scoped>\n    .dataframe tbody tr th:only-of-type {\n        vertical-align: middle;\n    }\n\n    .dataframe tbody tr th {\n        vertical-align: top;\n    }\n\n    .dataframe thead th {\n        text-align: right;\n    }\n</style>\n<table border=\"1\" class=\"dataframe\">\n  <thead>\n    <tr style=\"text-align: right;\">\n      <th></th>\n      <th>PLAYER</th>\n      <th>MIN</th>\n      <th>OFFRTG</th>\n      <th>DEFRTG</th>\n      <th>NETRTG</th>\n      <th>AST%</th>\n      <th>AST/TO</th>\n      <th>AST RATIO</th>\n      <th>OREB%</th>\n      <th>DREB%</th>\n      <th>REB%</th>\n      <th>TO RATIO</th>\n      <th>EFG%</th>\n      <th>TS%</th>\n      <th>USG%</th>\n      <th>PACE</th>\n      <th>PIE</th>\n      <th>Game ID</th>\n    </tr>\n  </thead>\n  <tbody>\n    <tr>\n      <th>0</th>\n      <td>Bennedict MathurinB. MathurinF</td>\n      <td>25:50</td>\n      <td>127.4</td>\n      <td>106.6</td>\n      <td>20.9</td>\n      <td>20.0</td>\n      <td>2.5</td>\n      <td>20.8</td>\n      <td>0.0</td>\n      <td>13.8</td>\n      <td>7.4</td>\n      <td>8.3</td>\n      <td>46.7</td>\n      <td>53.7</td>\n      <td>27.5</td>\n      <td>114.26</td>\n      <td>11.7</td>\n      <td>202310250IND</td>\n    </tr>\n    <tr>\n      <th>1</th>\n      <td>Obi ToppinO. ToppinF</td>\n      <td>19:14</td>\n      <td>137.0</td>\n      <td>121.7</td>\n      <td>15.2</td>\n      <td>5.3</td>\n      <td>0.0</td>\n      <td>10.0</td>\n      <td>5.0</td>\n      <td>17.6</td>\n      <td>10.8</td>\n      <td>0.0</td>\n      <td>55.6</td>\n      <td>58.3</td>\n      <td>17.0</td>\n      <td>114.80</td>\n      <td>9.8</td>\n      <td>202310250IND</td>\n    </tr>\n    <tr>\n      <th>2</th>\n      <td>Myles TurnerM. TurnerC</td>\n      <td>23:20</td>\n      <td>137.0</td>\n      <td>109.1</td>\n      <td>27.9</td>\n      <td>4.2</td>\n      <td>0.5</td>\n      <td>8.3</td>\n      <td>0.0</td>\n      <td>29.6</td>\n      <td>18.2</td>\n      <td>16.7</td>\n      <td>62.5</td>\n      <td>61.9</td>\n      <td>19.3</td>\n      <td>112.11</td>\n      <td>8.5</td>\n      <td>202310250IND</td>\n    </tr>\n    <tr>\n      <th>3</th>\n      <td>Bruce BrownB. BrownG</td>\n      <td>27:12</td>\n      <td>141.0</td>\n      <td>112.7</td>\n      <td>28.3</td>\n      <td>3.8</td>\n      <td>1.0</td>\n      <td>7.1</td>\n      <td>4.2</td>\n      <td>6.7</td>\n      <td>5.6</td>\n      <td>7.1</td>\n      <td>100.0</td>\n      <td>101.0</td>\n      <td>18.8</td>\n      <td>109.41</td>\n      <td>12.7</td>\n      <td>202310250IND</td>\n    </tr>\n    <tr>\n      <th>4</th>\n      <td>Tyrese HaliburtonT. HaliburtonG</td>\n      <td>26:54</td>\n      <td>125.0</td>\n      <td>115.6</td>\n      <td>9.4</td>\n      <td>52.4</td>\n      <td>3.7</td>\n      <td>36.7</td>\n      <td>0.0</td>\n      <td>10.3</td>\n      <td>5.2</td>\n      <td>10.0</td>\n      <td>62.5</td>\n      <td>62.5</td>\n      <td>25.7</td>\n      <td>114.21</td>\n      <td>16.8</td>\n      <td>202310250IND</td>\n    </tr>\n    <tr>\n      <th>...</th>\n      <td>...</td>\n      <td>...</td>\n      <td>...</td>\n      <td>...</td>\n      <td>...</td>\n      <td>...</td>\n      <td>...</td>\n      <td>...</td>\n      <td>...</td>\n      <td>...</td>\n      <td>...</td>\n      <td>...</td>\n      <td>...</td>\n      <td>...</td>\n      <td>...</td>\n      <td>...</td>\n      <td>...</td>\n      <td>...</td>\n    </tr>\n    <tr>\n      <th>995</th>\n      <td>Jarace WalkerJ. Walker</td>\n      <td>6:51</td>\n      <td>157.1</td>\n      <td>121.4</td>\n      <td>35.7</td>\n      <td>0.0</td>\n      <td>0.0</td>\n      <td>0.0</td>\n      <td>25.0</td>\n      <td>11.1</td>\n      <td>15.4</td>\n      <td>0.0</td>\n      <td>75.0</td>\n      <td>75.0</td>\n      <td>13.3</td>\n      <td>98.10</td>\n      <td>8.8</td>\n      <td>202403120OKC</td>\n    </tr>\n    <tr>\n      <th>996</th>\n      <td>Kendall BrownK. Brown</td>\n      <td>DNP - Coach's Decision</td>\n      <td>None</td>\n      <td>None</td>\n      <td>None</td>\n      <td>None</td>\n      <td>None</td>\n      <td>None</td>\n      <td>None</td>\n      <td>None</td>\n      <td>None</td>\n      <td>None</td>\n      <td>None</td>\n      <td>None</td>\n      <td>None</td>\n      <td>None</td>\n      <td>None</td>\n      <td>202403120OKC</td>\n    </tr>\n    <tr>\n      <th>997</th>\n      <td>Isaiah JacksonI. Jackson</td>\n      <td>DNP - Coach's Decision</td>\n      <td>None</td>\n      <td>None</td>\n      <td>None</td>\n      <td>None</td>\n      <td>None</td>\n      <td>None</td>\n      <td>None</td>\n      <td>None</td>\n      <td>None</td>\n      <td>None</td>\n      <td>None</td>\n      <td>None</td>\n      <td>None</td>\n      <td>None</td>\n      <td>None</td>\n      <td>202403120OKC</td>\n    </tr>\n    <tr>\n      <th>998</th>\n      <td>James JohnsonJ. Johnson</td>\n      <td>DND - Injury/Illness</td>\n      <td>None</td>\n      <td>None</td>\n      <td>None</td>\n      <td>None</td>\n      <td>None</td>\n      <td>None</td>\n      <td>None</td>\n      <td>None</td>\n      <td>None</td>\n      <td>None</td>\n      <td>None</td>\n      <td>None</td>\n      <td>None</td>\n      <td>None</td>\n      <td>None</td>\n      <td>202403120OKC</td>\n    </tr>\n    <tr>\n      <th>999</th>\n      <td>TOTALS</td>\n      <td></td>\n      <td>116.3</td>\n      <td>106.7</td>\n      <td>9.6</td>\n      <td>70.8</td>\n      <td>3.8</td>\n      <td>24.2</td>\n      <td>11.6</td>\n      <td>71.2</td>\n      <td>46.1</td>\n      <td>8.7</td>\n      <td>59.0</td>\n      <td>62.1</td>\n      <td>100</td>\n      <td>104.00</td>\n      <td>60.0</td>\n      <td>202403120OKC</td>\n    </tr>\n  </tbody>\n</table>\n<p>1000 rows × 18 columns</p>\n</div>"
     },
     "execution_count": 105,
     "metadata": {},
     "output_type": "execute_result"
    }
   ],
   "source": [
    "advanced"
   ],
   "metadata": {
    "collapsed": false,
    "ExecuteTime": {
     "end_time": "2024-03-21T22:34:26.319963100Z",
     "start_time": "2024-03-21T22:34:26.200951Z"
    }
   },
   "id": "ec53c345f3b61522"
  },
  {
   "cell_type": "code",
   "execution_count": null,
   "outputs": [],
   "source": [],
   "metadata": {
    "collapsed": false
   },
   "id": "4a9cf0d85021a15c"
  }
 ],
 "metadata": {
  "kernelspec": {
   "display_name": "Python 3",
   "language": "python",
   "name": "python3"
  },
  "language_info": {
   "codemirror_mode": {
    "name": "ipython",
    "version": 2
   },
   "file_extension": ".py",
   "mimetype": "text/x-python",
   "name": "python",
   "nbconvert_exporter": "python",
   "pygments_lexer": "ipython2",
   "version": "2.7.6"
  }
 },
 "nbformat": 4,
 "nbformat_minor": 5
}
