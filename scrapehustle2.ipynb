{
 "cells": [
  {
   "cell_type": "code",
   "execution_count": 12,
   "id": "initial_id",
   "metadata": {
    "collapsed": true,
    "ExecuteTime": {
     "end_time": "2024-03-21T22:59:54.702149500Z",
     "start_time": "2024-03-21T22:59:54.681840600Z"
    }
   },
   "outputs": [],
   "source": [
    "from selenium import webdriver\n",
    "from selenium.webdriver.common.by import By\n",
    "from selenium.webdriver.support.ui import WebDriverWait\n",
    "from selenium.webdriver.support import expected_conditions as EC\n",
    "from selenium.common.exceptions import TimeoutException\n",
    "from bs4 import BeautifulSoup\n",
    "import pandas as pd"
   ]
  },
  {
   "cell_type": "code",
   "execution_count": 13,
   "outputs": [
    {
     "data": {
      "text/plain": "     G      Date                                                Web Away  \\\n0    1  20231025  https://www.nba.com/game/was-vs-ind-0022300064...  NaN   \n1    2  20231028  https://www.nba.com/game/ind-vs-cle-0022300091...    @   \n2    3  20231030  https://www.nba.com/game/chi-vs-ind-0022300102...  NaN   \n3    4  20231101  https://www.nba.com/game/ind-vs-bos-0022300118...    @   \n4    5  20231103  https://www.nba.com/game/cle-vs-ind-0022300001...  NaN   \n..  ..       ...                                                ...  ...   \n62  63  20240305  https://www.nba.com/game/ind-vs-dal-0022300892...    @   \n63  64  20240307  https://www.nba.com/game/min-vs-ind-0022300903...  NaN   \n64  65  20240310  https://www.nba.com/game/ind-vs-orl-0022300928...    @   \n65  66  20240312  https://www.nba.com/game/ind-vs-okc-0022300941...    @   \n66  67  20240313  https://www.nba.com/game/chi-vs-ind-0022300948...  NaN   \n\n   Opponent W/L  Pacers  Opp                 Notes       Game ID  \n0       WAS   W     143  120                   NaN  202310250IND  \n1       CLE   W     125  113                   NaN  202310280CLE  \n2       CHI   L     105  112                   NaN  202310300IND  \n3       BOS   L     104  155                   NaN  202311010BOS  \n4       CLE   W     121  116  In-Season Tournament  202311030IND  \n..      ...  ..     ...  ...                   ...           ...  \n62      DAL   W     137  120                   NaN  202403050DAL  \n63      MIN   L     111  113                   NaN  202403070IND  \n64      ORL   W     111   97                   NaN  202403100ORL  \n65      OKC   W     121  111                   NaN  202403120OKC  \n66      CHI   L     129  132                   NaN  202403130IND  \n\n[67 rows x 10 columns]",
      "text/html": "<div>\n<style scoped>\n    .dataframe tbody tr th:only-of-type {\n        vertical-align: middle;\n    }\n\n    .dataframe tbody tr th {\n        vertical-align: top;\n    }\n\n    .dataframe thead th {\n        text-align: right;\n    }\n</style>\n<table border=\"1\" class=\"dataframe\">\n  <thead>\n    <tr style=\"text-align: right;\">\n      <th></th>\n      <th>G</th>\n      <th>Date</th>\n      <th>Web</th>\n      <th>Away</th>\n      <th>Opponent</th>\n      <th>W/L</th>\n      <th>Pacers</th>\n      <th>Opp</th>\n      <th>Notes</th>\n      <th>Game ID</th>\n    </tr>\n  </thead>\n  <tbody>\n    <tr>\n      <th>0</th>\n      <td>1</td>\n      <td>20231025</td>\n      <td>https://www.nba.com/game/was-vs-ind-0022300064...</td>\n      <td>NaN</td>\n      <td>WAS</td>\n      <td>W</td>\n      <td>143</td>\n      <td>120</td>\n      <td>NaN</td>\n      <td>202310250IND</td>\n    </tr>\n    <tr>\n      <th>1</th>\n      <td>2</td>\n      <td>20231028</td>\n      <td>https://www.nba.com/game/ind-vs-cle-0022300091...</td>\n      <td>@</td>\n      <td>CLE</td>\n      <td>W</td>\n      <td>125</td>\n      <td>113</td>\n      <td>NaN</td>\n      <td>202310280CLE</td>\n    </tr>\n    <tr>\n      <th>2</th>\n      <td>3</td>\n      <td>20231030</td>\n      <td>https://www.nba.com/game/chi-vs-ind-0022300102...</td>\n      <td>NaN</td>\n      <td>CHI</td>\n      <td>L</td>\n      <td>105</td>\n      <td>112</td>\n      <td>NaN</td>\n      <td>202310300IND</td>\n    </tr>\n    <tr>\n      <th>3</th>\n      <td>4</td>\n      <td>20231101</td>\n      <td>https://www.nba.com/game/ind-vs-bos-0022300118...</td>\n      <td>@</td>\n      <td>BOS</td>\n      <td>L</td>\n      <td>104</td>\n      <td>155</td>\n      <td>NaN</td>\n      <td>202311010BOS</td>\n    </tr>\n    <tr>\n      <th>4</th>\n      <td>5</td>\n      <td>20231103</td>\n      <td>https://www.nba.com/game/cle-vs-ind-0022300001...</td>\n      <td>NaN</td>\n      <td>CLE</td>\n      <td>W</td>\n      <td>121</td>\n      <td>116</td>\n      <td>In-Season Tournament</td>\n      <td>202311030IND</td>\n    </tr>\n    <tr>\n      <th>...</th>\n      <td>...</td>\n      <td>...</td>\n      <td>...</td>\n      <td>...</td>\n      <td>...</td>\n      <td>...</td>\n      <td>...</td>\n      <td>...</td>\n      <td>...</td>\n      <td>...</td>\n    </tr>\n    <tr>\n      <th>62</th>\n      <td>63</td>\n      <td>20240305</td>\n      <td>https://www.nba.com/game/ind-vs-dal-0022300892...</td>\n      <td>@</td>\n      <td>DAL</td>\n      <td>W</td>\n      <td>137</td>\n      <td>120</td>\n      <td>NaN</td>\n      <td>202403050DAL</td>\n    </tr>\n    <tr>\n      <th>63</th>\n      <td>64</td>\n      <td>20240307</td>\n      <td>https://www.nba.com/game/min-vs-ind-0022300903...</td>\n      <td>NaN</td>\n      <td>MIN</td>\n      <td>L</td>\n      <td>111</td>\n      <td>113</td>\n      <td>NaN</td>\n      <td>202403070IND</td>\n    </tr>\n    <tr>\n      <th>64</th>\n      <td>65</td>\n      <td>20240310</td>\n      <td>https://www.nba.com/game/ind-vs-orl-0022300928...</td>\n      <td>@</td>\n      <td>ORL</td>\n      <td>W</td>\n      <td>111</td>\n      <td>97</td>\n      <td>NaN</td>\n      <td>202403100ORL</td>\n    </tr>\n    <tr>\n      <th>65</th>\n      <td>66</td>\n      <td>20240312</td>\n      <td>https://www.nba.com/game/ind-vs-okc-0022300941...</td>\n      <td>@</td>\n      <td>OKC</td>\n      <td>W</td>\n      <td>121</td>\n      <td>111</td>\n      <td>NaN</td>\n      <td>202403120OKC</td>\n    </tr>\n    <tr>\n      <th>66</th>\n      <td>67</td>\n      <td>20240313</td>\n      <td>https://www.nba.com/game/chi-vs-ind-0022300948...</td>\n      <td>NaN</td>\n      <td>CHI</td>\n      <td>L</td>\n      <td>129</td>\n      <td>132</td>\n      <td>NaN</td>\n      <td>202403130IND</td>\n    </tr>\n  </tbody>\n</table>\n<p>67 rows × 10 columns</p>\n</div>"
     },
     "execution_count": 13,
     "metadata": {},
     "output_type": "execute_result"
    }
   ],
   "source": [
    "schedule = pd.read_csv(\"Schedule.csv\")\n",
    "schedule"
   ],
   "metadata": {
    "collapsed": false,
    "ExecuteTime": {
     "end_time": "2024-03-21T22:59:54.737438900Z",
     "start_time": "2024-03-21T22:59:54.686848500Z"
    }
   },
   "id": "80ecf538976ac484"
  },
  {
   "cell_type": "code",
   "execution_count": 14,
   "outputs": [],
   "source": [
    "schedule.rename(columns={'Web':'url'}, inplace =True)"
   ],
   "metadata": {
    "collapsed": false,
    "ExecuteTime": {
     "end_time": "2024-03-21T22:59:54.737438900Z",
     "start_time": "2024-03-21T22:59:54.705705Z"
    }
   },
   "id": "965c2032f95bade0"
  },
  {
   "cell_type": "code",
   "execution_count": 15,
   "outputs": [
    {
     "data": {
      "text/plain": "     G      Date                                                url Away  \\\n0    1  20231025  https://www.nba.com/game/was-vs-ind-0022300064...  NaN   \n1    2  20231028  https://www.nba.com/game/ind-vs-cle-0022300091...    @   \n2    3  20231030  https://www.nba.com/game/chi-vs-ind-0022300102...  NaN   \n3    4  20231101  https://www.nba.com/game/ind-vs-bos-0022300118...    @   \n4    5  20231103  https://www.nba.com/game/cle-vs-ind-0022300001...  NaN   \n..  ..       ...                                                ...  ...   \n62  63  20240305  https://www.nba.com/game/ind-vs-dal-0022300892...    @   \n63  64  20240307  https://www.nba.com/game/min-vs-ind-0022300903...  NaN   \n64  65  20240310  https://www.nba.com/game/ind-vs-orl-0022300928...    @   \n65  66  20240312  https://www.nba.com/game/ind-vs-okc-0022300941...    @   \n66  67  20240313  https://www.nba.com/game/chi-vs-ind-0022300948...  NaN   \n\n   Opponent W/L  Pacers  Opp                 Notes       Game ID  \n0       WAS   W     143  120                   NaN  202310250IND  \n1       CLE   W     125  113                   NaN  202310280CLE  \n2       CHI   L     105  112                   NaN  202310300IND  \n3       BOS   L     104  155                   NaN  202311010BOS  \n4       CLE   W     121  116  In-Season Tournament  202311030IND  \n..      ...  ..     ...  ...                   ...           ...  \n62      DAL   W     137  120                   NaN  202403050DAL  \n63      MIN   L     111  113                   NaN  202403070IND  \n64      ORL   W     111   97                   NaN  202403100ORL  \n65      OKC   W     121  111                   NaN  202403120OKC  \n66      CHI   L     129  132                   NaN  202403130IND  \n\n[67 rows x 10 columns]",
      "text/html": "<div>\n<style scoped>\n    .dataframe tbody tr th:only-of-type {\n        vertical-align: middle;\n    }\n\n    .dataframe tbody tr th {\n        vertical-align: top;\n    }\n\n    .dataframe thead th {\n        text-align: right;\n    }\n</style>\n<table border=\"1\" class=\"dataframe\">\n  <thead>\n    <tr style=\"text-align: right;\">\n      <th></th>\n      <th>G</th>\n      <th>Date</th>\n      <th>url</th>\n      <th>Away</th>\n      <th>Opponent</th>\n      <th>W/L</th>\n      <th>Pacers</th>\n      <th>Opp</th>\n      <th>Notes</th>\n      <th>Game ID</th>\n    </tr>\n  </thead>\n  <tbody>\n    <tr>\n      <th>0</th>\n      <td>1</td>\n      <td>20231025</td>\n      <td>https://www.nba.com/game/was-vs-ind-0022300064...</td>\n      <td>NaN</td>\n      <td>WAS</td>\n      <td>W</td>\n      <td>143</td>\n      <td>120</td>\n      <td>NaN</td>\n      <td>202310250IND</td>\n    </tr>\n    <tr>\n      <th>1</th>\n      <td>2</td>\n      <td>20231028</td>\n      <td>https://www.nba.com/game/ind-vs-cle-0022300091...</td>\n      <td>@</td>\n      <td>CLE</td>\n      <td>W</td>\n      <td>125</td>\n      <td>113</td>\n      <td>NaN</td>\n      <td>202310280CLE</td>\n    </tr>\n    <tr>\n      <th>2</th>\n      <td>3</td>\n      <td>20231030</td>\n      <td>https://www.nba.com/game/chi-vs-ind-0022300102...</td>\n      <td>NaN</td>\n      <td>CHI</td>\n      <td>L</td>\n      <td>105</td>\n      <td>112</td>\n      <td>NaN</td>\n      <td>202310300IND</td>\n    </tr>\n    <tr>\n      <th>3</th>\n      <td>4</td>\n      <td>20231101</td>\n      <td>https://www.nba.com/game/ind-vs-bos-0022300118...</td>\n      <td>@</td>\n      <td>BOS</td>\n      <td>L</td>\n      <td>104</td>\n      <td>155</td>\n      <td>NaN</td>\n      <td>202311010BOS</td>\n    </tr>\n    <tr>\n      <th>4</th>\n      <td>5</td>\n      <td>20231103</td>\n      <td>https://www.nba.com/game/cle-vs-ind-0022300001...</td>\n      <td>NaN</td>\n      <td>CLE</td>\n      <td>W</td>\n      <td>121</td>\n      <td>116</td>\n      <td>In-Season Tournament</td>\n      <td>202311030IND</td>\n    </tr>\n    <tr>\n      <th>...</th>\n      <td>...</td>\n      <td>...</td>\n      <td>...</td>\n      <td>...</td>\n      <td>...</td>\n      <td>...</td>\n      <td>...</td>\n      <td>...</td>\n      <td>...</td>\n      <td>...</td>\n    </tr>\n    <tr>\n      <th>62</th>\n      <td>63</td>\n      <td>20240305</td>\n      <td>https://www.nba.com/game/ind-vs-dal-0022300892...</td>\n      <td>@</td>\n      <td>DAL</td>\n      <td>W</td>\n      <td>137</td>\n      <td>120</td>\n      <td>NaN</td>\n      <td>202403050DAL</td>\n    </tr>\n    <tr>\n      <th>63</th>\n      <td>64</td>\n      <td>20240307</td>\n      <td>https://www.nba.com/game/min-vs-ind-0022300903...</td>\n      <td>NaN</td>\n      <td>MIN</td>\n      <td>L</td>\n      <td>111</td>\n      <td>113</td>\n      <td>NaN</td>\n      <td>202403070IND</td>\n    </tr>\n    <tr>\n      <th>64</th>\n      <td>65</td>\n      <td>20240310</td>\n      <td>https://www.nba.com/game/ind-vs-orl-0022300928...</td>\n      <td>@</td>\n      <td>ORL</td>\n      <td>W</td>\n      <td>111</td>\n      <td>97</td>\n      <td>NaN</td>\n      <td>202403100ORL</td>\n    </tr>\n    <tr>\n      <th>65</th>\n      <td>66</td>\n      <td>20240312</td>\n      <td>https://www.nba.com/game/ind-vs-okc-0022300941...</td>\n      <td>@</td>\n      <td>OKC</td>\n      <td>W</td>\n      <td>121</td>\n      <td>111</td>\n      <td>NaN</td>\n      <td>202403120OKC</td>\n    </tr>\n    <tr>\n      <th>66</th>\n      <td>67</td>\n      <td>20240313</td>\n      <td>https://www.nba.com/game/chi-vs-ind-0022300948...</td>\n      <td>NaN</td>\n      <td>CHI</td>\n      <td>L</td>\n      <td>129</td>\n      <td>132</td>\n      <td>NaN</td>\n      <td>202403130IND</td>\n    </tr>\n  </tbody>\n</table>\n<p>67 rows × 10 columns</p>\n</div>"
     },
     "execution_count": 15,
     "metadata": {},
     "output_type": "execute_result"
    }
   ],
   "source": [
    "schedule['url'] = schedule['url'].str.replace('#box-score$', '?type=hustle', regex=True)\n",
    "schedule"
   ],
   "metadata": {
    "collapsed": false,
    "ExecuteTime": {
     "end_time": "2024-03-21T22:59:54.738445100Z",
     "start_time": "2024-03-21T22:59:54.711141500Z"
    }
   },
   "id": "6a4b429be979eda8"
  },
  {
   "cell_type": "code",
   "execution_count": 16,
   "outputs": [
    {
     "name": "stdout",
     "output_type": "stream",
     "text": [
      "Scraping data for Game ID: 202310250IND\n",
      "Scraping data for Game ID: 202310300IND\n",
      "Scraping data for Game ID: 202311030IND\n",
      "Scraping data for Game ID: 202311040IND\n",
      "Scraping data for Game ID: 202311060IND\n",
      "Scraping data for Game ID: 202311080IND\n",
      "Scraping data for Game ID: 202311090IND\n",
      "Scraping data for Game ID: 202311190IND\n",
      "Page load timed out. Retrying...\n",
      "Failed to scrape data for Game ID: 202311190IND\n",
      "Scraping data for Game ID: 202311220IND\n",
      "Scraping data for Game ID: 202311240IND\n",
      "Scraping data for Game ID: 202311270IND\n",
      "Scraping data for Game ID: 202312040IND\n",
      "Scraping data for Game ID: 202312180IND\n",
      "Scraping data for Game ID: 202312200IND\n",
      "Scraping data for Game ID: 202312230IND\n",
      "Scraping data for Game ID: 202312300IND\n",
      "Scraping data for Game ID: 202401030IND\n",
      "Scraping data for Game ID: 202401050IND\n",
      "Scraping data for Game ID: 202401060IND\n",
      "Scraping data for Game ID: 202401080IND\n",
      "Scraping data for Game ID: 202401100IND\n",
      "Scraping data for Game ID: 202401230IND\n",
      "Scraping data for Game ID: 202401250IND\n",
      "Scraping data for Game ID: 202401260IND\n",
      "Scraping data for Game ID: 202401280IND\n",
      "Scraping data for Game ID: 202402020IND\n",
      "Scraping data for Game ID: 202402060IND\n",
      "Scraping data for Game ID: 202402080IND\n",
      "Scraping data for Game ID: 202402220IND\n",
      "Scraping data for Game ID: 202402250IND\n",
      "Scraping data for Game ID: 202402260IND\n",
      "Scraping data for Game ID: 202402280IND\n",
      "Scraping data for Game ID: 202403070IND\n",
      "Scraping data for Game ID: 202403130IND\n",
      "                              PLAYER    MIN SCREEN\\nAST SCREEN\\nAST PTS  \\\n",
      "0     Bennedict MathurinB. MathurinF  25:50           1               2   \n",
      "1               Obi ToppinO. ToppinF  19:14           2               5   \n",
      "2             Myles TurnerM. TurnerC  23:20           7              16   \n",
      "3               Bruce BrownB. BrownG  27:12           0               0   \n",
      "4    Tyrese HaliburtonT. HaliburtonG  26:54           0               0   \n",
      "..                               ...    ...         ...             ...   \n",
      "388       T.J. McConnellT. McConnell  19:59           0               0   \n",
      "389              Jalen SmithJ. Smith  17:31           3               8   \n",
      "390           Jarace WalkerJ. Walker  23:42           0               0   \n",
      "391         Isaiah JacksonI. Jackson   0:00           0               0   \n",
      "392                           TOTALS                  9              22   \n",
      "\n",
      "    deflections OFF LOOSE BALLS\\nRECOVERED DEF LOOSE BALLS\\nRECOVERED  \\\n",
      "0             3                          0                          0   \n",
      "1             1                          0                          1   \n",
      "2             0                          0                          0   \n",
      "3             1                          0                          0   \n",
      "4             2                          0                          0   \n",
      "..          ...                        ...                        ...   \n",
      "388           6                          1                          1   \n",
      "389           1                          0                          0   \n",
      "390           1                          1                          0   \n",
      "391           0                          0                          0   \n",
      "392          19                          4                          2   \n",
      "\n",
      "    LOOSE BALLS\\nRECOVERED CHARGES\\nDRAWN CONTESTED\\n2PT SHOTS  \\\n",
      "0                        0              0                    1   \n",
      "1                        1              0                    3   \n",
      "2                        0              0                    6   \n",
      "3                        0              0                    3   \n",
      "4                        0              0                    2   \n",
      "..                     ...            ...                  ...   \n",
      "388                      2              0                    2   \n",
      "389                      0              0                    9   \n",
      "390                      1              0                    2   \n",
      "391                      0              0                    0   \n",
      "392                      6              1                   40   \n",
      "\n",
      "    CONTESTED\\n3PT SHOTS CONTESTED\\nSHOTS OFF\\nBOX OUTS DEF\\nBOX OUTS  \\\n",
      "0                      2                3             0             1   \n",
      "1                      0                3             0             1   \n",
      "2                      2                8             0             2   \n",
      "3                      3                6             0             0   \n",
      "4                      1                3             0             0   \n",
      "..                   ...              ...           ...           ...   \n",
      "388                    1                3             0             0   \n",
      "389                    1               10             0             1   \n",
      "390                    0                2             0             0   \n",
      "391                    0                0             0             0   \n",
      "392                   16               56             1             7   \n",
      "\n",
      "    BOX OUTS       Game ID  \n",
      "0          1  202310250IND  \n",
      "1          1  202310250IND  \n",
      "2          2  202310250IND  \n",
      "3          0  202310250IND  \n",
      "4          0  202310250IND  \n",
      "..       ...           ...  \n",
      "388        0  202403130IND  \n",
      "389        1  202403130IND  \n",
      "390        0  202403130IND  \n",
      "391        0  202403130IND  \n",
      "392        8  202403130IND  \n",
      "\n",
      "[393 rows x 16 columns]\n"
     ]
    }
   ],
   "source": [
    "# Function to scrape data from a given URL\n",
    "def scrape_datahome(url):\n",
    "    try:\n",
    "        # chrome driver to scrape dynamic webpages\n",
    "        driver = webdriver.Chrome()\n",
    "        driver.get(url)\n",
    "\n",
    "        # Wait for the table to be present on the page\n",
    "        WebDriverWait(driver, 3).until(EC.presence_of_element_located((By.TAG_NAME, 'table')))\n",
    "\n",
    "        # beautiful soup to parse it\n",
    "        soup = BeautifulSoup(driver.page_source, 'html.parser')\n",
    "\n",
    "        # Find all tables on the page\n",
    "        tables = soup.find_all('table')\n",
    "\n",
    "        # Select the second table (indexing starts from 0)\n",
    "        t = tables[1]\n",
    "\n",
    "        # Extract headers and data from the table\n",
    "        headers = [i.text.strip() for i in t.find_all('th')]\n",
    "        data = [[i.text.strip() for i in b.find_all('td')] for b in t.find_all('tr')]\n",
    "\n",
    "        # Remove empty rows\n",
    "        data = [row for row in data if len(row) > 1]\n",
    "\n",
    "        # Create DataFrame\n",
    "        df = pd.DataFrame(data, columns=headers)\n",
    "\n",
    "        return df\n",
    "    except TimeoutException:\n",
    "        print(\"Page load timed out. Retrying...\")\n",
    "        return None\n",
    "    finally:\n",
    "        driver.quit()\n",
    "\n",
    "# Initialize an empty list to store DataFrames\n",
    "hustlehome_dfs = []\n",
    "\n",
    "# Iterate through the schedule DataFrame and scrape data for rows where \"Away\" is NaN\n",
    "for index, row in schedule.iterrows():\n",
    "    if pd.isna(row['Away']):\n",
    "        game_id = row['Game ID']\n",
    "        url = row['url']\n",
    "        print(f\"Scraping data for Game ID: {game_id}\")\n",
    "\n",
    "        # Attempt to scrape data from the URL\n",
    "        df = scrape_datahome(url)\n",
    "\n",
    "        if df is not None:\n",
    "            # Add Game ID to the DataFrame\n",
    "            df['Game ID'] = game_id\n",
    "\n",
    "            # Append the scraped DataFrame to the list\n",
    "            hustlehome_dfs.append(df)\n",
    "        else:\n",
    "            print(f\"Failed to scrape data for Game ID: {game_id}\")\n",
    "\n",
    "# Concatenate all scraped DataFrames into a single DataFrame\n",
    "hustlehome1 = pd.concat(hustlehome_dfs, ignore_index=True)\n",
    "\n",
    "# Display the combined DataFrame\n",
    "print(hustlehome1)"
   ],
   "metadata": {
    "collapsed": false,
    "ExecuteTime": {
     "end_time": "2024-03-21T23:11:00.217828900Z",
     "start_time": "2024-03-21T22:59:54.733154200Z"
    }
   },
   "id": "e8eebf217f34eeb"
  },
  {
   "cell_type": "code",
   "execution_count": 17,
   "outputs": [
    {
     "name": "stdout",
     "output_type": "stream",
     "text": [
      "Scraping data for Game ID: 202310280CLE\n",
      "Scraping data for Game ID: 202311010BOS\n",
      "Scraping data for Game ID: 202311120PHI\n",
      "Scraping data for Game ID: 202311140PHI\n",
      "Scraping data for Game ID: 202311210ATL\n",
      "Scraping data for Game ID: 202311300MIA\n",
      "Scraping data for Game ID: 202312020MIA\n",
      "Scraping data for Game ID: 202312070MIL\n",
      "Scraping data for Game ID: 202312110DET\n",
      "Scraping data for Game ID: 202312130MIL\n",
      "Scraping data for Game ID: 202312150WAS\n",
      "Page load timed out. Retrying...\n",
      "Failed to scrape data for Game ID: 202312150WAS\n",
      "Scraping data for Game ID: 202312160MIN\n",
      "Scraping data for Game ID: 202312210MEM\n",
      "Scraping data for Game ID: 202312260HOU\n",
      "Scraping data for Game ID: 202312280CHI\n",
      "Scraping data for Game ID: 202401010MIL\n",
      "Page load timed out. Retrying...\n",
      "Failed to scrape data for Game ID: 202401010MIL\n",
      "Scraping data for Game ID: 202401120ATL\n",
      "Scraping data for Game ID: 202401140DEN\n",
      "Scraping data for Game ID: 202401150UTA\n",
      "Scraping data for Game ID: 202401180SAC\n",
      "Scraping data for Game ID: 202401190POR\n",
      "Page load timed out. Retrying...\n",
      "Failed to scrape data for Game ID: 202401190POR\n",
      "Scraping data for Game ID: 202401210PHO\n",
      "Scraping data for Game ID: 202401300BOS\n",
      "Scraping data for Game ID: 202402010NYK\n",
      "Scraping data for Game ID: 202402040CHO\n",
      "Scraping data for Game ID: 202402100NYK\n",
      "Scraping data for Game ID: 202402120CHO\n",
      "Scraping data for Game ID: 202402140TOR\n",
      "Scraping data for Game ID: 202403010NOP\n",
      "Page load timed out. Retrying...\n",
      "Failed to scrape data for Game ID: 202403010NOP\n",
      "Scraping data for Game ID: 202403030SAS\n",
      "Scraping data for Game ID: 202403050DAL\n",
      "Scraping data for Game ID: 202403100ORL\n",
      "Scraping data for Game ID: 202403120OKC\n",
      "                              PLAYER    MIN SCREEN\\nAST SCREEN\\nAST PTS  \\\n",
      "0     Bennedict MathurinB. MathurinF  17:04           0               0   \n",
      "1               Obi ToppinO. ToppinF  18:00           0               0   \n",
      "2             Myles TurnerM. TurnerC  29:25           0               0   \n",
      "3               Bruce BrownB. BrownG  32:11           1               2   \n",
      "4    Tyrese HaliburtonT. HaliburtonG  32:01           0               0   \n",
      "..                               ...    ...         ...             ...   \n",
      "335              Jalen SmithJ. Smith  17:58           3               6   \n",
      "336       T.J. McConnellT. McConnell  17:29           0               0   \n",
      "337          Ben SheppardB. Sheppard  17:27           0               0   \n",
      "338           Jarace WalkerJ. Walker   6:51           0               0   \n",
      "339                           TOTALS                  7              15   \n",
      "\n",
      "    deflections OFF LOOSE BALLS\\nRECOVERED DEF LOOSE BALLS\\nRECOVERED  \\\n",
      "0             0                          0                          0   \n",
      "1             0                          1                          0   \n",
      "2             1                          0                          0   \n",
      "3             4                          0                          0   \n",
      "4             1                          0                          0   \n",
      "..          ...                        ...                        ...   \n",
      "335           0                          0                          0   \n",
      "336           3                          0                          0   \n",
      "337           0                          0                          0   \n",
      "338           0                          0                          0   \n",
      "339           6                          0                          3   \n",
      "\n",
      "    LOOSE BALLS\\nRECOVERED CHARGES\\nDRAWN CONTESTED\\n2PT SHOTS  \\\n",
      "0                        0              0                    0   \n",
      "1                        1              0                    4   \n",
      "2                        0              0                    9   \n",
      "3                        0              0                    1   \n",
      "4                        0              0                    3   \n",
      "..                     ...            ...                  ...   \n",
      "335                      0              0                    1   \n",
      "336                      0              0                    0   \n",
      "337                      0              0                    2   \n",
      "338                      0              0                    1   \n",
      "339                      3              1                   26   \n",
      "\n",
      "    CONTESTED\\n3PT SHOTS CONTESTED\\nSHOTS OFF\\nBOX OUTS DEF\\nBOX OUTS  \\\n",
      "0                      1                1             0             1   \n",
      "1                      3                7             0             0   \n",
      "2                      1               10             0             2   \n",
      "3                      1                2             0             0   \n",
      "4                      2                5             0             0   \n",
      "..                   ...              ...           ...           ...   \n",
      "335                    0                1             0             1   \n",
      "336                    1                1             0             0   \n",
      "337                    0                2             0             1   \n",
      "338                    0                1             0             0   \n",
      "339                   14               40             0             4   \n",
      "\n",
      "    BOX OUTS       Game ID  \n",
      "0          1  202310280CLE  \n",
      "1          0  202310280CLE  \n",
      "2          2  202310280CLE  \n",
      "3          0  202310280CLE  \n",
      "4          0  202310280CLE  \n",
      "..       ...           ...  \n",
      "335        1  202403120OKC  \n",
      "336        0  202403120OKC  \n",
      "337        1  202403120OKC  \n",
      "338        0  202403120OKC  \n",
      "339        4  202403120OKC  \n",
      "\n",
      "[340 rows x 16 columns]\n"
     ]
    }
   ],
   "source": [
    "# Function to scrape data from a given URL\n",
    "def scrape_dataaway(url):\n",
    "    try:\n",
    "        # chrome driver to scrape dynamic webpages\n",
    "        driver = webdriver.Chrome()\n",
    "        driver.get(url)\n",
    "\n",
    "        # Wait for the table to be present on the page\n",
    "        WebDriverWait(driver, 3).until(EC.presence_of_element_located((By.TAG_NAME, 'table')))\n",
    "\n",
    "        # beautiful soup to parse it\n",
    "        soup = BeautifulSoup(driver.page_source, 'html.parser')\n",
    "\n",
    "        # Find all tables on the page\n",
    "        tables = soup.find_all('table')\n",
    "\n",
    "        # Select the second table (indexing starts from 0)\n",
    "        t = tables[0]\n",
    "\n",
    "        # Extract headers and data from the table\n",
    "        headers = [i.text.strip() for i in t.find_all('th')]\n",
    "        data = [[i.text.strip() for i in b.find_all('td')] for b in t.find_all('tr')]\n",
    "\n",
    "        # Remove empty rows\n",
    "        data = [row for row in data if len(row) > 1]\n",
    "\n",
    "        # Create DataFrame\n",
    "        df = pd.DataFrame(data, columns=headers)\n",
    "\n",
    "        return df\n",
    "    except TimeoutException:\n",
    "        print(\"Page load timed out. Retrying...\")\n",
    "        return None\n",
    "    finally:\n",
    "        driver.quit()\n",
    "\n",
    "# Initialize an empty list to store DataFrames\n",
    "hustleaway1_dfs = []\n",
    "\n",
    "# Iterate through the schedule DataFrame and scrape data for rows where \"Away\" is NaN\n",
    "for index, row in schedule.iterrows():\n",
    "    if not pd.isna(row['Away']):\n",
    "        game_id = row['Game ID']\n",
    "        url = row['url']\n",
    "        print(f\"Scraping data for Game ID: {game_id}\")\n",
    "\n",
    "        # Attempt to scrape data from the URL\n",
    "        df = scrape_dataaway(url)\n",
    "\n",
    "        if df is not None:\n",
    "            # Add Game ID to the DataFrame\n",
    "            df['Game ID'] = game_id\n",
    "\n",
    "            # Append the scraped DataFrame to the list\n",
    "            hustleaway1_dfs.append(df)\n",
    "        else:\n",
    "            print(f\"Failed to scrape data for Game ID: {game_id}\")\n",
    "\n",
    "# Concatenate all scraped DataFrames into a single DataFrame\n",
    "hustleaway1 = pd.concat(hustleaway1_dfs, ignore_index=True)\n",
    "\n",
    "# Display the combined DataFrame\n",
    "print(hustleaway1)"
   ],
   "metadata": {
    "collapsed": false,
    "ExecuteTime": {
     "end_time": "2024-03-21T23:23:45.993162700Z",
     "start_time": "2024-03-21T23:11:00.240817800Z"
    }
   },
   "id": "8d52cf2ddc128787"
  },
  {
   "cell_type": "code",
   "execution_count": 18,
   "outputs": [
    {
     "name": "stdout",
     "output_type": "stream",
     "text": [
      "Scraping data for URL: https://www.nba.com/game/orl-vs-ind-0022300209/box-score?type=hustle\n"
     ]
    }
   ],
   "source": [
    "# Initialize empty lists to store the URLs\n",
    "failedhome_urls = []\n",
    "\n",
    "# Iterate through the schedule DataFrame to get the URLs for the failed games\n",
    "for index, row in schedule.iterrows():\n",
    "    if row['Game ID'] in ['202311190IND']:\n",
    "        failedhome_urls.append(row['url'])\n",
    "\n",
    "# Initialize an empty list to store DataFrames for the failed games\n",
    "failedhome_dfs = []\n",
    "\n",
    "# Scrape data for the failed games\n",
    "for url in failedhome_urls:\n",
    "    print(f\"Scraping data for URL: {url}\")\n",
    "\n",
    "    # Attempt to scrape data from the URL\n",
    "    df = scrape_datahome(url)\n",
    "\n",
    "    if df is not None:\n",
    "        # Append the scraped DataFrame to the list of failed ones\n",
    "        failedhome_dfs.append(df)\n",
    "    else:\n",
    "        print(f\"Failed to scrape data for URL: {url}\")\n",
    "\n",
    "# Concatenate the DataFrames for the failed games\n",
    "failedhome_df = pd.concat(failedhome_dfs, ignore_index=True)"
   ],
   "metadata": {
    "collapsed": false,
    "ExecuteTime": {
     "end_time": "2024-03-21T23:26:55.134222500Z",
     "start_time": "2024-03-21T23:26:37.834743600Z"
    }
   },
   "id": "8935e5063613dcb6"
  },
  {
   "cell_type": "code",
   "execution_count": 22,
   "outputs": [
    {
     "name": "stdout",
     "output_type": "stream",
     "text": [
      "Scraping data for URL: https://www.nba.com/game/ind-vs-was-0022300328/box-score?type=hustle\n",
      "Scraping data for URL: https://www.nba.com/game/ind-vs-mil-0022300454/box-score?type=hustle\n",
      "Scraping data for URL: https://www.nba.com/game/ind-vs-por-0022300590/box-score?type=hustle\n",
      "Scraping data for URL: https://www.nba.com/game/ind-vs-nop-0022300863/box-score?type=hustle\n"
     ]
    }
   ],
   "source": [
    "# Initialize empty lists to store the URLs\n",
    "failedaway_urls = []\n",
    "\n",
    "# Iterate through the schedule DataFrame to get the URLs for the failed games\n",
    "for index, row in schedule.iterrows():\n",
    "    if row['Game ID'] in ['202312150WAS','202401010MIL','202401190POR','202403010NOP']:\n",
    "        failedaway_urls.append(row['url'])\n",
    "\n",
    "# Initialize an empty list to store DataFrames for the failed games\n",
    "failedaway_dfs = []\n",
    "\n",
    "# Scrape data for the failed games\n",
    "for url in failedaway_urls:\n",
    "    print(f\"Scraping data for URL: {url}\")\n",
    "\n",
    "    # Attempt to scrape data from the URL\n",
    "    df = scrape_dataaway(url)\n",
    "\n",
    "    if df is not None:\n",
    "        # Append the scraped DataFrame to the list of failed ones\n",
    "        failedaway_dfs.append(df)\n",
    "    else:\n",
    "        print(f\"Failed to scrape data for URL: {url}\")\n",
    "\n",
    "# Concatenate the DataFrames for the failed games\n",
    "failedaway_df = pd.concat(failedaway_dfs, ignore_index=True)"
   ],
   "metadata": {
    "collapsed": false,
    "ExecuteTime": {
     "end_time": "2024-03-21T23:32:36.902951800Z",
     "start_time": "2024-03-21T23:31:37.479901500Z"
    }
   },
   "id": "6c16bb6ea1e696e6"
  },
  {
   "cell_type": "code",
   "execution_count": 23,
   "outputs": [
    {
     "data": {
      "text/plain": "                              PLAYER    MIN SCREEN\\nAST SCREEN\\nAST PTS  \\\n0     Bennedict MathurinB. MathurinF  25:50           1               2   \n1               Obi ToppinO. ToppinF  19:14           2               5   \n2             Myles TurnerM. TurnerC  23:20           7              16   \n3               Bruce BrownB. BrownG  27:12           0               0   \n4    Tyrese HaliburtonT. HaliburtonG  26:54           0               0   \n..                               ...    ...         ...             ...   \n402          Ben SheppardB. Sheppard  16:10           0               0   \n403           Jarace WalkerJ. Walker  14:00           1               3   \n404             Jordan NworaJ. Nwora  23:11           0               0   \n405         Isaiah JacksonI. Jackson  12:00           1               2   \n406                           TOTALS                  6              14   \n\n    deflections OFF LOOSE BALLS\\nRECOVERED DEF LOOSE BALLS\\nRECOVERED  \\\n0             3                          0                          0   \n1             1                          0                          1   \n2             0                          0                          0   \n3             1                          0                          0   \n4             2                          0                          0   \n..          ...                        ...                        ...   \n402           3                          0                          1   \n403           1                          0                          0   \n404           4                          0                          0   \n405           2                          0                          1   \n406          19                          1                          3   \n\n    LOOSE BALLS\\nRECOVERED CHARGES\\nDRAWN CONTESTED\\n2PT SHOTS  \\\n0                        0              0                    1   \n1                        1              0                    3   \n2                        0              0                    6   \n3                        0              0                    3   \n4                        0              0                    2   \n..                     ...            ...                  ...   \n402                      1              0                    1   \n403                      0              0                    3   \n404                      0              0                    2   \n405                      1              0                    1   \n406                      4              0                   27   \n\n    CONTESTED\\n3PT SHOTS CONTESTED\\nSHOTS OFF\\nBOX OUTS DEF\\nBOX OUTS  \\\n0                      2                3             0             1   \n1                      0                3             0             1   \n2                      2                8             0             2   \n3                      3                6             0             0   \n4                      1                3             0             0   \n..                   ...              ...           ...           ...   \n402                    1                2             0             0   \n403                    0                3             0             0   \n404                    0                2             0             0   \n405                    2                3             0             0   \n406                    9               36             3             1   \n\n    BOX OUTS       Game ID  \n0          1  202310250IND  \n1          1  202310250IND  \n2          2  202310250IND  \n3          0  202310250IND  \n4          0  202310250IND  \n..       ...           ...  \n402        0           NaN  \n403        0           NaN  \n404        0           NaN  \n405        0           NaN  \n406        4           NaN  \n\n[407 rows x 16 columns]",
      "text/html": "<div>\n<style scoped>\n    .dataframe tbody tr th:only-of-type {\n        vertical-align: middle;\n    }\n\n    .dataframe tbody tr th {\n        vertical-align: top;\n    }\n\n    .dataframe thead th {\n        text-align: right;\n    }\n</style>\n<table border=\"1\" class=\"dataframe\">\n  <thead>\n    <tr style=\"text-align: right;\">\n      <th></th>\n      <th>PLAYER</th>\n      <th>MIN</th>\n      <th>SCREEN\\nAST</th>\n      <th>SCREEN\\nAST PTS</th>\n      <th>deflections</th>\n      <th>OFF LOOSE BALLS\\nRECOVERED</th>\n      <th>DEF LOOSE BALLS\\nRECOVERED</th>\n      <th>LOOSE BALLS\\nRECOVERED</th>\n      <th>CHARGES\\nDRAWN</th>\n      <th>CONTESTED\\n2PT SHOTS</th>\n      <th>CONTESTED\\n3PT SHOTS</th>\n      <th>CONTESTED\\nSHOTS</th>\n      <th>OFF\\nBOX OUTS</th>\n      <th>DEF\\nBOX OUTS</th>\n      <th>BOX OUTS</th>\n      <th>Game ID</th>\n    </tr>\n  </thead>\n  <tbody>\n    <tr>\n      <th>0</th>\n      <td>Bennedict MathurinB. MathurinF</td>\n      <td>25:50</td>\n      <td>1</td>\n      <td>2</td>\n      <td>3</td>\n      <td>0</td>\n      <td>0</td>\n      <td>0</td>\n      <td>0</td>\n      <td>1</td>\n      <td>2</td>\n      <td>3</td>\n      <td>0</td>\n      <td>1</td>\n      <td>1</td>\n      <td>202310250IND</td>\n    </tr>\n    <tr>\n      <th>1</th>\n      <td>Obi ToppinO. ToppinF</td>\n      <td>19:14</td>\n      <td>2</td>\n      <td>5</td>\n      <td>1</td>\n      <td>0</td>\n      <td>1</td>\n      <td>1</td>\n      <td>0</td>\n      <td>3</td>\n      <td>0</td>\n      <td>3</td>\n      <td>0</td>\n      <td>1</td>\n      <td>1</td>\n      <td>202310250IND</td>\n    </tr>\n    <tr>\n      <th>2</th>\n      <td>Myles TurnerM. TurnerC</td>\n      <td>23:20</td>\n      <td>7</td>\n      <td>16</td>\n      <td>0</td>\n      <td>0</td>\n      <td>0</td>\n      <td>0</td>\n      <td>0</td>\n      <td>6</td>\n      <td>2</td>\n      <td>8</td>\n      <td>0</td>\n      <td>2</td>\n      <td>2</td>\n      <td>202310250IND</td>\n    </tr>\n    <tr>\n      <th>3</th>\n      <td>Bruce BrownB. BrownG</td>\n      <td>27:12</td>\n      <td>0</td>\n      <td>0</td>\n      <td>1</td>\n      <td>0</td>\n      <td>0</td>\n      <td>0</td>\n      <td>0</td>\n      <td>3</td>\n      <td>3</td>\n      <td>6</td>\n      <td>0</td>\n      <td>0</td>\n      <td>0</td>\n      <td>202310250IND</td>\n    </tr>\n    <tr>\n      <th>4</th>\n      <td>Tyrese HaliburtonT. HaliburtonG</td>\n      <td>26:54</td>\n      <td>0</td>\n      <td>0</td>\n      <td>2</td>\n      <td>0</td>\n      <td>0</td>\n      <td>0</td>\n      <td>0</td>\n      <td>2</td>\n      <td>1</td>\n      <td>3</td>\n      <td>0</td>\n      <td>0</td>\n      <td>0</td>\n      <td>202310250IND</td>\n    </tr>\n    <tr>\n      <th>...</th>\n      <td>...</td>\n      <td>...</td>\n      <td>...</td>\n      <td>...</td>\n      <td>...</td>\n      <td>...</td>\n      <td>...</td>\n      <td>...</td>\n      <td>...</td>\n      <td>...</td>\n      <td>...</td>\n      <td>...</td>\n      <td>...</td>\n      <td>...</td>\n      <td>...</td>\n      <td>...</td>\n    </tr>\n    <tr>\n      <th>402</th>\n      <td>Ben SheppardB. Sheppard</td>\n      <td>16:10</td>\n      <td>0</td>\n      <td>0</td>\n      <td>3</td>\n      <td>0</td>\n      <td>1</td>\n      <td>1</td>\n      <td>0</td>\n      <td>1</td>\n      <td>1</td>\n      <td>2</td>\n      <td>0</td>\n      <td>0</td>\n      <td>0</td>\n      <td>NaN</td>\n    </tr>\n    <tr>\n      <th>403</th>\n      <td>Jarace WalkerJ. Walker</td>\n      <td>14:00</td>\n      <td>1</td>\n      <td>3</td>\n      <td>1</td>\n      <td>0</td>\n      <td>0</td>\n      <td>0</td>\n      <td>0</td>\n      <td>3</td>\n      <td>0</td>\n      <td>3</td>\n      <td>0</td>\n      <td>0</td>\n      <td>0</td>\n      <td>NaN</td>\n    </tr>\n    <tr>\n      <th>404</th>\n      <td>Jordan NworaJ. Nwora</td>\n      <td>23:11</td>\n      <td>0</td>\n      <td>0</td>\n      <td>4</td>\n      <td>0</td>\n      <td>0</td>\n      <td>0</td>\n      <td>0</td>\n      <td>2</td>\n      <td>0</td>\n      <td>2</td>\n      <td>0</td>\n      <td>0</td>\n      <td>0</td>\n      <td>NaN</td>\n    </tr>\n    <tr>\n      <th>405</th>\n      <td>Isaiah JacksonI. Jackson</td>\n      <td>12:00</td>\n      <td>1</td>\n      <td>2</td>\n      <td>2</td>\n      <td>0</td>\n      <td>1</td>\n      <td>1</td>\n      <td>0</td>\n      <td>1</td>\n      <td>2</td>\n      <td>3</td>\n      <td>0</td>\n      <td>0</td>\n      <td>0</td>\n      <td>NaN</td>\n    </tr>\n    <tr>\n      <th>406</th>\n      <td>TOTALS</td>\n      <td></td>\n      <td>6</td>\n      <td>14</td>\n      <td>19</td>\n      <td>1</td>\n      <td>3</td>\n      <td>4</td>\n      <td>0</td>\n      <td>27</td>\n      <td>9</td>\n      <td>36</td>\n      <td>3</td>\n      <td>1</td>\n      <td>4</td>\n      <td>NaN</td>\n    </tr>\n  </tbody>\n</table>\n<p>407 rows × 16 columns</p>\n</div>"
     },
     "execution_count": 23,
     "metadata": {},
     "output_type": "execute_result"
    }
   ],
   "source": [
    "# Concatenate the DataFrames for the failed games\n",
    "home = pd.concat([hustlehome1, failedhome_df], ignore_index=True)\n",
    "home"
   ],
   "metadata": {
    "collapsed": false,
    "ExecuteTime": {
     "end_time": "2024-03-21T23:32:59.322300800Z",
     "start_time": "2024-03-21T23:32:59.294202300Z"
    }
   },
   "id": "7b2db1cfbd03ec3d"
  },
  {
   "cell_type": "code",
   "execution_count": 24,
   "outputs": [
    {
     "data": {
      "text/plain": "                              PLAYER    MIN SCREEN\\nAST SCREEN\\nAST PTS  \\\n0     Bennedict MathurinB. MathurinF  17:04           0               0   \n1               Obi ToppinO. ToppinF  18:00           0               0   \n2             Myles TurnerM. TurnerC  29:25           0               0   \n3               Bruce BrownB. BrownG  32:11           1               2   \n4    Tyrese HaliburtonT. HaliburtonG  32:01           0               0   \n..                               ...    ...         ...             ...   \n386         Isaiah JacksonI. Jackson  17:57           1               3   \n387          James JohnsonJ. Johnson   7:18           0               0   \n388            Kendall BrownK. Brown   6:37           0               0   \n389        Oscar TshiebweO. Tshiebwe   4:42           0               0   \n390                           TOTALS                  2               5   \n\n    deflections OFF LOOSE BALLS\\nRECOVERED DEF LOOSE BALLS\\nRECOVERED  \\\n0             0                          0                          0   \n1             0                          1                          0   \n2             1                          0                          0   \n3             4                          0                          0   \n4             1                          0                          0   \n..          ...                        ...                        ...   \n386           3                          0                          0   \n387           0                          0                          0   \n388           2                          1                          0   \n389           0                          1                          0   \n390          18                          8                          2   \n\n    LOOSE BALLS\\nRECOVERED CHARGES\\nDRAWN CONTESTED\\n2PT SHOTS  \\\n0                        0              0                    0   \n1                        1              0                    4   \n2                        0              0                    9   \n3                        0              0                    1   \n4                        0              0                    3   \n..                     ...            ...                  ...   \n386                      0              0                    3   \n387                      0              0                    1   \n388                      1              0                    0   \n389                      1              0                    1   \n390                     10              0                   27   \n\n    CONTESTED\\n3PT SHOTS CONTESTED\\nSHOTS OFF\\nBOX OUTS DEF\\nBOX OUTS  \\\n0                      1                1             0             1   \n1                      3                7             0             0   \n2                      1               10             0             2   \n3                      1                2             0             0   \n4                      2                5             0             0   \n..                   ...              ...           ...           ...   \n386                    0                3             0             0   \n387                    0                1             0             0   \n388                    0                0             0             0   \n389                    0                1             0             1   \n390                    8               35             0             2   \n\n    BOX OUTS       Game ID  \n0          1  202310280CLE  \n1          0  202310280CLE  \n2          2  202310280CLE  \n3          0  202310280CLE  \n4          0  202310280CLE  \n..       ...           ...  \n386        0           NaN  \n387        0           NaN  \n388        0           NaN  \n389        1           NaN  \n390        2           NaN  \n\n[391 rows x 16 columns]",
      "text/html": "<div>\n<style scoped>\n    .dataframe tbody tr th:only-of-type {\n        vertical-align: middle;\n    }\n\n    .dataframe tbody tr th {\n        vertical-align: top;\n    }\n\n    .dataframe thead th {\n        text-align: right;\n    }\n</style>\n<table border=\"1\" class=\"dataframe\">\n  <thead>\n    <tr style=\"text-align: right;\">\n      <th></th>\n      <th>PLAYER</th>\n      <th>MIN</th>\n      <th>SCREEN\\nAST</th>\n      <th>SCREEN\\nAST PTS</th>\n      <th>deflections</th>\n      <th>OFF LOOSE BALLS\\nRECOVERED</th>\n      <th>DEF LOOSE BALLS\\nRECOVERED</th>\n      <th>LOOSE BALLS\\nRECOVERED</th>\n      <th>CHARGES\\nDRAWN</th>\n      <th>CONTESTED\\n2PT SHOTS</th>\n      <th>CONTESTED\\n3PT SHOTS</th>\n      <th>CONTESTED\\nSHOTS</th>\n      <th>OFF\\nBOX OUTS</th>\n      <th>DEF\\nBOX OUTS</th>\n      <th>BOX OUTS</th>\n      <th>Game ID</th>\n    </tr>\n  </thead>\n  <tbody>\n    <tr>\n      <th>0</th>\n      <td>Bennedict MathurinB. MathurinF</td>\n      <td>17:04</td>\n      <td>0</td>\n      <td>0</td>\n      <td>0</td>\n      <td>0</td>\n      <td>0</td>\n      <td>0</td>\n      <td>0</td>\n      <td>0</td>\n      <td>1</td>\n      <td>1</td>\n      <td>0</td>\n      <td>1</td>\n      <td>1</td>\n      <td>202310280CLE</td>\n    </tr>\n    <tr>\n      <th>1</th>\n      <td>Obi ToppinO. ToppinF</td>\n      <td>18:00</td>\n      <td>0</td>\n      <td>0</td>\n      <td>0</td>\n      <td>1</td>\n      <td>0</td>\n      <td>1</td>\n      <td>0</td>\n      <td>4</td>\n      <td>3</td>\n      <td>7</td>\n      <td>0</td>\n      <td>0</td>\n      <td>0</td>\n      <td>202310280CLE</td>\n    </tr>\n    <tr>\n      <th>2</th>\n      <td>Myles TurnerM. TurnerC</td>\n      <td>29:25</td>\n      <td>0</td>\n      <td>0</td>\n      <td>1</td>\n      <td>0</td>\n      <td>0</td>\n      <td>0</td>\n      <td>0</td>\n      <td>9</td>\n      <td>1</td>\n      <td>10</td>\n      <td>0</td>\n      <td>2</td>\n      <td>2</td>\n      <td>202310280CLE</td>\n    </tr>\n    <tr>\n      <th>3</th>\n      <td>Bruce BrownB. BrownG</td>\n      <td>32:11</td>\n      <td>1</td>\n      <td>2</td>\n      <td>4</td>\n      <td>0</td>\n      <td>0</td>\n      <td>0</td>\n      <td>0</td>\n      <td>1</td>\n      <td>1</td>\n      <td>2</td>\n      <td>0</td>\n      <td>0</td>\n      <td>0</td>\n      <td>202310280CLE</td>\n    </tr>\n    <tr>\n      <th>4</th>\n      <td>Tyrese HaliburtonT. HaliburtonG</td>\n      <td>32:01</td>\n      <td>0</td>\n      <td>0</td>\n      <td>1</td>\n      <td>0</td>\n      <td>0</td>\n      <td>0</td>\n      <td>0</td>\n      <td>3</td>\n      <td>2</td>\n      <td>5</td>\n      <td>0</td>\n      <td>0</td>\n      <td>0</td>\n      <td>202310280CLE</td>\n    </tr>\n    <tr>\n      <th>...</th>\n      <td>...</td>\n      <td>...</td>\n      <td>...</td>\n      <td>...</td>\n      <td>...</td>\n      <td>...</td>\n      <td>...</td>\n      <td>...</td>\n      <td>...</td>\n      <td>...</td>\n      <td>...</td>\n      <td>...</td>\n      <td>...</td>\n      <td>...</td>\n      <td>...</td>\n      <td>...</td>\n    </tr>\n    <tr>\n      <th>386</th>\n      <td>Isaiah JacksonI. Jackson</td>\n      <td>17:57</td>\n      <td>1</td>\n      <td>3</td>\n      <td>3</td>\n      <td>0</td>\n      <td>0</td>\n      <td>0</td>\n      <td>0</td>\n      <td>3</td>\n      <td>0</td>\n      <td>3</td>\n      <td>0</td>\n      <td>0</td>\n      <td>0</td>\n      <td>NaN</td>\n    </tr>\n    <tr>\n      <th>387</th>\n      <td>James JohnsonJ. Johnson</td>\n      <td>7:18</td>\n      <td>0</td>\n      <td>0</td>\n      <td>0</td>\n      <td>0</td>\n      <td>0</td>\n      <td>0</td>\n      <td>0</td>\n      <td>1</td>\n      <td>0</td>\n      <td>1</td>\n      <td>0</td>\n      <td>0</td>\n      <td>0</td>\n      <td>NaN</td>\n    </tr>\n    <tr>\n      <th>388</th>\n      <td>Kendall BrownK. Brown</td>\n      <td>6:37</td>\n      <td>0</td>\n      <td>0</td>\n      <td>2</td>\n      <td>1</td>\n      <td>0</td>\n      <td>1</td>\n      <td>0</td>\n      <td>0</td>\n      <td>0</td>\n      <td>0</td>\n      <td>0</td>\n      <td>0</td>\n      <td>0</td>\n      <td>NaN</td>\n    </tr>\n    <tr>\n      <th>389</th>\n      <td>Oscar TshiebweO. Tshiebwe</td>\n      <td>4:42</td>\n      <td>0</td>\n      <td>0</td>\n      <td>0</td>\n      <td>1</td>\n      <td>0</td>\n      <td>1</td>\n      <td>0</td>\n      <td>1</td>\n      <td>0</td>\n      <td>1</td>\n      <td>0</td>\n      <td>1</td>\n      <td>1</td>\n      <td>NaN</td>\n    </tr>\n    <tr>\n      <th>390</th>\n      <td>TOTALS</td>\n      <td></td>\n      <td>2</td>\n      <td>5</td>\n      <td>18</td>\n      <td>8</td>\n      <td>2</td>\n      <td>10</td>\n      <td>0</td>\n      <td>27</td>\n      <td>8</td>\n      <td>35</td>\n      <td>0</td>\n      <td>2</td>\n      <td>2</td>\n      <td>NaN</td>\n    </tr>\n  </tbody>\n</table>\n<p>391 rows × 16 columns</p>\n</div>"
     },
     "execution_count": 24,
     "metadata": {},
     "output_type": "execute_result"
    }
   ],
   "source": [
    "# Concatenate the DataFrames for the failed games\n",
    "away = pd.concat([hustleaway1, failedaway_df], ignore_index=True)\n",
    "away"
   ],
   "metadata": {
    "collapsed": false,
    "ExecuteTime": {
     "end_time": "2024-03-21T23:33:26.959434400Z",
     "start_time": "2024-03-21T23:33:26.908402800Z"
    }
   },
   "id": "96ec2885f42d011"
  },
  {
   "cell_type": "code",
   "execution_count": 25,
   "outputs": [],
   "source": [
    "hustle = pd.concat([home, away], ignore_index=True)"
   ],
   "metadata": {
    "collapsed": false,
    "ExecuteTime": {
     "end_time": "2024-03-21T23:34:01.065654500Z",
     "start_time": "2024-03-21T23:34:00.995584Z"
    }
   },
   "id": "f75b1e5dfbee1057"
  },
  {
   "cell_type": "code",
   "execution_count": 26,
   "outputs": [
    {
     "data": {
      "text/plain": "                              PLAYER    MIN SCREEN\\nAST SCREEN\\nAST PTS  \\\n0     Bennedict MathurinB. MathurinF  25:50           1               2   \n1               Obi ToppinO. ToppinF  19:14           2               5   \n2             Myles TurnerM. TurnerC  23:20           7              16   \n3               Bruce BrownB. BrownG  27:12           0               0   \n4    Tyrese HaliburtonT. HaliburtonG  26:54           0               0   \n..                               ...    ...         ...             ...   \n793         Isaiah JacksonI. Jackson  17:57           1               3   \n794          James JohnsonJ. Johnson   7:18           0               0   \n795            Kendall BrownK. Brown   6:37           0               0   \n796        Oscar TshiebweO. Tshiebwe   4:42           0               0   \n797                           TOTALS                  2               5   \n\n    deflections OFF LOOSE BALLS\\nRECOVERED DEF LOOSE BALLS\\nRECOVERED  \\\n0             3                          0                          0   \n1             1                          0                          1   \n2             0                          0                          0   \n3             1                          0                          0   \n4             2                          0                          0   \n..          ...                        ...                        ...   \n793           3                          0                          0   \n794           0                          0                          0   \n795           2                          1                          0   \n796           0                          1                          0   \n797          18                          8                          2   \n\n    LOOSE BALLS\\nRECOVERED CHARGES\\nDRAWN CONTESTED\\n2PT SHOTS  \\\n0                        0              0                    1   \n1                        1              0                    3   \n2                        0              0                    6   \n3                        0              0                    3   \n4                        0              0                    2   \n..                     ...            ...                  ...   \n793                      0              0                    3   \n794                      0              0                    1   \n795                      1              0                    0   \n796                      1              0                    1   \n797                     10              0                   27   \n\n    CONTESTED\\n3PT SHOTS CONTESTED\\nSHOTS OFF\\nBOX OUTS DEF\\nBOX OUTS  \\\n0                      2                3             0             1   \n1                      0                3             0             1   \n2                      2                8             0             2   \n3                      3                6             0             0   \n4                      1                3             0             0   \n..                   ...              ...           ...           ...   \n793                    0                3             0             0   \n794                    0                1             0             0   \n795                    0                0             0             0   \n796                    0                1             0             1   \n797                    8               35             0             2   \n\n    BOX OUTS       Game ID  \n0          1  202310250IND  \n1          1  202310250IND  \n2          2  202310250IND  \n3          0  202310250IND  \n4          0  202310250IND  \n..       ...           ...  \n793        0           NaN  \n794        0           NaN  \n795        0           NaN  \n796        1           NaN  \n797        2           NaN  \n\n[798 rows x 16 columns]",
      "text/html": "<div>\n<style scoped>\n    .dataframe tbody tr th:only-of-type {\n        vertical-align: middle;\n    }\n\n    .dataframe tbody tr th {\n        vertical-align: top;\n    }\n\n    .dataframe thead th {\n        text-align: right;\n    }\n</style>\n<table border=\"1\" class=\"dataframe\">\n  <thead>\n    <tr style=\"text-align: right;\">\n      <th></th>\n      <th>PLAYER</th>\n      <th>MIN</th>\n      <th>SCREEN\\nAST</th>\n      <th>SCREEN\\nAST PTS</th>\n      <th>deflections</th>\n      <th>OFF LOOSE BALLS\\nRECOVERED</th>\n      <th>DEF LOOSE BALLS\\nRECOVERED</th>\n      <th>LOOSE BALLS\\nRECOVERED</th>\n      <th>CHARGES\\nDRAWN</th>\n      <th>CONTESTED\\n2PT SHOTS</th>\n      <th>CONTESTED\\n3PT SHOTS</th>\n      <th>CONTESTED\\nSHOTS</th>\n      <th>OFF\\nBOX OUTS</th>\n      <th>DEF\\nBOX OUTS</th>\n      <th>BOX OUTS</th>\n      <th>Game ID</th>\n    </tr>\n  </thead>\n  <tbody>\n    <tr>\n      <th>0</th>\n      <td>Bennedict MathurinB. MathurinF</td>\n      <td>25:50</td>\n      <td>1</td>\n      <td>2</td>\n      <td>3</td>\n      <td>0</td>\n      <td>0</td>\n      <td>0</td>\n      <td>0</td>\n      <td>1</td>\n      <td>2</td>\n      <td>3</td>\n      <td>0</td>\n      <td>1</td>\n      <td>1</td>\n      <td>202310250IND</td>\n    </tr>\n    <tr>\n      <th>1</th>\n      <td>Obi ToppinO. ToppinF</td>\n      <td>19:14</td>\n      <td>2</td>\n      <td>5</td>\n      <td>1</td>\n      <td>0</td>\n      <td>1</td>\n      <td>1</td>\n      <td>0</td>\n      <td>3</td>\n      <td>0</td>\n      <td>3</td>\n      <td>0</td>\n      <td>1</td>\n      <td>1</td>\n      <td>202310250IND</td>\n    </tr>\n    <tr>\n      <th>2</th>\n      <td>Myles TurnerM. TurnerC</td>\n      <td>23:20</td>\n      <td>7</td>\n      <td>16</td>\n      <td>0</td>\n      <td>0</td>\n      <td>0</td>\n      <td>0</td>\n      <td>0</td>\n      <td>6</td>\n      <td>2</td>\n      <td>8</td>\n      <td>0</td>\n      <td>2</td>\n      <td>2</td>\n      <td>202310250IND</td>\n    </tr>\n    <tr>\n      <th>3</th>\n      <td>Bruce BrownB. BrownG</td>\n      <td>27:12</td>\n      <td>0</td>\n      <td>0</td>\n      <td>1</td>\n      <td>0</td>\n      <td>0</td>\n      <td>0</td>\n      <td>0</td>\n      <td>3</td>\n      <td>3</td>\n      <td>6</td>\n      <td>0</td>\n      <td>0</td>\n      <td>0</td>\n      <td>202310250IND</td>\n    </tr>\n    <tr>\n      <th>4</th>\n      <td>Tyrese HaliburtonT. HaliburtonG</td>\n      <td>26:54</td>\n      <td>0</td>\n      <td>0</td>\n      <td>2</td>\n      <td>0</td>\n      <td>0</td>\n      <td>0</td>\n      <td>0</td>\n      <td>2</td>\n      <td>1</td>\n      <td>3</td>\n      <td>0</td>\n      <td>0</td>\n      <td>0</td>\n      <td>202310250IND</td>\n    </tr>\n    <tr>\n      <th>...</th>\n      <td>...</td>\n      <td>...</td>\n      <td>...</td>\n      <td>...</td>\n      <td>...</td>\n      <td>...</td>\n      <td>...</td>\n      <td>...</td>\n      <td>...</td>\n      <td>...</td>\n      <td>...</td>\n      <td>...</td>\n      <td>...</td>\n      <td>...</td>\n      <td>...</td>\n      <td>...</td>\n    </tr>\n    <tr>\n      <th>793</th>\n      <td>Isaiah JacksonI. Jackson</td>\n      <td>17:57</td>\n      <td>1</td>\n      <td>3</td>\n      <td>3</td>\n      <td>0</td>\n      <td>0</td>\n      <td>0</td>\n      <td>0</td>\n      <td>3</td>\n      <td>0</td>\n      <td>3</td>\n      <td>0</td>\n      <td>0</td>\n      <td>0</td>\n      <td>NaN</td>\n    </tr>\n    <tr>\n      <th>794</th>\n      <td>James JohnsonJ. Johnson</td>\n      <td>7:18</td>\n      <td>0</td>\n      <td>0</td>\n      <td>0</td>\n      <td>0</td>\n      <td>0</td>\n      <td>0</td>\n      <td>0</td>\n      <td>1</td>\n      <td>0</td>\n      <td>1</td>\n      <td>0</td>\n      <td>0</td>\n      <td>0</td>\n      <td>NaN</td>\n    </tr>\n    <tr>\n      <th>795</th>\n      <td>Kendall BrownK. Brown</td>\n      <td>6:37</td>\n      <td>0</td>\n      <td>0</td>\n      <td>2</td>\n      <td>1</td>\n      <td>0</td>\n      <td>1</td>\n      <td>0</td>\n      <td>0</td>\n      <td>0</td>\n      <td>0</td>\n      <td>0</td>\n      <td>0</td>\n      <td>0</td>\n      <td>NaN</td>\n    </tr>\n    <tr>\n      <th>796</th>\n      <td>Oscar TshiebweO. Tshiebwe</td>\n      <td>4:42</td>\n      <td>0</td>\n      <td>0</td>\n      <td>0</td>\n      <td>1</td>\n      <td>0</td>\n      <td>1</td>\n      <td>0</td>\n      <td>1</td>\n      <td>0</td>\n      <td>1</td>\n      <td>0</td>\n      <td>1</td>\n      <td>1</td>\n      <td>NaN</td>\n    </tr>\n    <tr>\n      <th>797</th>\n      <td>TOTALS</td>\n      <td></td>\n      <td>2</td>\n      <td>5</td>\n      <td>18</td>\n      <td>8</td>\n      <td>2</td>\n      <td>10</td>\n      <td>0</td>\n      <td>27</td>\n      <td>8</td>\n      <td>35</td>\n      <td>0</td>\n      <td>2</td>\n      <td>2</td>\n      <td>NaN</td>\n    </tr>\n  </tbody>\n</table>\n<p>798 rows × 16 columns</p>\n</div>"
     },
     "execution_count": 26,
     "metadata": {},
     "output_type": "execute_result"
    }
   ],
   "source": [
    "hustle"
   ],
   "metadata": {
    "collapsed": false,
    "ExecuteTime": {
     "end_time": "2024-03-21T23:34:02.892583200Z",
     "start_time": "2024-03-21T23:34:02.755811Z"
    }
   },
   "id": "53e1059f88f496d"
  },
  {
   "cell_type": "code",
   "execution_count": null,
   "outputs": [],
   "source": [],
   "metadata": {
    "collapsed": false
   },
   "id": "8c6cf753bfe90ba2"
  }
 ],
 "metadata": {
  "kernelspec": {
   "display_name": "Python 3",
   "language": "python",
   "name": "python3"
  },
  "language_info": {
   "codemirror_mode": {
    "name": "ipython",
    "version": 2
   },
   "file_extension": ".py",
   "mimetype": "text/x-python",
   "name": "python",
   "nbconvert_exporter": "python",
   "pygments_lexer": "ipython2",
   "version": "2.7.6"
  }
 },
 "nbformat": 4,
 "nbformat_minor": 5
}
