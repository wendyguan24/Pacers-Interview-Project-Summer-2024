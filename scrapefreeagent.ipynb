{
 "cells": [
  {
   "cell_type": "code",
   "execution_count": 30,
   "id": "initial_id",
   "metadata": {
    "collapsed": true,
    "ExecuteTime": {
     "end_time": "2024-03-23T06:54:55.379005500Z",
     "start_time": "2024-03-23T06:54:49.208654100Z"
    }
   },
   "outputs": [],
   "source": [
    "# Scraping NBA Hustle Stats\n",
    "from selenium import webdriver\n",
    "from bs4 import BeautifulSoup\n",
    "import pandas as pd\n",
    "\n",
    "url = \"https://www.spotrac.com/nba/free-agents/\"\n",
    "\n",
    "\n",
    "# chrome driver to scrape dynamic webpages\n",
    "driver = webdriver.Chrome()\n",
    "driver.get(url)\n",
    "\n",
    "# beautiful soup to parse it\n",
    "soup = BeautifulSoup(driver.page_source, 'html.parser')\n",
    "tmp = soup.find_all('div', {'class': 'relative'})\n",
    "\n",
    "tables = soup.find_all('table')\n",
    "\n",
    "t = tables[0]\n",
    "\n",
    "headers, [_, *data] = [i.text for i in t.find_all(\n",
    "    'th')], [[i.text for i in b.find_all('td')] for b in t.find_all('tr')]\n",
    "final_data = [i for i in data if len(i) > 1]\n",
    "\n",
    "# format headers, for strings with '\\n' in it, remove \\n\n",
    "for h in headers:\n",
    "    if '\\n' in h:\n",
    "        headers[headers.index(h)] = h.replace('\\n', ' ')\n",
    "\n",
    "# headers all lower case\n",
    "headers = [i.lower() for i in headers]\n",
    "\n",
    "data_attrs = [dict(zip(headers, i)) for i in final_data]\n",
    "\n",
    "df = pd.DataFrame(data_attrs)"
   ]
  },
  {
   "cell_type": "code",
   "execution_count": 31,
   "outputs": [
    {
     "data": {
      "text/plain": "                         player (214)     pos.   age exp      team  \\\n0             \\nJames\\nLeBron James\\n  \\n   PF  39.2  21  \\n LAL\\n   \n1             \\nGeorge\\nPaul George\\n  \\n   SG  33.8  14  \\n LAC\\n   \n2         \\nThompson\\nKlay Thompson\\n  \\n   SG  34.1  13  \\n GSW\\n   \n3           \\nHarris\\nTobias Harris\\n  \\n   PF  31.7  13  \\n PHI\\n   \n4            \\nHarden\\nJames Harden\\n  \\n   SG  34.5  14  \\n LAC\\n   \n..                                ...  ..  ...   ...  ..       ...   \n209           \\nDowtin\\nJeff Dowtin\\n  \\n   PG  26.8   3  \\n PHI\\n   \n210        \\nGilyard\\nJacob Gilyard\\n  \\n   PG  25.7   2  \\n BKN\\n   \n211      \\nJackson\\nQuenton Jackson\\n  \\n    G  25.5   2  \\n IND\\n   \n212        \\nWindler\\nDylan Windler\\n  \\n   SF  27.5   5  \\n ATL\\n   \n213  \\nWainright\\nIshmail Wainright\\n  \\n   SF  29.5   3  \\n PHX\\n   \n\n                     type  2023-24 aav  \n0    \\nPlayer / $51.4M \\n  $49,511,644  \n1    \\nPlayer / $48.8M \\n  $44,066,367  \n2         \\nUFA : Bird \\n  $37,980,720  \n3         \\nUFA : Bird \\n  $36,000,000  \n4         \\nUFA : Bird \\n  $34,320,000  \n..                    ...          ...  \n209    \\nRFA : Two-Way \\n           -0  \n210    \\nRFA : Two-Way \\n           -0  \n211    \\nRFA : Two-Way \\n           -0  \n212    \\nRFA : Two-Way \\n           -0  \n213    \\nRFA : Two-Way \\n           -0  \n\n[214 rows x 8 columns]",
      "text/html": "<div>\n<style scoped>\n    .dataframe tbody tr th:only-of-type {\n        vertical-align: middle;\n    }\n\n    .dataframe tbody tr th {\n        vertical-align: top;\n    }\n\n    .dataframe thead th {\n        text-align: right;\n    }\n</style>\n<table border=\"1\" class=\"dataframe\">\n  <thead>\n    <tr style=\"text-align: right;\">\n      <th></th>\n      <th>player (214)</th>\n      <th></th>\n      <th>pos.</th>\n      <th>age</th>\n      <th>exp</th>\n      <th>team</th>\n      <th>type</th>\n      <th>2023-24 aav</th>\n    </tr>\n  </thead>\n  <tbody>\n    <tr>\n      <th>0</th>\n      <td>\\nJames\\nLeBron James\\n</td>\n      <td>\\n</td>\n      <td>PF</td>\n      <td>39.2</td>\n      <td>21</td>\n      <td>\\n LAL\\n</td>\n      <td>\\nPlayer / $51.4M \\n</td>\n      <td>$49,511,644</td>\n    </tr>\n    <tr>\n      <th>1</th>\n      <td>\\nGeorge\\nPaul George\\n</td>\n      <td>\\n</td>\n      <td>SG</td>\n      <td>33.8</td>\n      <td>14</td>\n      <td>\\n LAC\\n</td>\n      <td>\\nPlayer / $48.8M \\n</td>\n      <td>$44,066,367</td>\n    </tr>\n    <tr>\n      <th>2</th>\n      <td>\\nThompson\\nKlay Thompson\\n</td>\n      <td>\\n</td>\n      <td>SG</td>\n      <td>34.1</td>\n      <td>13</td>\n      <td>\\n GSW\\n</td>\n      <td>\\nUFA : Bird \\n</td>\n      <td>$37,980,720</td>\n    </tr>\n    <tr>\n      <th>3</th>\n      <td>\\nHarris\\nTobias Harris\\n</td>\n      <td>\\n</td>\n      <td>PF</td>\n      <td>31.7</td>\n      <td>13</td>\n      <td>\\n PHI\\n</td>\n      <td>\\nUFA : Bird \\n</td>\n      <td>$36,000,000</td>\n    </tr>\n    <tr>\n      <th>4</th>\n      <td>\\nHarden\\nJames Harden\\n</td>\n      <td>\\n</td>\n      <td>SG</td>\n      <td>34.5</td>\n      <td>14</td>\n      <td>\\n LAC\\n</td>\n      <td>\\nUFA : Bird \\n</td>\n      <td>$34,320,000</td>\n    </tr>\n    <tr>\n      <th>...</th>\n      <td>...</td>\n      <td>...</td>\n      <td>...</td>\n      <td>...</td>\n      <td>...</td>\n      <td>...</td>\n      <td>...</td>\n      <td>...</td>\n    </tr>\n    <tr>\n      <th>209</th>\n      <td>\\nDowtin\\nJeff Dowtin\\n</td>\n      <td>\\n</td>\n      <td>PG</td>\n      <td>26.8</td>\n      <td>3</td>\n      <td>\\n PHI\\n</td>\n      <td>\\nRFA : Two-Way \\n</td>\n      <td>-0</td>\n    </tr>\n    <tr>\n      <th>210</th>\n      <td>\\nGilyard\\nJacob Gilyard\\n</td>\n      <td>\\n</td>\n      <td>PG</td>\n      <td>25.7</td>\n      <td>2</td>\n      <td>\\n BKN\\n</td>\n      <td>\\nRFA : Two-Way \\n</td>\n      <td>-0</td>\n    </tr>\n    <tr>\n      <th>211</th>\n      <td>\\nJackson\\nQuenton Jackson\\n</td>\n      <td>\\n</td>\n      <td>G</td>\n      <td>25.5</td>\n      <td>2</td>\n      <td>\\n IND\\n</td>\n      <td>\\nRFA : Two-Way \\n</td>\n      <td>-0</td>\n    </tr>\n    <tr>\n      <th>212</th>\n      <td>\\nWindler\\nDylan Windler\\n</td>\n      <td>\\n</td>\n      <td>SF</td>\n      <td>27.5</td>\n      <td>5</td>\n      <td>\\n ATL\\n</td>\n      <td>\\nRFA : Two-Way \\n</td>\n      <td>-0</td>\n    </tr>\n    <tr>\n      <th>213</th>\n      <td>\\nWainright\\nIshmail Wainright\\n</td>\n      <td>\\n</td>\n      <td>SF</td>\n      <td>29.5</td>\n      <td>3</td>\n      <td>\\n PHX\\n</td>\n      <td>\\nRFA : Two-Way \\n</td>\n      <td>-0</td>\n    </tr>\n  </tbody>\n</table>\n<p>214 rows × 8 columns</p>\n</div>"
     },
     "execution_count": 31,
     "metadata": {},
     "output_type": "execute_result"
    }
   ],
   "source": [
    "df"
   ],
   "metadata": {
    "collapsed": false,
    "ExecuteTime": {
     "end_time": "2024-03-23T06:54:55.399639800Z",
     "start_time": "2024-03-23T06:54:55.382823600Z"
    }
   },
   "id": "c4fda1cb1063b24b"
  },
  {
   "cell_type": "code",
   "execution_count": 32,
   "outputs": [],
   "source": [
    "# Clean the DataFrame\n",
    "# Remove newline characters from 'player (214)' column and rename it to 'player'\n",
    "df.rename(columns={'player (214)': 'player', 'pos.': 'position', '2023-24 aav': 'salary'}, inplace=True)\n",
    "df['player'] = df['player'].str.replace('\\n', '')\n",
    "\n",
    "df['team'] = df['team'].str.replace('\\n ', '')\n",
    "df['team'] = df['team'].str.replace('\\n', '')\n",
    "df['type'] = df['type'].str.replace('\\n', '')"
   ],
   "metadata": {
    "collapsed": false,
    "ExecuteTime": {
     "end_time": "2024-03-23T06:54:55.447245700Z",
     "start_time": "2024-03-23T06:54:55.403642400Z"
    }
   },
   "id": "6e6767e4f1d6c790"
  },
  {
   "cell_type": "code",
   "execution_count": 33,
   "outputs": [
    {
     "data": {
      "text/plain": "                         player     position   age exp team              type  \\\n0             JamesLeBron James  \\n       PF  39.2  21  LAL  Player / $51.4M    \n1             GeorgePaul George  \\n       SG  33.8  14  LAC  Player / $48.8M    \n2         ThompsonKlay Thompson  \\n       SG  34.1  13  GSW       UFA : Bird    \n3           HarrisTobias Harris  \\n       PF  31.7  13  PHI       UFA : Bird    \n4            HardenJames Harden  \\n       SG  34.5  14  LAC       UFA : Bird    \n..                          ...  ..      ...   ...  ..  ...               ...   \n209           DowtinJeff Dowtin  \\n       PG  26.8   3  PHI    RFA : Two-Way    \n210        GilyardJacob Gilyard  \\n       PG  25.7   2  BKN    RFA : Two-Way    \n211      JacksonQuenton Jackson  \\n        G  25.5   2  IND    RFA : Two-Way    \n212        WindlerDylan Windler  \\n       SF  27.5   5  ATL    RFA : Two-Way    \n213  WainrightIshmail Wainright  \\n       SF  29.5   3  PHX    RFA : Two-Way    \n\n          salary  \n0    $49,511,644  \n1    $44,066,367  \n2    $37,980,720  \n3    $36,000,000  \n4    $34,320,000  \n..           ...  \n209           -0  \n210           -0  \n211           -0  \n212           -0  \n213           -0  \n\n[214 rows x 8 columns]",
      "text/html": "<div>\n<style scoped>\n    .dataframe tbody tr th:only-of-type {\n        vertical-align: middle;\n    }\n\n    .dataframe tbody tr th {\n        vertical-align: top;\n    }\n\n    .dataframe thead th {\n        text-align: right;\n    }\n</style>\n<table border=\"1\" class=\"dataframe\">\n  <thead>\n    <tr style=\"text-align: right;\">\n      <th></th>\n      <th>player</th>\n      <th></th>\n      <th>position</th>\n      <th>age</th>\n      <th>exp</th>\n      <th>team</th>\n      <th>type</th>\n      <th>salary</th>\n    </tr>\n  </thead>\n  <tbody>\n    <tr>\n      <th>0</th>\n      <td>JamesLeBron James</td>\n      <td>\\n</td>\n      <td>PF</td>\n      <td>39.2</td>\n      <td>21</td>\n      <td>LAL</td>\n      <td>Player / $51.4M</td>\n      <td>$49,511,644</td>\n    </tr>\n    <tr>\n      <th>1</th>\n      <td>GeorgePaul George</td>\n      <td>\\n</td>\n      <td>SG</td>\n      <td>33.8</td>\n      <td>14</td>\n      <td>LAC</td>\n      <td>Player / $48.8M</td>\n      <td>$44,066,367</td>\n    </tr>\n    <tr>\n      <th>2</th>\n      <td>ThompsonKlay Thompson</td>\n      <td>\\n</td>\n      <td>SG</td>\n      <td>34.1</td>\n      <td>13</td>\n      <td>GSW</td>\n      <td>UFA : Bird</td>\n      <td>$37,980,720</td>\n    </tr>\n    <tr>\n      <th>3</th>\n      <td>HarrisTobias Harris</td>\n      <td>\\n</td>\n      <td>PF</td>\n      <td>31.7</td>\n      <td>13</td>\n      <td>PHI</td>\n      <td>UFA : Bird</td>\n      <td>$36,000,000</td>\n    </tr>\n    <tr>\n      <th>4</th>\n      <td>HardenJames Harden</td>\n      <td>\\n</td>\n      <td>SG</td>\n      <td>34.5</td>\n      <td>14</td>\n      <td>LAC</td>\n      <td>UFA : Bird</td>\n      <td>$34,320,000</td>\n    </tr>\n    <tr>\n      <th>...</th>\n      <td>...</td>\n      <td>...</td>\n      <td>...</td>\n      <td>...</td>\n      <td>...</td>\n      <td>...</td>\n      <td>...</td>\n      <td>...</td>\n    </tr>\n    <tr>\n      <th>209</th>\n      <td>DowtinJeff Dowtin</td>\n      <td>\\n</td>\n      <td>PG</td>\n      <td>26.8</td>\n      <td>3</td>\n      <td>PHI</td>\n      <td>RFA : Two-Way</td>\n      <td>-0</td>\n    </tr>\n    <tr>\n      <th>210</th>\n      <td>GilyardJacob Gilyard</td>\n      <td>\\n</td>\n      <td>PG</td>\n      <td>25.7</td>\n      <td>2</td>\n      <td>BKN</td>\n      <td>RFA : Two-Way</td>\n      <td>-0</td>\n    </tr>\n    <tr>\n      <th>211</th>\n      <td>JacksonQuenton Jackson</td>\n      <td>\\n</td>\n      <td>G</td>\n      <td>25.5</td>\n      <td>2</td>\n      <td>IND</td>\n      <td>RFA : Two-Way</td>\n      <td>-0</td>\n    </tr>\n    <tr>\n      <th>212</th>\n      <td>WindlerDylan Windler</td>\n      <td>\\n</td>\n      <td>SF</td>\n      <td>27.5</td>\n      <td>5</td>\n      <td>ATL</td>\n      <td>RFA : Two-Way</td>\n      <td>-0</td>\n    </tr>\n    <tr>\n      <th>213</th>\n      <td>WainrightIshmail Wainright</td>\n      <td>\\n</td>\n      <td>SF</td>\n      <td>29.5</td>\n      <td>3</td>\n      <td>PHX</td>\n      <td>RFA : Two-Way</td>\n      <td>-0</td>\n    </tr>\n  </tbody>\n</table>\n<p>214 rows × 8 columns</p>\n</div>"
     },
     "execution_count": 33,
     "metadata": {},
     "output_type": "execute_result"
    }
   ],
   "source": [
    "df"
   ],
   "metadata": {
    "collapsed": false,
    "ExecuteTime": {
     "end_time": "2024-03-23T06:54:55.561097300Z",
     "start_time": "2024-03-23T06:54:55.437860500Z"
    }
   },
   "id": "94fb1578cbc9f42e"
  },
  {
   "cell_type": "code",
   "execution_count": 34,
   "outputs": [
    {
     "data": {
      "text/plain": "                         player position   age exp team              type  \\\n0             JamesLeBron James       PF  39.2  21  LAL  Player / $51.4M    \n1             GeorgePaul George       SG  33.8  14  LAC  Player / $48.8M    \n2         ThompsonKlay Thompson       SG  34.1  13  GSW       UFA : Bird    \n3           HarrisTobias Harris       PF  31.7  13  PHI       UFA : Bird    \n4            HardenJames Harden       SG  34.5  14  LAC       UFA : Bird    \n..                          ...      ...   ...  ..  ...               ...   \n209           DowtinJeff Dowtin       PG  26.8   3  PHI    RFA : Two-Way    \n210        GilyardJacob Gilyard       PG  25.7   2  BKN    RFA : Two-Way    \n211      JacksonQuenton Jackson        G  25.5   2  IND    RFA : Two-Way    \n212        WindlerDylan Windler       SF  27.5   5  ATL    RFA : Two-Way    \n213  WainrightIshmail Wainright       SF  29.5   3  PHX    RFA : Two-Way    \n\n          salary  \n0    $49,511,644  \n1    $44,066,367  \n2    $37,980,720  \n3    $36,000,000  \n4    $34,320,000  \n..           ...  \n209           -0  \n210           -0  \n211           -0  \n212           -0  \n213           -0  \n\n[214 rows x 7 columns]",
      "text/html": "<div>\n<style scoped>\n    .dataframe tbody tr th:only-of-type {\n        vertical-align: middle;\n    }\n\n    .dataframe tbody tr th {\n        vertical-align: top;\n    }\n\n    .dataframe thead th {\n        text-align: right;\n    }\n</style>\n<table border=\"1\" class=\"dataframe\">\n  <thead>\n    <tr style=\"text-align: right;\">\n      <th></th>\n      <th>player</th>\n      <th>position</th>\n      <th>age</th>\n      <th>exp</th>\n      <th>team</th>\n      <th>type</th>\n      <th>salary</th>\n    </tr>\n  </thead>\n  <tbody>\n    <tr>\n      <th>0</th>\n      <td>JamesLeBron James</td>\n      <td>PF</td>\n      <td>39.2</td>\n      <td>21</td>\n      <td>LAL</td>\n      <td>Player / $51.4M</td>\n      <td>$49,511,644</td>\n    </tr>\n    <tr>\n      <th>1</th>\n      <td>GeorgePaul George</td>\n      <td>SG</td>\n      <td>33.8</td>\n      <td>14</td>\n      <td>LAC</td>\n      <td>Player / $48.8M</td>\n      <td>$44,066,367</td>\n    </tr>\n    <tr>\n      <th>2</th>\n      <td>ThompsonKlay Thompson</td>\n      <td>SG</td>\n      <td>34.1</td>\n      <td>13</td>\n      <td>GSW</td>\n      <td>UFA : Bird</td>\n      <td>$37,980,720</td>\n    </tr>\n    <tr>\n      <th>3</th>\n      <td>HarrisTobias Harris</td>\n      <td>PF</td>\n      <td>31.7</td>\n      <td>13</td>\n      <td>PHI</td>\n      <td>UFA : Bird</td>\n      <td>$36,000,000</td>\n    </tr>\n    <tr>\n      <th>4</th>\n      <td>HardenJames Harden</td>\n      <td>SG</td>\n      <td>34.5</td>\n      <td>14</td>\n      <td>LAC</td>\n      <td>UFA : Bird</td>\n      <td>$34,320,000</td>\n    </tr>\n    <tr>\n      <th>...</th>\n      <td>...</td>\n      <td>...</td>\n      <td>...</td>\n      <td>...</td>\n      <td>...</td>\n      <td>...</td>\n      <td>...</td>\n    </tr>\n    <tr>\n      <th>209</th>\n      <td>DowtinJeff Dowtin</td>\n      <td>PG</td>\n      <td>26.8</td>\n      <td>3</td>\n      <td>PHI</td>\n      <td>RFA : Two-Way</td>\n      <td>-0</td>\n    </tr>\n    <tr>\n      <th>210</th>\n      <td>GilyardJacob Gilyard</td>\n      <td>PG</td>\n      <td>25.7</td>\n      <td>2</td>\n      <td>BKN</td>\n      <td>RFA : Two-Way</td>\n      <td>-0</td>\n    </tr>\n    <tr>\n      <th>211</th>\n      <td>JacksonQuenton Jackson</td>\n      <td>G</td>\n      <td>25.5</td>\n      <td>2</td>\n      <td>IND</td>\n      <td>RFA : Two-Way</td>\n      <td>-0</td>\n    </tr>\n    <tr>\n      <th>212</th>\n      <td>WindlerDylan Windler</td>\n      <td>SF</td>\n      <td>27.5</td>\n      <td>5</td>\n      <td>ATL</td>\n      <td>RFA : Two-Way</td>\n      <td>-0</td>\n    </tr>\n    <tr>\n      <th>213</th>\n      <td>WainrightIshmail Wainright</td>\n      <td>SF</td>\n      <td>29.5</td>\n      <td>3</td>\n      <td>PHX</td>\n      <td>RFA : Two-Way</td>\n      <td>-0</td>\n    </tr>\n  </tbody>\n</table>\n<p>214 rows × 7 columns</p>\n</div>"
     },
     "execution_count": 34,
     "metadata": {},
     "output_type": "execute_result"
    }
   ],
   "source": [
    "df.drop(df.columns[1], axis=1, inplace=True)\n",
    "df"
   ],
   "metadata": {
    "collapsed": false,
    "ExecuteTime": {
     "end_time": "2024-03-23T06:54:55.617417Z",
     "start_time": "2024-03-23T06:54:55.461586600Z"
    }
   },
   "id": "f7715243352d3c91"
  },
  {
   "cell_type": "code",
   "execution_count": 35,
   "outputs": [],
   "source": [
    "def remove_after_space(name):\n",
    "    # Split the name by whitespace and keep only the first part\n",
    "    return name.split()[0]\n",
    "# Apply the remove_repeated_words function to the 'player' column\n",
    "# Apply the remove_after_space function to the 'player' column\n",
    "df['player'] = df['player'].apply(remove_after_space)"
   ],
   "metadata": {
    "collapsed": false,
    "ExecuteTime": {
     "end_time": "2024-03-23T06:54:55.618417300Z",
     "start_time": "2024-03-23T06:54:55.472057200Z"
    }
   },
   "id": "386c94bdff9ee05b"
  },
  {
   "cell_type": "code",
   "execution_count": 36,
   "outputs": [
    {
     "data": {
      "text/plain": "               player position   age exp team              type       salary\n0         JamesLeBron       PF  39.2  21  LAL  Player / $51.4M   $49,511,644\n1          GeorgePaul       SG  33.8  14  LAC  Player / $48.8M   $44,066,367\n2        ThompsonKlay       SG  34.1  13  GSW       UFA : Bird   $37,980,720\n3        HarrisTobias       PF  31.7  13  PHI       UFA : Bird   $36,000,000\n4         HardenJames       SG  34.5  14  LAC       UFA : Bird   $34,320,000\n..                ...      ...   ...  ..  ...               ...          ...\n209        DowtinJeff       PG  26.8   3  PHI    RFA : Two-Way            -0\n210      GilyardJacob       PG  25.7   2  BKN    RFA : Two-Way            -0\n211    JacksonQuenton        G  25.5   2  IND    RFA : Two-Way            -0\n212      WindlerDylan       SF  27.5   5  ATL    RFA : Two-Way            -0\n213  WainrightIshmail       SF  29.5   3  PHX    RFA : Two-Way            -0\n\n[214 rows x 7 columns]",
      "text/html": "<div>\n<style scoped>\n    .dataframe tbody tr th:only-of-type {\n        vertical-align: middle;\n    }\n\n    .dataframe tbody tr th {\n        vertical-align: top;\n    }\n\n    .dataframe thead th {\n        text-align: right;\n    }\n</style>\n<table border=\"1\" class=\"dataframe\">\n  <thead>\n    <tr style=\"text-align: right;\">\n      <th></th>\n      <th>player</th>\n      <th>position</th>\n      <th>age</th>\n      <th>exp</th>\n      <th>team</th>\n      <th>type</th>\n      <th>salary</th>\n    </tr>\n  </thead>\n  <tbody>\n    <tr>\n      <th>0</th>\n      <td>JamesLeBron</td>\n      <td>PF</td>\n      <td>39.2</td>\n      <td>21</td>\n      <td>LAL</td>\n      <td>Player / $51.4M</td>\n      <td>$49,511,644</td>\n    </tr>\n    <tr>\n      <th>1</th>\n      <td>GeorgePaul</td>\n      <td>SG</td>\n      <td>33.8</td>\n      <td>14</td>\n      <td>LAC</td>\n      <td>Player / $48.8M</td>\n      <td>$44,066,367</td>\n    </tr>\n    <tr>\n      <th>2</th>\n      <td>ThompsonKlay</td>\n      <td>SG</td>\n      <td>34.1</td>\n      <td>13</td>\n      <td>GSW</td>\n      <td>UFA : Bird</td>\n      <td>$37,980,720</td>\n    </tr>\n    <tr>\n      <th>3</th>\n      <td>HarrisTobias</td>\n      <td>PF</td>\n      <td>31.7</td>\n      <td>13</td>\n      <td>PHI</td>\n      <td>UFA : Bird</td>\n      <td>$36,000,000</td>\n    </tr>\n    <tr>\n      <th>4</th>\n      <td>HardenJames</td>\n      <td>SG</td>\n      <td>34.5</td>\n      <td>14</td>\n      <td>LAC</td>\n      <td>UFA : Bird</td>\n      <td>$34,320,000</td>\n    </tr>\n    <tr>\n      <th>...</th>\n      <td>...</td>\n      <td>...</td>\n      <td>...</td>\n      <td>...</td>\n      <td>...</td>\n      <td>...</td>\n      <td>...</td>\n    </tr>\n    <tr>\n      <th>209</th>\n      <td>DowtinJeff</td>\n      <td>PG</td>\n      <td>26.8</td>\n      <td>3</td>\n      <td>PHI</td>\n      <td>RFA : Two-Way</td>\n      <td>-0</td>\n    </tr>\n    <tr>\n      <th>210</th>\n      <td>GilyardJacob</td>\n      <td>PG</td>\n      <td>25.7</td>\n      <td>2</td>\n      <td>BKN</td>\n      <td>RFA : Two-Way</td>\n      <td>-0</td>\n    </tr>\n    <tr>\n      <th>211</th>\n      <td>JacksonQuenton</td>\n      <td>G</td>\n      <td>25.5</td>\n      <td>2</td>\n      <td>IND</td>\n      <td>RFA : Two-Way</td>\n      <td>-0</td>\n    </tr>\n    <tr>\n      <th>212</th>\n      <td>WindlerDylan</td>\n      <td>SF</td>\n      <td>27.5</td>\n      <td>5</td>\n      <td>ATL</td>\n      <td>RFA : Two-Way</td>\n      <td>-0</td>\n    </tr>\n    <tr>\n      <th>213</th>\n      <td>WainrightIshmail</td>\n      <td>SF</td>\n      <td>29.5</td>\n      <td>3</td>\n      <td>PHX</td>\n      <td>RFA : Two-Way</td>\n      <td>-0</td>\n    </tr>\n  </tbody>\n</table>\n<p>214 rows × 7 columns</p>\n</div>"
     },
     "execution_count": 36,
     "metadata": {},
     "output_type": "execute_result"
    }
   ],
   "source": [
    "df"
   ],
   "metadata": {
    "collapsed": false,
    "ExecuteTime": {
     "end_time": "2024-03-23T06:54:55.711160600Z",
     "start_time": "2024-03-23T06:54:55.478566600Z"
    }
   },
   "id": "dee154d24a4298ea"
  },
  {
   "cell_type": "code",
   "execution_count": 37,
   "outputs": [
    {
     "name": "stdout",
     "output_type": "stream",
     "text": [
      "LeBron James\n",
      "Paul George\n",
      "Klay Thompson\n",
      "Tobias Harris\n",
      "James Harden\n",
      "Pascal Siakam\n"
     ]
    }
   ],
   "source": [
    "def move_chars_to_back(name):\n",
    "    # Initialize variables to store the positions of the first and second uppercase letters\n",
    "    first_upper_index = None\n",
    "    second_upper_index = None\n",
    "\n",
    "    # Iterate through each character in the name\n",
    "    for i, char in enumerate(name):\n",
    "        # Check if the character is uppercase and if the previous character is lowercase\n",
    "        if char.isupper() and (i == 0 or name[i-1].islower()):\n",
    "            # If it's the first uppercase letter, store its position\n",
    "            if first_upper_index is None:\n",
    "                first_upper_index = i\n",
    "            # If it's the second uppercase letter, store its position and break the loop\n",
    "            else:\n",
    "                second_upper_index = i\n",
    "                break\n",
    "\n",
    "    # If the second uppercase letter is found, move the characters accordingly\n",
    "    if second_upper_index is not None:\n",
    "        return name[second_upper_index:] + ' ' + name[:second_upper_index]\n",
    "    # If only one uppercase letter is found, return the original name\n",
    "    elif first_upper_index is not None:\n",
    "        return name\n",
    "    # If there are no uppercase letters, return the original name\n",
    "    else:\n",
    "        return name\n",
    "\n",
    "# Example usage:\n",
    "names = [\"JamesLeBron\", \"GeorgePaul\", \"ThompsonKlay\", \"HarrisTobias\", \"HardenJames\", \"SiakamPascal\"]\n",
    "\n",
    "for name in names:\n",
    "    print(move_chars_to_back(name))"
   ],
   "metadata": {
    "collapsed": false,
    "ExecuteTime": {
     "end_time": "2024-03-23T06:54:55.712165200Z",
     "start_time": "2024-03-23T06:54:55.502368Z"
    }
   },
   "id": "7312564190421342"
  },
  {
   "cell_type": "code",
   "execution_count": 38,
   "outputs": [
    {
     "data": {
      "text/plain": "                player position   age exp team              type       salary\n0         LeBron James       PF  39.2  21  LAL  Player / $51.4M   $49,511,644\n1          Paul George       SG  33.8  14  LAC  Player / $48.8M   $44,066,367\n2        Klay Thompson       SG  34.1  13  GSW       UFA : Bird   $37,980,720\n3        Tobias Harris       PF  31.7  13  PHI       UFA : Bird   $36,000,000\n4         James Harden       SG  34.5  14  LAC       UFA : Bird   $34,320,000\n..                 ...      ...   ...  ..  ...               ...          ...\n209        Jeff Dowtin       PG  26.8   3  PHI    RFA : Two-Way            -0\n210      Jacob Gilyard       PG  25.7   2  BKN    RFA : Two-Way            -0\n211    Quenton Jackson        G  25.5   2  IND    RFA : Two-Way            -0\n212      Dylan Windler       SF  27.5   5  ATL    RFA : Two-Way            -0\n213  Ishmail Wainright       SF  29.5   3  PHX    RFA : Two-Way            -0\n\n[214 rows x 7 columns]",
      "text/html": "<div>\n<style scoped>\n    .dataframe tbody tr th:only-of-type {\n        vertical-align: middle;\n    }\n\n    .dataframe tbody tr th {\n        vertical-align: top;\n    }\n\n    .dataframe thead th {\n        text-align: right;\n    }\n</style>\n<table border=\"1\" class=\"dataframe\">\n  <thead>\n    <tr style=\"text-align: right;\">\n      <th></th>\n      <th>player</th>\n      <th>position</th>\n      <th>age</th>\n      <th>exp</th>\n      <th>team</th>\n      <th>type</th>\n      <th>salary</th>\n    </tr>\n  </thead>\n  <tbody>\n    <tr>\n      <th>0</th>\n      <td>LeBron James</td>\n      <td>PF</td>\n      <td>39.2</td>\n      <td>21</td>\n      <td>LAL</td>\n      <td>Player / $51.4M</td>\n      <td>$49,511,644</td>\n    </tr>\n    <tr>\n      <th>1</th>\n      <td>Paul George</td>\n      <td>SG</td>\n      <td>33.8</td>\n      <td>14</td>\n      <td>LAC</td>\n      <td>Player / $48.8M</td>\n      <td>$44,066,367</td>\n    </tr>\n    <tr>\n      <th>2</th>\n      <td>Klay Thompson</td>\n      <td>SG</td>\n      <td>34.1</td>\n      <td>13</td>\n      <td>GSW</td>\n      <td>UFA : Bird</td>\n      <td>$37,980,720</td>\n    </tr>\n    <tr>\n      <th>3</th>\n      <td>Tobias Harris</td>\n      <td>PF</td>\n      <td>31.7</td>\n      <td>13</td>\n      <td>PHI</td>\n      <td>UFA : Bird</td>\n      <td>$36,000,000</td>\n    </tr>\n    <tr>\n      <th>4</th>\n      <td>James Harden</td>\n      <td>SG</td>\n      <td>34.5</td>\n      <td>14</td>\n      <td>LAC</td>\n      <td>UFA : Bird</td>\n      <td>$34,320,000</td>\n    </tr>\n    <tr>\n      <th>...</th>\n      <td>...</td>\n      <td>...</td>\n      <td>...</td>\n      <td>...</td>\n      <td>...</td>\n      <td>...</td>\n      <td>...</td>\n    </tr>\n    <tr>\n      <th>209</th>\n      <td>Jeff Dowtin</td>\n      <td>PG</td>\n      <td>26.8</td>\n      <td>3</td>\n      <td>PHI</td>\n      <td>RFA : Two-Way</td>\n      <td>-0</td>\n    </tr>\n    <tr>\n      <th>210</th>\n      <td>Jacob Gilyard</td>\n      <td>PG</td>\n      <td>25.7</td>\n      <td>2</td>\n      <td>BKN</td>\n      <td>RFA : Two-Way</td>\n      <td>-0</td>\n    </tr>\n    <tr>\n      <th>211</th>\n      <td>Quenton Jackson</td>\n      <td>G</td>\n      <td>25.5</td>\n      <td>2</td>\n      <td>IND</td>\n      <td>RFA : Two-Way</td>\n      <td>-0</td>\n    </tr>\n    <tr>\n      <th>212</th>\n      <td>Dylan Windler</td>\n      <td>SF</td>\n      <td>27.5</td>\n      <td>5</td>\n      <td>ATL</td>\n      <td>RFA : Two-Way</td>\n      <td>-0</td>\n    </tr>\n    <tr>\n      <th>213</th>\n      <td>Ishmail Wainright</td>\n      <td>SF</td>\n      <td>29.5</td>\n      <td>3</td>\n      <td>PHX</td>\n      <td>RFA : Two-Way</td>\n      <td>-0</td>\n    </tr>\n  </tbody>\n</table>\n<p>214 rows × 7 columns</p>\n</div>"
     },
     "execution_count": 38,
     "metadata": {},
     "output_type": "execute_result"
    }
   ],
   "source": [
    "df['player'] = df['player'].apply(move_chars_to_back)\n",
    "df"
   ],
   "metadata": {
    "collapsed": false,
    "ExecuteTime": {
     "end_time": "2024-03-23T06:54:55.713169100Z",
     "start_time": "2024-03-23T06:54:55.511747600Z"
    }
   },
   "id": "7d7c0f1109545762"
  },
  {
   "cell_type": "code",
   "execution_count": 39,
   "outputs": [],
   "source": [
    "df.to_csv(\"FreeAgent.csv\")"
   ],
   "metadata": {
    "collapsed": false,
    "ExecuteTime": {
     "end_time": "2024-03-23T06:55:13.115701700Z",
     "start_time": "2024-03-23T06:55:13.065871Z"
    }
   },
   "id": "aa5b2ac4f91c99f0"
  },
  {
   "cell_type": "code",
   "execution_count": null,
   "outputs": [],
   "source": [],
   "metadata": {
    "collapsed": false
   },
   "id": "fb14dd702e13d6ea"
  }
 ],
 "metadata": {
  "kernelspec": {
   "display_name": "Python 3",
   "language": "python",
   "name": "python3"
  },
  "language_info": {
   "codemirror_mode": {
    "name": "ipython",
    "version": 2
   },
   "file_extension": ".py",
   "mimetype": "text/x-python",
   "name": "python",
   "nbconvert_exporter": "python",
   "pygments_lexer": "ipython2",
   "version": "2.7.6"
  }
 },
 "nbformat": 4,
 "nbformat_minor": 5
}
