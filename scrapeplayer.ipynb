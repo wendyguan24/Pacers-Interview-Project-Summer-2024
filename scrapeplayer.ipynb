{
 "cells": [
  {
   "cell_type": "code",
   "execution_count": 44,
   "outputs": [
    {
     "name": "stdout",
     "output_type": "stream",
     "text": [
      "                    player team age  gp   w   l   min %fga2pt %fga3pt  ...  \\\n",
      "0      1       Buddy Hield  PHI  31  71  37  34  26.6    32.8    67.2  ...   \n",
      "1      2        Obi Toppin  IND  26  70  39  31  21.6    57.0    43.0  ...   \n",
      "2      3    Andre Drummond  CHI  30  69  34  35  16.9    99.3     0.7  ...   \n",
      "3      3     Austin Reaves  LAL  25  69  37  32  31.7    56.2    43.8  ...   \n",
      "4      3      Bobby Portis  MIL  29  69  44  25  24.2    72.3    27.7  ...   \n",
      "..   ...               ...  ...  ..  ..  ..  ..   ...     ...     ...  ...   \n",
      "555  546  Maozinha Pereira  MEM  23   1   0   1   5.7    50.0    50.0  ...   \n",
      "556  546   Markquis Nowell  TOR  24   1   0   1   3.5     100     0.0  ...   \n",
      "557  546       Mason Jones  SAC  25   1   0   1  13.0    33.3    66.7  ...   \n",
      "558  546   Quenton Jackson  IND  25   1   1   0   1.8     0.0     0.0  ...   \n",
      "559  546    Ron Harper Jr.  TOR  23   1   1   0   3.7     0.0     0.0  ...   \n",
      "\n",
      "    %ptsfbps %ptsft %ptsoffto %ptspitp 2fgm%ast 2fgm%uast 3fgm%ast 3fgm%uast  \\\n",
      "0       20.3    4.5      20.6     25.6     68.2      31.8     91.7       8.3   \n",
      "1       21.2    9.6      16.8     54.2     79.1      20.9      100       0.0   \n",
      "2        4.0   19.3      15.8     80.4     55.2      44.8      0.0       0.0   \n",
      "3       14.8   17.7      11.8     38.5     40.2      59.8     68.2      31.8   \n",
      "4        7.3    9.4      11.3     46.3     53.7      46.3     98.8       1.2   \n",
      "..       ...    ...       ...      ...      ...       ...      ...       ...   \n",
      "555      0.0    0.0       0.0      100      100       0.0      0.0       0.0   \n",
      "556      0.0    100       0.0      0.0      0.0       0.0      0.0       0.0   \n",
      "557      100    100       0.0      0.0      0.0       0.0      0.0       0.0   \n",
      "558      0.0    100       0.0      0.0      0.0       0.0      0.0       0.0   \n",
      "559      0.0    100       0.0      0.0      0.0       0.0      0.0       0.0   \n",
      "\n",
      "    fgm%ast fgm%uast  \n",
      "0      82.2     17.8  \n",
      "1      85.3     14.7  \n",
      "2      55.2     44.8  \n",
      "3      49.6     50.4  \n",
      "4      63.5     36.5  \n",
      "..      ...      ...  \n",
      "555     100      0.0  \n",
      "556     0.0      0.0  \n",
      "557     0.0      0.0  \n",
      "558     0.0      0.0  \n",
      "559     0.0      0.0  \n",
      "\n",
      "[560 rows x 23 columns]\n"
     ]
    }
   ],
   "source": [
    "from selenium import webdriver\n",
    "from selenium.webdriver.common.by import By\n",
    "from selenium.webdriver.support.ui import Select\n",
    "from bs4 import BeautifulSoup\n",
    "import pandas as pd\n",
    "import time\n",
    "\n",
    "url = \"https://www.nba.com/stats/players/scoring\"\n",
    "\n",
    "# chrome driver to scrape dynamic webpages\n",
    "driver = webdriver.Chrome()\n",
    "driver.get(url)\n",
    "\n",
    "# Find the dropdown element by class name\n",
    "dropdown = driver.find_element(By.CSS_SELECTOR, \".Pagination_pageDropdown__KgjBU select\")\n",
    "\n",
    "# Select a higher value from the dropdown to display more items per page\n",
    "select = Select(dropdown)\n",
    "select.select_by_visible_text('All')  # Selecting 100 items per page\n",
    "\n",
    "# Wait for the page to load the new content\n",
    "time.sleep(2)  # Adjust as needed\n",
    "\n",
    "# Now you can parse the page source\n",
    "soup = BeautifulSoup(driver.page_source, 'html.parser')\n",
    "\n",
    "# Extract the table data\n",
    "tables = soup.find_all('table')\n",
    "t = tables[2]\n",
    "\n",
    "headers, [_, *data] = [i.text for i in t.find_all('th')], [[i.text for i in b.find_all('td')] for b in t.find_all('tr')]\n",
    "final_data = [i for i in data if len(i) > 1]\n",
    "\n",
    "# Format headers, for strings with '\\n' in it, remove \\n\n",
    "for h in headers:\n",
    "    if '\\n' in h:\n",
    "        headers[headers.index(h)] = h.replace('\\n', ' ')\n",
    "\n",
    "# Headers all lower case\n",
    "headers = [i.lower() for i in headers]\n",
    "\n",
    "# Create a list of dictionaries containing the data\n",
    "data_attrs = [dict(zip(headers, i)) for i in final_data]\n",
    "\n",
    "# Create a DataFrame\n",
    "df = pd.DataFrame(data_attrs)\n",
    "\n",
    "# Print the DataFrame\n",
    "print(df)\n",
    "\n",
    "# Close the webdriver\n",
    "driver.quit()"
   ],
   "metadata": {
    "collapsed": false,
    "ExecuteTime": {
     "end_time": "2024-03-22T02:53:00.463345600Z",
     "start_time": "2024-03-22T02:52:49.525014Z"
    }
   },
   "id": "8061db322478bf35"
  },
  {
   "cell_type": "code",
   "execution_count": 48,
   "outputs": [
    {
     "name": "stdout",
     "output_type": "stream",
     "text": [
      "                           player team age  gp   w   l   min   pts   fgm  ...  \\\n",
      "0      1              Joel Embiid  PHI  30  34  26   8  34.0  35.3  11.8  ...   \n",
      "1      2              Luka Doncic  DAL  25  60  37  23  37.5  34.1  11.6  ...   \n",
      "2      3  Shai Gilgeous-Alexander  OKC  25  67  48  19  34.4  30.9  10.9  ...   \n",
      "3      4    Giannis Antetokounmpo  MIL  29  64  41  23  35.0  30.8  11.4  ...   \n",
      "4      5             Kevin Durant  PHX  35  62  35  27  37.3  27.7  10.1  ...   \n",
      "..   ...                      ...  ...  ..  ..  ..  ..   ...   ...   ...  ...   \n",
      "555  542               Pete Nance  CLE  24   3   1   2   2.5   0.0   0.0  ...   \n",
      "556  542          Quenton Jackson  IND  25   1   1   0   1.8   0.0   0.0  ...   \n",
      "557  542           Ron Harper Jr.  TOR  23   1   1   0   3.7   0.0   0.0  ...   \n",
      "558  542         Ryan Arcidiacono  NYK  29  20  15   5   2.3   0.0   0.0  ...   \n",
      "559  542             Usman Garuba  GSW  22   3   2   1   2.6   0.0   0.0  ...   \n",
      "\n",
      "      reb  ast  tov  stl  blk   pf    fp   dd2   td3   +/-  \n",
      "0    11.3  5.7  3.7  1.1  1.8  2.9  62.4  27.0   2.0   6.9  \n",
      "1     9.0  9.8  4.0  1.4  0.6  2.0  61.7  41.0  18.0   3.3  \n",
      "2     5.6  6.4  2.1  2.1  0.9  2.5  54.1   8.0   0.0   8.2  \n",
      "3    11.2  6.4  3.4  1.2  1.0  2.9  57.1  51.0   8.0   5.0  \n",
      "4     6.7  5.3  3.3  0.9  1.3  1.8  47.0  13.0   1.0   3.3  \n",
      "..    ...  ...  ...  ...  ...  ...   ...   ...   ...   ...  \n",
      "555   0.3  0.0  0.0  0.0  0.0  0.0   0.4   0.0   0.0   0.7  \n",
      "556   1.0  0.0  0.0  0.0  0.0  0.0   1.2   0.0   0.0  -6.0  \n",
      "557   0.0  1.0  0.0  0.0  0.0  2.0   1.5   0.0   0.0  -9.0  \n",
      "558   0.4  0.2  0.1  0.1  0.0  0.3   1.0   0.0   0.0   0.1  \n",
      "559   0.3  0.3  0.0  0.3  0.0  0.7   1.9   0.0   0.0  -1.7  \n",
      "\n",
      "[560 rows x 30 columns]\n"
     ]
    }
   ],
   "source": [
    "url = \"https://www.nba.com/stats/players/traditional\"\n",
    "\n",
    "# chrome driver to scrape dynamic webpages\n",
    "driver = webdriver.Chrome()\n",
    "driver.get(url)\n",
    "\n",
    "# Find the dropdown element by class name\n",
    "dropdown = driver.find_element(By.CSS_SELECTOR, \".Pagination_pageDropdown__KgjBU select\")\n",
    "\n",
    "# Select a higher value from the dropdown to display more items per page\n",
    "select = Select(dropdown)\n",
    "select.select_by_visible_text('All')  # Selecting 100 items per page\n",
    "\n",
    "# Wait for the page to load the new content\n",
    "time.sleep(2)  # Adjust as needed\n",
    "\n",
    "# Now you can parse the page source\n",
    "soup = BeautifulSoup(driver.page_source, 'html.parser')\n",
    "\n",
    "# Extract the table data\n",
    "tables = soup.find_all('table')\n",
    "t = tables[2]\n",
    "\n",
    "headers, [_, *data] = [i.text for i in t.find_all('th')], [[i.text for i in b.find_all('td')] for b in t.find_all('tr')]\n",
    "final_data = [i for i in data if len(i) > 1]\n",
    "\n",
    "# Format headers, for strings with '\\n' in it, remove \\n\n",
    "for h in headers:\n",
    "    if '\\n' in h:\n",
    "        headers[headers.index(h)] = h.replace('\\n', ' ')\n",
    "\n",
    "# Headers all lower case\n",
    "headers = [i.lower() for i in headers]\n",
    "\n",
    "# Create a list of dictionaries containing the data\n",
    "data_attrs = [dict(zip(headers, i)) for i in final_data]\n",
    "\n",
    "# Create a DataFrame\n",
    "df = pd.DataFrame(data_attrs)\n",
    "\n",
    "# Print the DataFrame\n",
    "print(df)\n",
    "\n",
    "# Close the webdriver\n",
    "driver.quit()"
   ],
   "metadata": {
    "collapsed": false,
    "ExecuteTime": {
     "end_time": "2024-03-22T02:57:24.603506100Z",
     "start_time": "2024-03-22T02:56:58.919651400Z"
    }
   },
   "id": "6044c56b02b19128"
  },
  {
   "cell_type": "code",
   "execution_count": 45,
   "outputs": [
    {
     "data": {
      "text/plain": "                    player team age  gp   w   l   min %fga2pt %fga3pt  ...  \\\n0      1       Buddy Hield  PHI  31  71  37  34  26.6    32.8    67.2  ...   \n1      2        Obi Toppin  IND  26  70  39  31  21.6    57.0    43.0  ...   \n2      3    Andre Drummond  CHI  30  69  34  35  16.9    99.3     0.7  ...   \n3      3     Austin Reaves  LAL  25  69  37  32  31.7    56.2    43.8  ...   \n4      3      Bobby Portis  MIL  29  69  44  25  24.2    72.3    27.7  ...   \n..   ...               ...  ...  ..  ..  ..  ..   ...     ...     ...  ...   \n555  546  Maozinha Pereira  MEM  23   1   0   1   5.7    50.0    50.0  ...   \n556  546   Markquis Nowell  TOR  24   1   0   1   3.5     100     0.0  ...   \n557  546       Mason Jones  SAC  25   1   0   1  13.0    33.3    66.7  ...   \n558  546   Quenton Jackson  IND  25   1   1   0   1.8     0.0     0.0  ...   \n559  546    Ron Harper Jr.  TOR  23   1   1   0   3.7     0.0     0.0  ...   \n\n    %ptsfbps %ptsft %ptsoffto %ptspitp 2fgm%ast 2fgm%uast 3fgm%ast 3fgm%uast  \\\n0       20.3    4.5      20.6     25.6     68.2      31.8     91.7       8.3   \n1       21.2    9.6      16.8     54.2     79.1      20.9      100       0.0   \n2        4.0   19.3      15.8     80.4     55.2      44.8      0.0       0.0   \n3       14.8   17.7      11.8     38.5     40.2      59.8     68.2      31.8   \n4        7.3    9.4      11.3     46.3     53.7      46.3     98.8       1.2   \n..       ...    ...       ...      ...      ...       ...      ...       ...   \n555      0.0    0.0       0.0      100      100       0.0      0.0       0.0   \n556      0.0    100       0.0      0.0      0.0       0.0      0.0       0.0   \n557      100    100       0.0      0.0      0.0       0.0      0.0       0.0   \n558      0.0    100       0.0      0.0      0.0       0.0      0.0       0.0   \n559      0.0    100       0.0      0.0      0.0       0.0      0.0       0.0   \n\n    fgm%ast fgm%uast  \n0      82.2     17.8  \n1      85.3     14.7  \n2      55.2     44.8  \n3      49.6     50.4  \n4      63.5     36.5  \n..      ...      ...  \n555     100      0.0  \n556     0.0      0.0  \n557     0.0      0.0  \n558     0.0      0.0  \n559     0.0      0.0  \n\n[560 rows x 23 columns]",
      "text/html": "<div>\n<style scoped>\n    .dataframe tbody tr th:only-of-type {\n        vertical-align: middle;\n    }\n\n    .dataframe tbody tr th {\n        vertical-align: top;\n    }\n\n    .dataframe thead th {\n        text-align: right;\n    }\n</style>\n<table border=\"1\" class=\"dataframe\">\n  <thead>\n    <tr style=\"text-align: right;\">\n      <th></th>\n      <th></th>\n      <th>player</th>\n      <th>team</th>\n      <th>age</th>\n      <th>gp</th>\n      <th>w</th>\n      <th>l</th>\n      <th>min</th>\n      <th>%fga2pt</th>\n      <th>%fga3pt</th>\n      <th>...</th>\n      <th>%ptsfbps</th>\n      <th>%ptsft</th>\n      <th>%ptsoffto</th>\n      <th>%ptspitp</th>\n      <th>2fgm%ast</th>\n      <th>2fgm%uast</th>\n      <th>3fgm%ast</th>\n      <th>3fgm%uast</th>\n      <th>fgm%ast</th>\n      <th>fgm%uast</th>\n    </tr>\n  </thead>\n  <tbody>\n    <tr>\n      <th>0</th>\n      <td>1</td>\n      <td>Buddy Hield</td>\n      <td>PHI</td>\n      <td>31</td>\n      <td>71</td>\n      <td>37</td>\n      <td>34</td>\n      <td>26.6</td>\n      <td>32.8</td>\n      <td>67.2</td>\n      <td>...</td>\n      <td>20.3</td>\n      <td>4.5</td>\n      <td>20.6</td>\n      <td>25.6</td>\n      <td>68.2</td>\n      <td>31.8</td>\n      <td>91.7</td>\n      <td>8.3</td>\n      <td>82.2</td>\n      <td>17.8</td>\n    </tr>\n    <tr>\n      <th>1</th>\n      <td>2</td>\n      <td>Obi Toppin</td>\n      <td>IND</td>\n      <td>26</td>\n      <td>70</td>\n      <td>39</td>\n      <td>31</td>\n      <td>21.6</td>\n      <td>57.0</td>\n      <td>43.0</td>\n      <td>...</td>\n      <td>21.2</td>\n      <td>9.6</td>\n      <td>16.8</td>\n      <td>54.2</td>\n      <td>79.1</td>\n      <td>20.9</td>\n      <td>100</td>\n      <td>0.0</td>\n      <td>85.3</td>\n      <td>14.7</td>\n    </tr>\n    <tr>\n      <th>2</th>\n      <td>3</td>\n      <td>Andre Drummond</td>\n      <td>CHI</td>\n      <td>30</td>\n      <td>69</td>\n      <td>34</td>\n      <td>35</td>\n      <td>16.9</td>\n      <td>99.3</td>\n      <td>0.7</td>\n      <td>...</td>\n      <td>4.0</td>\n      <td>19.3</td>\n      <td>15.8</td>\n      <td>80.4</td>\n      <td>55.2</td>\n      <td>44.8</td>\n      <td>0.0</td>\n      <td>0.0</td>\n      <td>55.2</td>\n      <td>44.8</td>\n    </tr>\n    <tr>\n      <th>3</th>\n      <td>3</td>\n      <td>Austin Reaves</td>\n      <td>LAL</td>\n      <td>25</td>\n      <td>69</td>\n      <td>37</td>\n      <td>32</td>\n      <td>31.7</td>\n      <td>56.2</td>\n      <td>43.8</td>\n      <td>...</td>\n      <td>14.8</td>\n      <td>17.7</td>\n      <td>11.8</td>\n      <td>38.5</td>\n      <td>40.2</td>\n      <td>59.8</td>\n      <td>68.2</td>\n      <td>31.8</td>\n      <td>49.6</td>\n      <td>50.4</td>\n    </tr>\n    <tr>\n      <th>4</th>\n      <td>3</td>\n      <td>Bobby Portis</td>\n      <td>MIL</td>\n      <td>29</td>\n      <td>69</td>\n      <td>44</td>\n      <td>25</td>\n      <td>24.2</td>\n      <td>72.3</td>\n      <td>27.7</td>\n      <td>...</td>\n      <td>7.3</td>\n      <td>9.4</td>\n      <td>11.3</td>\n      <td>46.3</td>\n      <td>53.7</td>\n      <td>46.3</td>\n      <td>98.8</td>\n      <td>1.2</td>\n      <td>63.5</td>\n      <td>36.5</td>\n    </tr>\n    <tr>\n      <th>...</th>\n      <td>...</td>\n      <td>...</td>\n      <td>...</td>\n      <td>...</td>\n      <td>...</td>\n      <td>...</td>\n      <td>...</td>\n      <td>...</td>\n      <td>...</td>\n      <td>...</td>\n      <td>...</td>\n      <td>...</td>\n      <td>...</td>\n      <td>...</td>\n      <td>...</td>\n      <td>...</td>\n      <td>...</td>\n      <td>...</td>\n      <td>...</td>\n      <td>...</td>\n      <td>...</td>\n    </tr>\n    <tr>\n      <th>555</th>\n      <td>546</td>\n      <td>Maozinha Pereira</td>\n      <td>MEM</td>\n      <td>23</td>\n      <td>1</td>\n      <td>0</td>\n      <td>1</td>\n      <td>5.7</td>\n      <td>50.0</td>\n      <td>50.0</td>\n      <td>...</td>\n      <td>0.0</td>\n      <td>0.0</td>\n      <td>0.0</td>\n      <td>100</td>\n      <td>100</td>\n      <td>0.0</td>\n      <td>0.0</td>\n      <td>0.0</td>\n      <td>100</td>\n      <td>0.0</td>\n    </tr>\n    <tr>\n      <th>556</th>\n      <td>546</td>\n      <td>Markquis Nowell</td>\n      <td>TOR</td>\n      <td>24</td>\n      <td>1</td>\n      <td>0</td>\n      <td>1</td>\n      <td>3.5</td>\n      <td>100</td>\n      <td>0.0</td>\n      <td>...</td>\n      <td>0.0</td>\n      <td>100</td>\n      <td>0.0</td>\n      <td>0.0</td>\n      <td>0.0</td>\n      <td>0.0</td>\n      <td>0.0</td>\n      <td>0.0</td>\n      <td>0.0</td>\n      <td>0.0</td>\n    </tr>\n    <tr>\n      <th>557</th>\n      <td>546</td>\n      <td>Mason Jones</td>\n      <td>SAC</td>\n      <td>25</td>\n      <td>1</td>\n      <td>0</td>\n      <td>1</td>\n      <td>13.0</td>\n      <td>33.3</td>\n      <td>66.7</td>\n      <td>...</td>\n      <td>100</td>\n      <td>100</td>\n      <td>0.0</td>\n      <td>0.0</td>\n      <td>0.0</td>\n      <td>0.0</td>\n      <td>0.0</td>\n      <td>0.0</td>\n      <td>0.0</td>\n      <td>0.0</td>\n    </tr>\n    <tr>\n      <th>558</th>\n      <td>546</td>\n      <td>Quenton Jackson</td>\n      <td>IND</td>\n      <td>25</td>\n      <td>1</td>\n      <td>1</td>\n      <td>0</td>\n      <td>1.8</td>\n      <td>0.0</td>\n      <td>0.0</td>\n      <td>...</td>\n      <td>0.0</td>\n      <td>100</td>\n      <td>0.0</td>\n      <td>0.0</td>\n      <td>0.0</td>\n      <td>0.0</td>\n      <td>0.0</td>\n      <td>0.0</td>\n      <td>0.0</td>\n      <td>0.0</td>\n    </tr>\n    <tr>\n      <th>559</th>\n      <td>546</td>\n      <td>Ron Harper Jr.</td>\n      <td>TOR</td>\n      <td>23</td>\n      <td>1</td>\n      <td>1</td>\n      <td>0</td>\n      <td>3.7</td>\n      <td>0.0</td>\n      <td>0.0</td>\n      <td>...</td>\n      <td>0.0</td>\n      <td>100</td>\n      <td>0.0</td>\n      <td>0.0</td>\n      <td>0.0</td>\n      <td>0.0</td>\n      <td>0.0</td>\n      <td>0.0</td>\n      <td>0.0</td>\n      <td>0.0</td>\n    </tr>\n  </tbody>\n</table>\n<p>560 rows × 23 columns</p>\n</div>"
     },
     "execution_count": 45,
     "metadata": {},
     "output_type": "execute_result"
    }
   ],
   "source": [
    "df"
   ],
   "metadata": {
    "collapsed": false,
    "ExecuteTime": {
     "end_time": "2024-03-22T02:53:06.201636300Z",
     "start_time": "2024-03-22T02:53:06.156536300Z"
    }
   },
   "id": "3769a321ab4f731f"
  },
  {
   "cell_type": "code",
   "execution_count": 57,
   "outputs": [
    {
     "name": "stdout",
     "output_type": "stream",
     "text": [
      "Data scraped from: https://www.nba.com/stats/players/traditional\n",
      "                           player team age  gp   w   l   min   pts   fgm  ...  \\\n",
      "0      1              Joel Embiid  PHI  30  34  26   8  34.0  35.3  11.8  ...   \n",
      "1      2              Luka Doncic  DAL  25  60  37  23  37.5  34.1  11.6  ...   \n",
      "2      3  Shai Gilgeous-Alexander  OKC  25  67  48  19  34.4  30.9  10.9  ...   \n",
      "3      4    Giannis Antetokounmpo  MIL  29  65  42  23  35.0  30.7  11.4  ...   \n",
      "4      5             Kevin Durant  PHX  35  62  35  27  37.3  27.7  10.1  ...   \n",
      "..   ...                      ...  ...  ..  ..  ..  ..   ...   ...   ...  ...   \n",
      "555  542               Pete Nance  CLE  24   3   1   2   2.5   0.0   0.0  ...   \n",
      "556  542          Quenton Jackson  IND  25   1   1   0   1.8   0.0   0.0  ...   \n",
      "557  542           Ron Harper Jr.  TOR  23   1   1   0   3.7   0.0   0.0  ...   \n",
      "558  542         Ryan Arcidiacono  NYK  29  20  15   5   2.3   0.0   0.0  ...   \n",
      "559  542             Usman Garuba  GSW  22   3   2   1   2.6   0.0   0.0  ...   \n",
      "\n",
      "      reb  ast  tov  stl  blk   pf    fp   dd2   td3   +/-  \n",
      "0    11.3  5.7  3.7  1.1  1.8  2.9  62.4  27.0   2.0   6.9  \n",
      "1     9.0  9.8  4.0  1.4  0.6  2.0  61.7  41.0  18.0   3.3  \n",
      "2     5.6  6.4  2.1  2.1  0.9  2.5  54.1   8.0   0.0   8.2  \n",
      "3    11.2  6.4  3.4  1.2  1.0  2.9  56.9  51.0   8.0   5.0  \n",
      "4     6.7  5.3  3.3  0.9  1.3  1.8  47.0  13.0   1.0   3.3  \n",
      "..    ...  ...  ...  ...  ...  ...   ...   ...   ...   ...  \n",
      "555   0.3  0.0  0.0  0.0  0.0  0.0   0.4   0.0   0.0   0.7  \n",
      "556   1.0  0.0  0.0  0.0  0.0  0.0   1.2   0.0   0.0  -6.0  \n",
      "557   0.0  1.0  0.0  0.0  0.0  2.0   1.5   0.0   0.0  -9.0  \n",
      "558   0.4  0.2  0.1  0.1  0.0  0.3   1.0   0.0   0.0   0.1  \n",
      "559   0.3  0.3  0.0  0.3  0.0  0.7   1.9   0.0   0.0  -1.7  \n",
      "\n",
      "[560 rows x 30 columns]\n",
      "Data scraped from: https://www.nba.com/stats/players/advanced\n",
      "                    player team age  gp   w   l   min offrtg defrtg  ...  \\\n",
      "0      1       Buddy Hield  PHI  31  71  37  34  26.6  117.4  117.0  ...   \n",
      "1      2    Andre Drummond  CHI  30  70  34  36  17.0  113.4  113.8  ...   \n",
      "2      2      Bobby Portis  MIL  29  70  45  25  24.3  117.3  117.3  ...   \n",
      "3      2   Dennis Schroder  BKN  30  70  24  46  30.7  112.7  116.3  ...   \n",
      "4      2     Mikal Bridges  BKN  27  70  26  44  35.2  111.4  114.5  ...   \n",
      "..   ...               ...  ...  ..  ..  ..  ..   ...    ...    ...  ...   \n",
      "555  546  Maozinha Pereira  MEM  23   1   0   1   5.7  109.1   72.7  ...   \n",
      "556  546   Markquis Nowell  TOR  24   1   0   1   3.5  128.6   62.5  ...   \n",
      "557  546       Mason Jones  SAC  25   1   0   1  13.0  103.8   63.0  ...   \n",
      "558  546   Quenton Jackson  IND  25   1   1   0   1.8    0.0  120.0  ...   \n",
      "559  546    Ron Harper Jr.  TOR  23   1   1   0   3.7  100.0  188.9  ...   \n",
      "\n",
      "    oreb% dreb%  reb% to ratio  efg%   ts%  usg%    pace   pie  poss  \n",
      "0     2.4   9.9   6.0      8.4  56.9  58.0  18.5  102.20   8.3  4022  \n",
      "1    18.6  32.0  25.1     11.9  54.7  56.6  20.3   97.96  14.9  2431  \n",
      "2     6.8  22.8  14.9      7.3  55.6  57.7  22.0  100.89  11.6  3568  \n",
      "3     1.2   7.7   4.4      9.6  51.5  55.4  19.9   98.90   9.2  4439  \n",
      "4     2.3  11.1   6.5      8.7  51.8  56.1  24.5   98.82  10.7  5078  \n",
      "..    ...   ...   ...      ...   ...   ...   ...     ...   ...   ...  \n",
      "555   0.0   0.0   0.0      0.0  50.0  50.0  15.4   92.36   0.0    11  \n",
      "556  50.0   0.0  28.6      0.0   0.0  53.2  22.2  102.37  35.7     7  \n",
      "557   5.9  20.0  12.5      0.0   0.0  12.9  12.1   97.85  12.9    26  \n",
      "558   0.0  50.0  25.0      0.0   0.0   0.0   0.0  132.11  18.2     5  \n",
      "559   0.0   0.0   0.0      0.0   0.0   0.0   0.0  111.78  -4.5     8  \n",
      "\n",
      "[560 rows x 24 columns]\n",
      "Data scraped from: https://www.nba.com/stats/players/hustle\n",
      "              player team age  gp   min screenassists screenassists pts  \\\n",
      "0        A.J. Lawson  DAL  23  32   7.6           0.2               0.4   \n",
      "1           AJ Green  MIL  24  46  10.2           0.1               0.2   \n",
      "2         AJ Griffin  ATL  20  18   7.4           0.1               0.3   \n",
      "3       Aaron Gordon  DEN  28  63  31.4           1.2               3.0   \n",
      "4      Aaron Holiday  HOU  27  65  16.3           0.2               0.5   \n",
      "..               ...  ...  ..  ..   ...           ...               ...   \n",
      "555     Zach Collins  SAS  26  56  22.7           3.1               6.8   \n",
      "556      Zach LaVine  CHI  29  25  34.9           0.4               0.8   \n",
      "557       Zeke Nnaji  DEN  23  53   9.8           1.3               3.1   \n",
      "558  Ziaire Williams  MEM  22  51  20.3           0.2               0.4   \n",
      "559  Zion Williamson  NOP  23  58  30.9           0.9               1.9   \n",
      "\n",
      "    deflections off loose ballsrecovered def loose ballsrecovered  \\\n",
      "0           0.3                      0.1                      0.1   \n",
      "1           0.4                      0.0                      0.2   \n",
      "2           0.2                      0.1                      0.1   \n",
      "3           1.4                      0.3                      0.3   \n",
      "4           1.0                      0.1                      0.2   \n",
      "..          ...                      ...                      ...   \n",
      "555         1.0                      0.2                      0.2   \n",
      "556         1.6                      0.3                      0.2   \n",
      "557         0.6                      0.1                      0.1   \n",
      "558         1.6                      0.2                      0.2   \n",
      "559         1.7                      0.6                      0.3   \n",
      "\n",
      "    loose ballsrecovered % loose ballsrecovered off  \\\n",
      "0                    0.2                       33.3   \n",
      "1                    0.2                       11.1   \n",
      "2                    0.2                       50.0   \n",
      "3                    0.6                       50.0   \n",
      "4                    0.3                       33.3   \n",
      "..                   ...                        ...   \n",
      "555                  0.4                       47.6   \n",
      "556                  0.5                       53.8   \n",
      "557                  0.1                       42.9   \n",
      "558                  0.4                       52.4   \n",
      "559                  0.9                       65.5   \n",
      "\n",
      "    % loose ballsrecovered def chargesdrawn contested2pt shots  \\\n",
      "0                         66.7         0.00                0.7   \n",
      "1                         88.9         0.04                0.8   \n",
      "2                         50.0         0.00                0.4   \n",
      "3                         50.0         0.03                3.3   \n",
      "4                         66.7         0.02                1.1   \n",
      "..                         ...          ...                ...   \n",
      "555                       52.4         0.04                7.4   \n",
      "556                       46.2         0.00                1.9   \n",
      "557                       57.1         0.00                2.6   \n",
      "558                       47.6         0.08                1.8   \n",
      "559                       34.5         0.00                1.7   \n",
      "\n",
      "    contested3pt shots contestedshots  \n",
      "0                  0.3            1.0  \n",
      "1                  0.6            1.4  \n",
      "2                  0.4            0.8  \n",
      "3                  1.5            4.8  \n",
      "4                  0.9            1.9  \n",
      "..                 ...            ...  \n",
      "555                1.8            9.2  \n",
      "556                3.2            5.1  \n",
      "557                1.1            3.7  \n",
      "558                1.7            3.5  \n",
      "559                2.3            4.0  \n",
      "\n",
      "[560 rows x 17 columns]\n",
      "Data scraped from: https://www.nba.com/stats/players/scoring\n",
      "                    player team age  gp   w   l   min %fga2pt %fga3pt  ...  \\\n",
      "0      1       Buddy Hield  PHI  31  71  37  34  26.6    32.8    67.2  ...   \n",
      "1      2    Andre Drummond  CHI  30  70  34  36  17.0    99.3     0.7  ...   \n",
      "2      2      Bobby Portis  MIL  29  70  45  25  24.3    72.4    27.6  ...   \n",
      "3      2   Dennis Schroder  BKN  30  70  24  46  30.7    60.1    39.9  ...   \n",
      "4      2     Mikal Bridges  BKN  27  70  26  44  35.2    56.5    43.5  ...   \n",
      "..   ...               ...  ...  ..  ..  ..  ..   ...     ...     ...  ...   \n",
      "555  546  Maozinha Pereira  MEM  23   1   0   1   5.7    50.0    50.0  ...   \n",
      "556  546   Markquis Nowell  TOR  24   1   0   1   3.5     100     0.0  ...   \n",
      "557  546       Mason Jones  SAC  25   1   0   1  13.0    33.3    66.7  ...   \n",
      "558  546   Quenton Jackson  IND  25   1   1   0   1.8     0.0     0.0  ...   \n",
      "559  546    Ron Harper Jr.  TOR  23   1   1   0   3.7     0.0     0.0  ...   \n",
      "\n",
      "    %ptsfbps %ptsft %ptsoffto %ptspitp 2fgm%ast 2fgm%uast 3fgm%ast 3fgm%uast  \\\n",
      "0       20.3    4.5      20.6     25.6     68.2      31.8     91.7       8.3   \n",
      "1        4.0   19.5      15.5     80.1     55.4      44.6      0.0       0.0   \n",
      "2        7.2    9.6      11.2     46.4     53.7      46.3     98.8       1.2   \n",
      "3        6.6   15.9      12.3     32.6     36.6      63.4     85.7      14.3   \n",
      "4       13.4   17.3      14.0     35.5     50.0      50.0     86.3      13.7   \n",
      "..       ...    ...       ...      ...      ...       ...      ...       ...   \n",
      "555      0.0    0.0       0.0      100      100       0.0      0.0       0.0   \n",
      "556      0.0    100       0.0      0.0      0.0       0.0      0.0       0.0   \n",
      "557      100    100       0.0      0.0      0.0       0.0      0.0       0.0   \n",
      "558      0.0    100       0.0      0.0      0.0       0.0      0.0       0.0   \n",
      "559      0.0    100       0.0      0.0      0.0       0.0      0.0       0.0   \n",
      "\n",
      "    fgm%ast fgm%uast  \n",
      "0      82.2     17.8  \n",
      "1      55.4     44.6  \n",
      "2      63.4     36.6  \n",
      "3      53.5     46.5  \n",
      "4      63.2     36.8  \n",
      "..      ...      ...  \n",
      "555     100      0.0  \n",
      "556     0.0      0.0  \n",
      "557     0.0      0.0  \n",
      "558     0.0      0.0  \n",
      "559     0.0      0.0  \n",
      "\n",
      "[560 rows x 23 columns]\n"
     ]
    }
   ],
   "source": [
    "from selenium import webdriver\n",
    "from selenium.webdriver.common.by import By\n",
    "from selenium.webdriver.support.ui import Select\n",
    "from bs4 import BeautifulSoup\n",
    "import pandas as pd\n",
    "import time\n",
    "\n",
    "urls = [\n",
    "    \"https://www.nba.com/stats/players/traditional\",\n",
    "    \"https://www.nba.com/stats/players/advanced\",\n",
    "    \"https://www.nba.com/stats/players/hustle\",\n",
    "    \"https://www.nba.com/stats/players/scoring\"\n",
    "]\n",
    "\n",
    "# Dictionary to store DataFrames\n",
    "dfs = {}\n",
    "\n",
    "for idx, url in enumerate(urls):\n",
    "    # chrome driver to scrape dynamic webpages\n",
    "    driver = webdriver.Chrome()\n",
    "    driver.get(url)\n",
    "\n",
    "    # Find the dropdown element by class name\n",
    "    dropdown = driver.find_element(By.CSS_SELECTOR, \".Pagination_pageDropdown__KgjBU select\")\n",
    "\n",
    "    # Select a higher value from the dropdown to display more items per page\n",
    "    select = Select(dropdown)\n",
    "    select.select_by_visible_text('All')  # Selecting 100 items per page\n",
    "\n",
    "    # Wait for the page to load the new content\n",
    "    time.sleep(2)  # Adjust as needed\n",
    "\n",
    "    # Now you can parse the page source\n",
    "    soup = BeautifulSoup(driver.page_source, 'html.parser')\n",
    "\n",
    "    # Extract the table data\n",
    "    tables = soup.find_all('table')\n",
    "    t = tables[2]\n",
    "\n",
    "    headers, [_, *data] = [i.text for i in t.find_all('th')], [[i.text for i in b.find_all('td')] for b in t.find_all('tr')]\n",
    "    final_data = [i for i in data if len(i) > 1]\n",
    "\n",
    "    # Format headers, for strings with '\\n' in it, remove \\n\n",
    "    for h in headers:\n",
    "        if '\\n' in h:\n",
    "            headers[headers.index(h)] = h.replace('\\n', ' ')\n",
    "\n",
    "    # Headers all lower case\n",
    "    headers = [i.lower() for i in headers]\n",
    "\n",
    "    # Create a list of dictionaries containing the data\n",
    "    data_attrs = [dict(zip(headers, i)) for i in final_data]\n",
    "\n",
    "    # Create a DataFrame\n",
    "    df_name = f\"df_{idx}\"\n",
    "    dfs[df_name] = pd.DataFrame(data_attrs)\n",
    "\n",
    "    # Print the URL for reference\n",
    "    print(f\"Data scraped from: {url}\")\n",
    "\n",
    "    # Print the DataFrame\n",
    "    print(dfs[df_name])\n",
    "\n",
    "    # Close the webdriver\n",
    "    driver.quit()"
   ],
   "metadata": {
    "collapsed": false,
    "ExecuteTime": {
     "end_time": "2024-03-22T03:09:55.588457600Z",
     "start_time": "2024-03-22T03:08:43.269390100Z"
    }
   },
   "id": "125d0eea864684c8"
  },
  {
   "cell_type": "code",
   "execution_count": 70,
   "outputs": [],
   "source": [
    "box = dfs[(\"df_0\")]"
   ],
   "metadata": {
    "collapsed": false,
    "ExecuteTime": {
     "end_time": "2024-03-22T03:14:16.453759600Z",
     "start_time": "2024-03-22T03:14:16.402639500Z"
    }
   },
   "id": "358d656abc89a77f"
  },
  {
   "cell_type": "code",
   "execution_count": 66,
   "outputs": [],
   "source": [
    "advanced = dfs[(\"df_1\")].drop(columns=['gp', 'w','l','min','team', 'age'])"
   ],
   "metadata": {
    "collapsed": false,
    "ExecuteTime": {
     "end_time": "2024-03-22T03:13:26.969913100Z",
     "start_time": "2024-03-22T03:13:26.926162300Z"
    }
   },
   "id": "f1c6b2f8963ae994"
  },
  {
   "cell_type": "code",
   "execution_count": 68,
   "outputs": [],
   "source": [
    "hustle = dfs[(\"df_2\")].drop(columns=['gp','min','team', 'age'])"
   ],
   "metadata": {
    "collapsed": false,
    "ExecuteTime": {
     "end_time": "2024-03-22T03:13:50.526167200Z",
     "start_time": "2024-03-22T03:13:50.499803300Z"
    }
   },
   "id": "8f0dc512383d1454"
  },
  {
   "cell_type": "code",
   "execution_count": 69,
   "outputs": [],
   "source": [
    "scoring = dfs[(\"df_3\")].drop(columns=['gp', 'w','l','min','team', 'age'])"
   ],
   "metadata": {
    "collapsed": false,
    "ExecuteTime": {
     "end_time": "2024-03-22T03:14:03.049956900Z",
     "start_time": "2024-03-22T03:14:03.028048500Z"
    }
   },
   "id": "a1c4a3feb2b83877"
  },
  {
   "cell_type": "code",
   "execution_count": 71,
   "outputs": [
    {
     "data": {
      "text/plain": "      _x                   player team age  gp   w   l   min   pts   fgm  ...  \\\n0      1              Joel Embiid  PHI  30  34  26   8  34.0  35.3  11.8  ...   \n1      2              Luka Doncic  DAL  25  60  37  23  37.5  34.1  11.6  ...   \n2      3  Shai Gilgeous-Alexander  OKC  25  67  48  19  34.4  30.9  10.9  ...   \n3      4    Giannis Antetokounmpo  MIL  29  65  42  23  35.0  30.7  11.4  ...   \n4      5             Kevin Durant  PHX  35  62  35  27  37.3  27.7  10.1  ...   \n..   ...                      ...  ...  ..  ..  ..  ..   ...   ...   ...  ...   \n555  542               Pete Nance  CLE  24   3   1   2   2.5   0.0   0.0  ...   \n556  542          Quenton Jackson  IND  25   1   1   0   1.8   0.0   0.0  ...   \n557  542           Ron Harper Jr.  TOR  23   1   1   0   3.7   0.0   0.0  ...   \n558  542         Ryan Arcidiacono  NYK  29  20  15   5   2.3   0.0   0.0  ...   \n559  542             Usman Garuba  GSW  22   3   2   1   2.6   0.0   0.0  ...   \n\n    %ptsfbps %ptsft %ptsoffto %ptspitp 2fgm%ast 2fgm%uast 3fgm%ast 3fgm%uast  \\\n0        5.8   29.7       9.1     41.5     53.2      46.8     80.5      19.5   \n1        8.8   20.5      13.0     33.5     15.6      84.4     29.5      70.5   \n2       11.4   24.9      16.7     47.7     22.2      77.8     37.1      62.9   \n3       17.6   24.0      12.9     65.1     50.8      49.2     50.0      50.0   \n4       12.6   19.0      13.3     32.5     48.8      51.2     80.1      19.9   \n..       ...    ...       ...      ...      ...       ...      ...       ...   \n555      0.0    100       0.0      0.0      0.0       0.0      0.0       0.0   \n556      0.0    100       0.0      0.0      0.0       0.0      0.0       0.0   \n557      0.0    100       0.0      0.0      0.0       0.0      0.0       0.0   \n558      0.0    100       0.0      0.0      0.0       0.0      0.0       0.0   \n559      0.0    100       0.0      0.0      0.0       0.0      0.0       0.0   \n\n    fgm%ast fgm%uast  \n0      56.0     44.0  \n1      20.3     79.7  \n2      24.0     76.0  \n3      50.7     49.3  \n4      55.6     44.4  \n..      ...      ...  \n555     0.0      0.0  \n556     0.0      0.0  \n557     0.0      0.0  \n558     0.0      0.0  \n559     0.0      0.0  \n\n[560 rows x 75 columns]",
      "text/html": "<div>\n<style scoped>\n    .dataframe tbody tr th:only-of-type {\n        vertical-align: middle;\n    }\n\n    .dataframe tbody tr th {\n        vertical-align: top;\n    }\n\n    .dataframe thead th {\n        text-align: right;\n    }\n</style>\n<table border=\"1\" class=\"dataframe\">\n  <thead>\n    <tr style=\"text-align: right;\">\n      <th></th>\n      <th>_x</th>\n      <th>player</th>\n      <th>team</th>\n      <th>age</th>\n      <th>gp</th>\n      <th>w</th>\n      <th>l</th>\n      <th>min</th>\n      <th>pts</th>\n      <th>fgm</th>\n      <th>...</th>\n      <th>%ptsfbps</th>\n      <th>%ptsft</th>\n      <th>%ptsoffto</th>\n      <th>%ptspitp</th>\n      <th>2fgm%ast</th>\n      <th>2fgm%uast</th>\n      <th>3fgm%ast</th>\n      <th>3fgm%uast</th>\n      <th>fgm%ast</th>\n      <th>fgm%uast</th>\n    </tr>\n  </thead>\n  <tbody>\n    <tr>\n      <th>0</th>\n      <td>1</td>\n      <td>Joel Embiid</td>\n      <td>PHI</td>\n      <td>30</td>\n      <td>34</td>\n      <td>26</td>\n      <td>8</td>\n      <td>34.0</td>\n      <td>35.3</td>\n      <td>11.8</td>\n      <td>...</td>\n      <td>5.8</td>\n      <td>29.7</td>\n      <td>9.1</td>\n      <td>41.5</td>\n      <td>53.2</td>\n      <td>46.8</td>\n      <td>80.5</td>\n      <td>19.5</td>\n      <td>56.0</td>\n      <td>44.0</td>\n    </tr>\n    <tr>\n      <th>1</th>\n      <td>2</td>\n      <td>Luka Doncic</td>\n      <td>DAL</td>\n      <td>25</td>\n      <td>60</td>\n      <td>37</td>\n      <td>23</td>\n      <td>37.5</td>\n      <td>34.1</td>\n      <td>11.6</td>\n      <td>...</td>\n      <td>8.8</td>\n      <td>20.5</td>\n      <td>13.0</td>\n      <td>33.5</td>\n      <td>15.6</td>\n      <td>84.4</td>\n      <td>29.5</td>\n      <td>70.5</td>\n      <td>20.3</td>\n      <td>79.7</td>\n    </tr>\n    <tr>\n      <th>2</th>\n      <td>3</td>\n      <td>Shai Gilgeous-Alexander</td>\n      <td>OKC</td>\n      <td>25</td>\n      <td>67</td>\n      <td>48</td>\n      <td>19</td>\n      <td>34.4</td>\n      <td>30.9</td>\n      <td>10.9</td>\n      <td>...</td>\n      <td>11.4</td>\n      <td>24.9</td>\n      <td>16.7</td>\n      <td>47.7</td>\n      <td>22.2</td>\n      <td>77.8</td>\n      <td>37.1</td>\n      <td>62.9</td>\n      <td>24.0</td>\n      <td>76.0</td>\n    </tr>\n    <tr>\n      <th>3</th>\n      <td>4</td>\n      <td>Giannis Antetokounmpo</td>\n      <td>MIL</td>\n      <td>29</td>\n      <td>65</td>\n      <td>42</td>\n      <td>23</td>\n      <td>35.0</td>\n      <td>30.7</td>\n      <td>11.4</td>\n      <td>...</td>\n      <td>17.6</td>\n      <td>24.0</td>\n      <td>12.9</td>\n      <td>65.1</td>\n      <td>50.8</td>\n      <td>49.2</td>\n      <td>50.0</td>\n      <td>50.0</td>\n      <td>50.7</td>\n      <td>49.3</td>\n    </tr>\n    <tr>\n      <th>4</th>\n      <td>5</td>\n      <td>Kevin Durant</td>\n      <td>PHX</td>\n      <td>35</td>\n      <td>62</td>\n      <td>35</td>\n      <td>27</td>\n      <td>37.3</td>\n      <td>27.7</td>\n      <td>10.1</td>\n      <td>...</td>\n      <td>12.6</td>\n      <td>19.0</td>\n      <td>13.3</td>\n      <td>32.5</td>\n      <td>48.8</td>\n      <td>51.2</td>\n      <td>80.1</td>\n      <td>19.9</td>\n      <td>55.6</td>\n      <td>44.4</td>\n    </tr>\n    <tr>\n      <th>...</th>\n      <td>...</td>\n      <td>...</td>\n      <td>...</td>\n      <td>...</td>\n      <td>...</td>\n      <td>...</td>\n      <td>...</td>\n      <td>...</td>\n      <td>...</td>\n      <td>...</td>\n      <td>...</td>\n      <td>...</td>\n      <td>...</td>\n      <td>...</td>\n      <td>...</td>\n      <td>...</td>\n      <td>...</td>\n      <td>...</td>\n      <td>...</td>\n      <td>...</td>\n      <td>...</td>\n    </tr>\n    <tr>\n      <th>555</th>\n      <td>542</td>\n      <td>Pete Nance</td>\n      <td>CLE</td>\n      <td>24</td>\n      <td>3</td>\n      <td>1</td>\n      <td>2</td>\n      <td>2.5</td>\n      <td>0.0</td>\n      <td>0.0</td>\n      <td>...</td>\n      <td>0.0</td>\n      <td>100</td>\n      <td>0.0</td>\n      <td>0.0</td>\n      <td>0.0</td>\n      <td>0.0</td>\n      <td>0.0</td>\n      <td>0.0</td>\n      <td>0.0</td>\n      <td>0.0</td>\n    </tr>\n    <tr>\n      <th>556</th>\n      <td>542</td>\n      <td>Quenton Jackson</td>\n      <td>IND</td>\n      <td>25</td>\n      <td>1</td>\n      <td>1</td>\n      <td>0</td>\n      <td>1.8</td>\n      <td>0.0</td>\n      <td>0.0</td>\n      <td>...</td>\n      <td>0.0</td>\n      <td>100</td>\n      <td>0.0</td>\n      <td>0.0</td>\n      <td>0.0</td>\n      <td>0.0</td>\n      <td>0.0</td>\n      <td>0.0</td>\n      <td>0.0</td>\n      <td>0.0</td>\n    </tr>\n    <tr>\n      <th>557</th>\n      <td>542</td>\n      <td>Ron Harper Jr.</td>\n      <td>TOR</td>\n      <td>23</td>\n      <td>1</td>\n      <td>1</td>\n      <td>0</td>\n      <td>3.7</td>\n      <td>0.0</td>\n      <td>0.0</td>\n      <td>...</td>\n      <td>0.0</td>\n      <td>100</td>\n      <td>0.0</td>\n      <td>0.0</td>\n      <td>0.0</td>\n      <td>0.0</td>\n      <td>0.0</td>\n      <td>0.0</td>\n      <td>0.0</td>\n      <td>0.0</td>\n    </tr>\n    <tr>\n      <th>558</th>\n      <td>542</td>\n      <td>Ryan Arcidiacono</td>\n      <td>NYK</td>\n      <td>29</td>\n      <td>20</td>\n      <td>15</td>\n      <td>5</td>\n      <td>2.3</td>\n      <td>0.0</td>\n      <td>0.0</td>\n      <td>...</td>\n      <td>0.0</td>\n      <td>100</td>\n      <td>0.0</td>\n      <td>0.0</td>\n      <td>0.0</td>\n      <td>0.0</td>\n      <td>0.0</td>\n      <td>0.0</td>\n      <td>0.0</td>\n      <td>0.0</td>\n    </tr>\n    <tr>\n      <th>559</th>\n      <td>542</td>\n      <td>Usman Garuba</td>\n      <td>GSW</td>\n      <td>22</td>\n      <td>3</td>\n      <td>2</td>\n      <td>1</td>\n      <td>2.6</td>\n      <td>0.0</td>\n      <td>0.0</td>\n      <td>...</td>\n      <td>0.0</td>\n      <td>100</td>\n      <td>0.0</td>\n      <td>0.0</td>\n      <td>0.0</td>\n      <td>0.0</td>\n      <td>0.0</td>\n      <td>0.0</td>\n      <td>0.0</td>\n      <td>0.0</td>\n    </tr>\n  </tbody>\n</table>\n<p>560 rows × 75 columns</p>\n</div>"
     },
     "execution_count": 71,
     "metadata": {},
     "output_type": "execute_result"
    }
   ],
   "source": [
    "# Merge DataFrames based on the common column \"player\"\n",
    "combined_df = box.merge(advanced, on='player', how='left')\n",
    "combined_df = combined_df.merge(hustle, on='player', how='left')\n",
    "playeraverage = combined_df.merge(scoring, on='player', how='left')\n",
    "\n",
    "playeraverage"
   ],
   "metadata": {
    "collapsed": false,
    "ExecuteTime": {
     "end_time": "2024-03-22T03:15:37.761381700Z",
     "start_time": "2024-03-22T03:15:37.661086400Z"
    }
   },
   "id": "eac6d533b95a7bf"
  },
  {
   "cell_type": "code",
   "execution_count": 73,
   "outputs": [],
   "source": [
    "playeraverage.to_csv('playeraverage.csv', index= False)"
   ],
   "metadata": {
    "collapsed": false,
    "ExecuteTime": {
     "end_time": "2024-03-22T03:16:53.396938600Z",
     "start_time": "2024-03-22T03:16:53.346723100Z"
    }
   },
   "id": "9534e8fe3bb5acbb"
  },
  {
   "cell_type": "code",
   "execution_count": null,
   "outputs": [],
   "source": [],
   "metadata": {
    "collapsed": false
   },
   "id": "8d3f605d607aaf47"
  }
 ],
 "metadata": {
  "kernelspec": {
   "display_name": "Python 3",
   "language": "python",
   "name": "python3"
  },
  "language_info": {
   "codemirror_mode": {
    "name": "ipython",
    "version": 2
   },
   "file_extension": ".py",
   "mimetype": "text/x-python",
   "name": "python",
   "nbconvert_exporter": "python",
   "pygments_lexer": "ipython2",
   "version": "2.7.6"
  }
 },
 "nbformat": 4,
 "nbformat_minor": 5
}
