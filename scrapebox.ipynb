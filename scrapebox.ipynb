{
 "cells": [
  {
   "cell_type": "code",
   "execution_count": 1,
   "id": "initial_id",
   "metadata": {
    "collapsed": true,
    "ExecuteTime": {
     "end_time": "2024-03-19T21:05:31.106524400Z",
     "start_time": "2024-03-19T21:05:24.912126300Z"
    }
   },
   "outputs": [],
   "source": [
    "from selenium import webdriver\n",
    "from bs4 import BeautifulSoup\n",
    "import pandas as pd"
   ]
  },
  {
   "cell_type": "code",
   "execution_count": 2,
   "outputs": [
    {
     "data": {
      "text/plain": "     G      Date                                                Web Away  \\\n0    1  20231025  https://www.nba.com/game/was-vs-ind-0022300064...  NaN   \n1    2  20231028  https://www.nba.com/game/ind-vs-cle-0022300091...    @   \n2    3  20231030  https://www.nba.com/game/chi-vs-ind-0022300102...  NaN   \n3    4  20231101  https://www.nba.com/game/ind-vs-bos-0022300118...    @   \n4    5  20231103  https://www.nba.com/game/cle-vs-ind-0022300001...  NaN   \n..  ..       ...                                                ...  ...   \n62  63  20240305  https://www.nba.com/game/ind-vs-dal-0022300892...    @   \n63  64  20240307  https://www.nba.com/game/min-vs-ind-0022300903...  NaN   \n64  65  20240310  https://www.nba.com/game/ind-vs-orl-0022300928...    @   \n65  66  20240312  https://www.nba.com/game/ind-vs-okc-0022300941...    @   \n66  67  20240313  https://www.nba.com/game/chi-vs-ind-0022300948...  NaN   \n\n   Opponent W/L  Pacers  Opp                 Notes       Game ID  \n0       WAS   W     143  120                   NaN  202310250IND  \n1       CLE   W     125  113                   NaN  202310280CLE  \n2       CHI   L     105  112                   NaN  202310300IND  \n3       BOS   L     104  155                   NaN  202311010BOS  \n4       CLE   W     121  116  In-Season Tournament  202311030IND  \n..      ...  ..     ...  ...                   ...           ...  \n62      DAL   W     137  120                   NaN  202403050DAL  \n63      MIN   L     111  113                   NaN  202403070IND  \n64      ORL   W     111   97                   NaN  202403100ORL  \n65      OKC   W     121  111                   NaN  202403120OKC  \n66      CHI   L     129  132                   NaN  202403130IND  \n\n[67 rows x 10 columns]",
      "text/html": "<div>\n<style scoped>\n    .dataframe tbody tr th:only-of-type {\n        vertical-align: middle;\n    }\n\n    .dataframe tbody tr th {\n        vertical-align: top;\n    }\n\n    .dataframe thead th {\n        text-align: right;\n    }\n</style>\n<table border=\"1\" class=\"dataframe\">\n  <thead>\n    <tr style=\"text-align: right;\">\n      <th></th>\n      <th>G</th>\n      <th>Date</th>\n      <th>Web</th>\n      <th>Away</th>\n      <th>Opponent</th>\n      <th>W/L</th>\n      <th>Pacers</th>\n      <th>Opp</th>\n      <th>Notes</th>\n      <th>Game ID</th>\n    </tr>\n  </thead>\n  <tbody>\n    <tr>\n      <th>0</th>\n      <td>1</td>\n      <td>20231025</td>\n      <td>https://www.nba.com/game/was-vs-ind-0022300064...</td>\n      <td>NaN</td>\n      <td>WAS</td>\n      <td>W</td>\n      <td>143</td>\n      <td>120</td>\n      <td>NaN</td>\n      <td>202310250IND</td>\n    </tr>\n    <tr>\n      <th>1</th>\n      <td>2</td>\n      <td>20231028</td>\n      <td>https://www.nba.com/game/ind-vs-cle-0022300091...</td>\n      <td>@</td>\n      <td>CLE</td>\n      <td>W</td>\n      <td>125</td>\n      <td>113</td>\n      <td>NaN</td>\n      <td>202310280CLE</td>\n    </tr>\n    <tr>\n      <th>2</th>\n      <td>3</td>\n      <td>20231030</td>\n      <td>https://www.nba.com/game/chi-vs-ind-0022300102...</td>\n      <td>NaN</td>\n      <td>CHI</td>\n      <td>L</td>\n      <td>105</td>\n      <td>112</td>\n      <td>NaN</td>\n      <td>202310300IND</td>\n    </tr>\n    <tr>\n      <th>3</th>\n      <td>4</td>\n      <td>20231101</td>\n      <td>https://www.nba.com/game/ind-vs-bos-0022300118...</td>\n      <td>@</td>\n      <td>BOS</td>\n      <td>L</td>\n      <td>104</td>\n      <td>155</td>\n      <td>NaN</td>\n      <td>202311010BOS</td>\n    </tr>\n    <tr>\n      <th>4</th>\n      <td>5</td>\n      <td>20231103</td>\n      <td>https://www.nba.com/game/cle-vs-ind-0022300001...</td>\n      <td>NaN</td>\n      <td>CLE</td>\n      <td>W</td>\n      <td>121</td>\n      <td>116</td>\n      <td>In-Season Tournament</td>\n      <td>202311030IND</td>\n    </tr>\n    <tr>\n      <th>...</th>\n      <td>...</td>\n      <td>...</td>\n      <td>...</td>\n      <td>...</td>\n      <td>...</td>\n      <td>...</td>\n      <td>...</td>\n      <td>...</td>\n      <td>...</td>\n      <td>...</td>\n    </tr>\n    <tr>\n      <th>62</th>\n      <td>63</td>\n      <td>20240305</td>\n      <td>https://www.nba.com/game/ind-vs-dal-0022300892...</td>\n      <td>@</td>\n      <td>DAL</td>\n      <td>W</td>\n      <td>137</td>\n      <td>120</td>\n      <td>NaN</td>\n      <td>202403050DAL</td>\n    </tr>\n    <tr>\n      <th>63</th>\n      <td>64</td>\n      <td>20240307</td>\n      <td>https://www.nba.com/game/min-vs-ind-0022300903...</td>\n      <td>NaN</td>\n      <td>MIN</td>\n      <td>L</td>\n      <td>111</td>\n      <td>113</td>\n      <td>NaN</td>\n      <td>202403070IND</td>\n    </tr>\n    <tr>\n      <th>64</th>\n      <td>65</td>\n      <td>20240310</td>\n      <td>https://www.nba.com/game/ind-vs-orl-0022300928...</td>\n      <td>@</td>\n      <td>ORL</td>\n      <td>W</td>\n      <td>111</td>\n      <td>97</td>\n      <td>NaN</td>\n      <td>202403100ORL</td>\n    </tr>\n    <tr>\n      <th>65</th>\n      <td>66</td>\n      <td>20240312</td>\n      <td>https://www.nba.com/game/ind-vs-okc-0022300941...</td>\n      <td>@</td>\n      <td>OKC</td>\n      <td>W</td>\n      <td>121</td>\n      <td>111</td>\n      <td>NaN</td>\n      <td>202403120OKC</td>\n    </tr>\n    <tr>\n      <th>66</th>\n      <td>67</td>\n      <td>20240313</td>\n      <td>https://www.nba.com/game/chi-vs-ind-0022300948...</td>\n      <td>NaN</td>\n      <td>CHI</td>\n      <td>L</td>\n      <td>129</td>\n      <td>132</td>\n      <td>NaN</td>\n      <td>202403130IND</td>\n    </tr>\n  </tbody>\n</table>\n<p>67 rows × 10 columns</p>\n</div>"
     },
     "execution_count": 2,
     "metadata": {},
     "output_type": "execute_result"
    }
   ],
   "source": [
    "schedule = pd.read_csv(\"Schedule.csv\")\n",
    "schedule"
   ],
   "metadata": {
    "collapsed": false,
    "ExecuteTime": {
     "end_time": "2024-03-19T21:05:56.612848Z",
     "start_time": "2024-03-19T21:05:56.493401900Z"
    }
   },
   "id": "80ecf538976ac484"
  },
  {
   "cell_type": "code",
   "execution_count": 3,
   "outputs": [],
   "source": [
    "schedule.rename(columns={'Web':'url'}, inplace =True)"
   ],
   "metadata": {
    "collapsed": false,
    "ExecuteTime": {
     "end_time": "2024-03-19T21:06:35.022670Z",
     "start_time": "2024-03-19T21:06:35.004743900Z"
    }
   },
   "id": "965c2032f95bade0"
  },
  {
   "cell_type": "code",
   "execution_count": 11,
   "outputs": [
    {
     "data": {
      "text/plain": "     G      Date                                                url Away  \\\n0    1  20231025  https://www.nba.com/game/was-vs-ind-0022300064...  NaN   \n1    2  20231028  https://www.nba.com/game/ind-vs-cle-0022300091...    @   \n2    3  20231030  https://www.nba.com/game/chi-vs-ind-0022300102...  NaN   \n3    4  20231101  https://www.nba.com/game/ind-vs-bos-0022300118...    @   \n4    5  20231103  https://www.nba.com/game/cle-vs-ind-0022300001...  NaN   \n..  ..       ...                                                ...  ...   \n62  63  20240305  https://www.nba.com/game/ind-vs-dal-0022300892...    @   \n63  64  20240307  https://www.nba.com/game/min-vs-ind-0022300903...  NaN   \n64  65  20240310  https://www.nba.com/game/ind-vs-orl-0022300928...    @   \n65  66  20240312  https://www.nba.com/game/ind-vs-okc-0022300941...    @   \n66  67  20240313  https://www.nba.com/game/chi-vs-ind-0022300948...  NaN   \n\n   Opponent W/L  Pacers  Opp                 Notes       Game ID  \n0       WAS   W     143  120                   NaN  202310250IND  \n1       CLE   W     125  113                   NaN  202310280CLE  \n2       CHI   L     105  112                   NaN  202310300IND  \n3       BOS   L     104  155                   NaN  202311010BOS  \n4       CLE   W     121  116  In-Season Tournament  202311030IND  \n..      ...  ..     ...  ...                   ...           ...  \n62      DAL   W     137  120                   NaN  202403050DAL  \n63      MIN   L     111  113                   NaN  202403070IND  \n64      ORL   W     111   97                   NaN  202403100ORL  \n65      OKC   W     121  111                   NaN  202403120OKC  \n66      CHI   L     129  132                   NaN  202403130IND  \n\n[67 rows x 10 columns]",
      "text/html": "<div>\n<style scoped>\n    .dataframe tbody tr th:only-of-type {\n        vertical-align: middle;\n    }\n\n    .dataframe tbody tr th {\n        vertical-align: top;\n    }\n\n    .dataframe thead th {\n        text-align: right;\n    }\n</style>\n<table border=\"1\" class=\"dataframe\">\n  <thead>\n    <tr style=\"text-align: right;\">\n      <th></th>\n      <th>G</th>\n      <th>Date</th>\n      <th>url</th>\n      <th>Away</th>\n      <th>Opponent</th>\n      <th>W/L</th>\n      <th>Pacers</th>\n      <th>Opp</th>\n      <th>Notes</th>\n      <th>Game ID</th>\n    </tr>\n  </thead>\n  <tbody>\n    <tr>\n      <th>0</th>\n      <td>1</td>\n      <td>20231025</td>\n      <td>https://www.nba.com/game/was-vs-ind-0022300064...</td>\n      <td>NaN</td>\n      <td>WAS</td>\n      <td>W</td>\n      <td>143</td>\n      <td>120</td>\n      <td>NaN</td>\n      <td>202310250IND</td>\n    </tr>\n    <tr>\n      <th>1</th>\n      <td>2</td>\n      <td>20231028</td>\n      <td>https://www.nba.com/game/ind-vs-cle-0022300091...</td>\n      <td>@</td>\n      <td>CLE</td>\n      <td>W</td>\n      <td>125</td>\n      <td>113</td>\n      <td>NaN</td>\n      <td>202310280CLE</td>\n    </tr>\n    <tr>\n      <th>2</th>\n      <td>3</td>\n      <td>20231030</td>\n      <td>https://www.nba.com/game/chi-vs-ind-0022300102...</td>\n      <td>NaN</td>\n      <td>CHI</td>\n      <td>L</td>\n      <td>105</td>\n      <td>112</td>\n      <td>NaN</td>\n      <td>202310300IND</td>\n    </tr>\n    <tr>\n      <th>3</th>\n      <td>4</td>\n      <td>20231101</td>\n      <td>https://www.nba.com/game/ind-vs-bos-0022300118...</td>\n      <td>@</td>\n      <td>BOS</td>\n      <td>L</td>\n      <td>104</td>\n      <td>155</td>\n      <td>NaN</td>\n      <td>202311010BOS</td>\n    </tr>\n    <tr>\n      <th>4</th>\n      <td>5</td>\n      <td>20231103</td>\n      <td>https://www.nba.com/game/cle-vs-ind-0022300001...</td>\n      <td>NaN</td>\n      <td>CLE</td>\n      <td>W</td>\n      <td>121</td>\n      <td>116</td>\n      <td>In-Season Tournament</td>\n      <td>202311030IND</td>\n    </tr>\n    <tr>\n      <th>...</th>\n      <td>...</td>\n      <td>...</td>\n      <td>...</td>\n      <td>...</td>\n      <td>...</td>\n      <td>...</td>\n      <td>...</td>\n      <td>...</td>\n      <td>...</td>\n      <td>...</td>\n    </tr>\n    <tr>\n      <th>62</th>\n      <td>63</td>\n      <td>20240305</td>\n      <td>https://www.nba.com/game/ind-vs-dal-0022300892...</td>\n      <td>@</td>\n      <td>DAL</td>\n      <td>W</td>\n      <td>137</td>\n      <td>120</td>\n      <td>NaN</td>\n      <td>202403050DAL</td>\n    </tr>\n    <tr>\n      <th>63</th>\n      <td>64</td>\n      <td>20240307</td>\n      <td>https://www.nba.com/game/min-vs-ind-0022300903...</td>\n      <td>NaN</td>\n      <td>MIN</td>\n      <td>L</td>\n      <td>111</td>\n      <td>113</td>\n      <td>NaN</td>\n      <td>202403070IND</td>\n    </tr>\n    <tr>\n      <th>64</th>\n      <td>65</td>\n      <td>20240310</td>\n      <td>https://www.nba.com/game/ind-vs-orl-0022300928...</td>\n      <td>@</td>\n      <td>ORL</td>\n      <td>W</td>\n      <td>111</td>\n      <td>97</td>\n      <td>NaN</td>\n      <td>202403100ORL</td>\n    </tr>\n    <tr>\n      <th>65</th>\n      <td>66</td>\n      <td>20240312</td>\n      <td>https://www.nba.com/game/ind-vs-okc-0022300941...</td>\n      <td>@</td>\n      <td>OKC</td>\n      <td>W</td>\n      <td>121</td>\n      <td>111</td>\n      <td>NaN</td>\n      <td>202403120OKC</td>\n    </tr>\n    <tr>\n      <th>66</th>\n      <td>67</td>\n      <td>20240313</td>\n      <td>https://www.nba.com/game/chi-vs-ind-0022300948...</td>\n      <td>NaN</td>\n      <td>CHI</td>\n      <td>L</td>\n      <td>129</td>\n      <td>132</td>\n      <td>NaN</td>\n      <td>202403130IND</td>\n    </tr>\n  </tbody>\n</table>\n<p>67 rows × 10 columns</p>\n</div>"
     },
     "execution_count": 11,
     "metadata": {},
     "output_type": "execute_result"
    }
   ],
   "source": [
    "schedule['url'] = schedule['url'].str.replace('#box-score$', '?type=traditional', regex=True)\n",
    "schedule"
   ],
   "metadata": {
    "collapsed": false,
    "ExecuteTime": {
     "end_time": "2024-03-19T21:30:11.105761200Z",
     "start_time": "2024-03-19T21:30:11.019897Z"
    }
   },
   "id": "6a4b429be979eda8"
  },
  {
   "cell_type": "code",
   "execution_count": 6,
   "outputs": [
    {
     "name": "stdout",
     "output_type": "stream",
     "text": [
      "Scraping data for Game ID: 202310250IND\n",
      "Scraping data for Game ID: 202310300IND\n",
      "Scraping data for Game ID: 202311030IND\n",
      "Scraping data for Game ID: 202311040IND\n",
      "Scraping data for Game ID: 202311060IND\n",
      "Scraping data for Game ID: 202311080IND\n",
      "Scraping data for Game ID: 202311090IND\n",
      "Scraping data for Game ID: 202311190IND\n",
      "Scraping data for Game ID: 202311220IND\n",
      "Scraping data for Game ID: 202311240IND\n",
      "Scraping data for Game ID: 202311270IND\n",
      "Scraping data for Game ID: 202312040IND\n",
      "Scraping data for Game ID: 202312180IND\n",
      "Scraping data for Game ID: 202312200IND\n",
      "Scraping data for Game ID: 202312230IND\n",
      "Scraping data for Game ID: 202312300IND\n",
      "Scraping data for Game ID: 202401030IND\n",
      "Scraping data for Game ID: 202401050IND\n",
      "Scraping data for Game ID: 202401060IND\n",
      "Scraping data for Game ID: 202401080IND\n",
      "Scraping data for Game ID: 202401100IND\n",
      "Scraping data for Game ID: 202401230IND\n",
      "Scraping data for Game ID: 202401250IND\n",
      "Scraping data for Game ID: 202401260IND\n",
      "Scraping data for Game ID: 202401280IND\n",
      "Scraping data for Game ID: 202402020IND\n",
      "Scraping data for Game ID: 202402060IND\n",
      "Scraping data for Game ID: 202402080IND\n",
      "Scraping data for Game ID: 202402220IND\n",
      "Scraping data for Game ID: 202402250IND\n",
      "Scraping data for Game ID: 202402260IND\n",
      "Scraping data for Game ID: 202402280IND\n",
      "Scraping data for Game ID: 202403070IND\n",
      "Scraping data for Game ID: 202403130IND\n",
      "                              PLAYER                     MIN   FGM   FGA  \\\n",
      "0     Bennedict MathurinB. MathurinF                   25:50     6    15   \n",
      "1               Obi ToppinO. ToppinF                   19:14     4     9   \n",
      "2             Myles TurnerM. TurnerC                   23:20     5     8   \n",
      "3               Bruce BrownB. BrownG                   27:12     8    11   \n",
      "4    Tyrese HaliburtonT. HaliburtonG                   26:54     9    16   \n",
      "..                               ...                     ...   ...   ...   \n",
      "513            Kendall BrownK. Brown  DNP - Coach's Decision  None  None   \n",
      "514        Quenton JacksonQ. Jackson  DNP - Coach's Decision  None  None   \n",
      "515          James JohnsonJ. Johnson  DNP - Coach's Decision  None  None   \n",
      "516        Oscar TshiebweO. Tshiebwe  DNP - Coach's Decision  None  None   \n",
      "517                           TOTALS                            46    99   \n",
      "\n",
      "      FG%   3PM   3PA   3P%   FTM   FTA  ...  DREB   REB   AST   STL   BLK  \\\n",
      "0    40.0     2     6  33.3     4     4  ...     4     4     5     2     0   \n",
      "1    44.4     2     5  40.0     1     1  ...     3     4     1     1     0   \n",
      "2    62.5     0     2   0.0     1     2  ...     8     8     1     0     3   \n",
      "3    72.7     6     8  75.0     2     2  ...     2     3     1     1     0   \n",
      "4    56.3     2     6  33.3     0     0  ...     3     3    11     1     2   \n",
      "..    ...   ...   ...   ...   ...   ...  ...   ...   ...   ...   ...   ...   \n",
      "513  None  None  None  None  None  None  ...  None  None  None  None  None   \n",
      "514  None  None  None  None  None  None  ...  None  None  None  None  None   \n",
      "515  None  None  None  None  None  None  ...  None  None  None  None  None   \n",
      "516  None  None  None  None  None  None  ...  None  None  None  None  None   \n",
      "517  46.5    14    45  31.1    23    28  ...    38    47    30     4     6   \n",
      "\n",
      "       TO    PF   PTS   +/-       Game ID  \n",
      "0       2     1    18    14  202310250IND  \n",
      "1       0     0    11     7  202310250IND  \n",
      "2       2     4    11    14  202310250IND  \n",
      "3       1     3    24    15  202310250IND  \n",
      "4       3     1    20     6  202310250IND  \n",
      "..    ...   ...   ...   ...           ...  \n",
      "513  None  None  None  None  202403130IND  \n",
      "514  None  None  None  None  202403130IND  \n",
      "515  None  None  None  None  202403130IND  \n",
      "516  None  None  None  None  202403130IND  \n",
      "517     8    25   129    -3  202403130IND  \n",
      "\n",
      "[518 rows x 22 columns]\n"
     ]
    }
   ],
   "source": [
    "# Function to scrape data from a given URL\n",
    "def scrape_data(url):\n",
    "    # chrome driver to scrape dynamic webpages\n",
    "    driver = webdriver.Chrome()\n",
    "    driver.get(url)\n",
    "\n",
    "    # beautiful soup to parse it\n",
    "    soup = BeautifulSoup(driver.page_source, 'html.parser')\n",
    "\n",
    "    # Find all tables on the page\n",
    "    tables = soup.find_all('table')\n",
    "\n",
    "    # Select the second table (indexing starts from 0)\n",
    "    t = tables[1]\n",
    "\n",
    "    # Extract headers and data from the table\n",
    "    headers = [i.text.strip() for i in t.find_all('th')]\n",
    "    data = [[i.text.strip() for i in b.find_all('td')] for b in t.find_all('tr')]\n",
    "\n",
    "    # Remove empty rows\n",
    "    data = [row for row in data if len(row) > 1]\n",
    "\n",
    "    # Create DataFrame\n",
    "    df = pd.DataFrame(data, columns=headers)\n",
    "\n",
    "    return df\n",
    "\n",
    "# Initialize an empty list to store DataFrames\n",
    "combined_dfs = []\n",
    "\n",
    "# Iterate through the schedule DataFrame and scrape data for rows where \"Away\" is NaN\n",
    "for index, row in schedule.iterrows():\n",
    "    if pd.isna(row['Away']):\n",
    "        game_id = row['Game ID']\n",
    "        url = row['url']\n",
    "        print(f\"Scraping data for Game ID: {game_id}\")\n",
    "\n",
    "        # Scrape data from the URL\n",
    "        df = scrape_data(url)\n",
    "\n",
    "        # Add Game ID to the DataFrame\n",
    "        df['Game ID'] = game_id\n",
    "\n",
    "        # Append the scraped DataFrame to the list\n",
    "        combined_dfs.append(df)\n",
    "\n",
    "# Concatenate all scraped DataFrames into a single DataFrame\n",
    "box_home = pd.concat(combined_dfs, ignore_index=True)\n",
    "\n",
    "# Display the combined DataFrame\n",
    "print(box_home)"
   ],
   "metadata": {
    "collapsed": false,
    "ExecuteTime": {
     "end_time": "2024-03-19T21:25:24.919375600Z",
     "start_time": "2024-03-19T21:19:48.427533900Z"
    }
   },
   "id": "e8eebf217f34eeb"
  },
  {
   "cell_type": "code",
   "execution_count": 14,
   "outputs": [
    {
     "name": "stdout",
     "output_type": "stream",
     "text": [
      "Scraping data for Game ID: 202310280CLE\n",
      "Scraping data for Game ID: 202311010BOS\n",
      "Scraping data for Game ID: 202311120PHI\n",
      "Scraping data for Game ID: 202311140PHI\n",
      "Scraping data for Game ID: 202311210ATL\n",
      "Scraping data for Game ID: 202311300MIA\n",
      "Scraping data for Game ID: 202312020MIA\n",
      "Scraping data for Game ID: 202312070MIL\n",
      "Scraping data for Game ID: 202312110DET\n",
      "Scraping data for Game ID: 202312130MIL\n",
      "Scraping data for Game ID: 202312150WAS\n",
      "Scraping data for Game ID: 202312160MIN\n",
      "Scraping data for Game ID: 202312210MEM\n",
      "Scraping data for Game ID: 202312260HOU\n",
      "Scraping data for Game ID: 202312280CHI\n",
      "Scraping data for Game ID: 202401010MIL\n",
      "Scraping data for Game ID: 202401120ATL\n",
      "Scraping data for Game ID: 202401140DEN\n",
      "Scraping data for Game ID: 202401150UTA\n",
      "Scraping data for Game ID: 202401180SAC\n",
      "Scraping data for Game ID: 202401190POR\n",
      "Scraping data for Game ID: 202401210PHO\n",
      "Scraping data for Game ID: 202401300BOS\n",
      "Scraping data for Game ID: 202402010NYK\n",
      "Scraping data for Game ID: 202402040CHO\n",
      "Scraping data for Game ID: 202402100NYK\n",
      "Scraping data for Game ID: 202402120CHO\n",
      "Scraping data for Game ID: 202402140TOR\n",
      "Scraping data for Game ID: 202403010NOP\n",
      "Scraping data for Game ID: 202403030SAS\n",
      "Scraping data for Game ID: 202403050DAL\n",
      "Scraping data for Game ID: 202403100ORL\n",
      "Scraping data for Game ID: 202403120OKC\n"
     ]
    }
   ],
   "source": [
    "# Scrape away games:\n",
    "# Function to scrape data from a given URL\n",
    "def scrape_data(url):\n",
    "    # chrome driver to scrape dynamic webpages\n",
    "    driver = webdriver.Chrome()\n",
    "    driver.get(url)\n",
    "\n",
    "    # beautiful soup to parse it\n",
    "    soup = BeautifulSoup(driver.page_source, 'html.parser')\n",
    "\n",
    "    # Find all tables on the page\n",
    "    tables = soup.find_all('table')\n",
    "\n",
    "    # Select the second table (indexing starts from 0)\n",
    "    t = tables[0]\n",
    "\n",
    "    # Extract headers and data from the table\n",
    "    headers = [i.text.strip() for i in t.find_all('th')]\n",
    "    data = [[i.text.strip() for i in b.find_all('td')] for b in t.find_all('tr')]\n",
    "\n",
    "    # Remove empty rows\n",
    "    data = [row for row in data if len(row) > 1]\n",
    "\n",
    "    # Create DataFrame\n",
    "    df = pd.DataFrame(data, columns=headers)\n",
    "\n",
    "    return df\n",
    "\n",
    "# Initialize an empty list to store DataFrames\n",
    "box_away_dfs = []\n",
    "\n",
    "# Iterate through the schedule DataFrame and scrape data for rows where \"Away\" is NaN\n",
    "for index, row in schedule.iterrows():\n",
    "    if not pd.isna(row['Away']):\n",
    "        game_id = row['Game ID']\n",
    "        url = row['url']\n",
    "        print(f\"Scraping data for Game ID: {game_id}\")\n",
    "\n",
    "        # Scrape data from the URL\n",
    "        df = scrape_data(url)\n",
    "\n",
    "        # Add Game ID to the DataFrame\n",
    "        df['Game ID'] = game_id\n",
    "\n",
    "        # Append the scraped DataFrame to the list\n",
    "        box_away_dfs.append(df)\n",
    "\n",
    "# Concatenate all scraped DataFrames into a single DataFrame\n",
    "box_away = pd.concat(box_away_dfs, ignore_index=True)"
   ],
   "metadata": {
    "collapsed": false,
    "ExecuteTime": {
     "end_time": "2024-03-20T10:28:42.705068200Z",
     "start_time": "2024-03-20T10:24:14.109787300Z"
    }
   },
   "id": "8d52cf2ddc128787"
  },
  {
   "cell_type": "code",
   "execution_count": 15,
   "outputs": [
    {
     "data": {
      "text/plain": "                              PLAYER                     MIN   FGM   FGA  \\\n0     Bennedict MathurinB. MathurinF                   17:04     5    10   \n1               Obi ToppinO. ToppinF                   18:00     2     5   \n2             Myles TurnerM. TurnerC                   29:25     7    14   \n3               Bruce BrownB. BrownG                   32:11     3     8   \n4    Tyrese HaliburtonT. HaliburtonG                   32:01     7    16   \n..                               ...                     ...   ...   ...   \n477           Jarace WalkerJ. Walker                    6:51     1     2   \n478            Kendall BrownK. Brown  DNP - Coach's Decision  None  None   \n479         Isaiah JacksonI. Jackson  DNP - Coach's Decision  None  None   \n480          James JohnsonJ. Johnson    DND - Injury/Illness  None  None   \n481                           TOTALS                            48    89   \n\n      FG%   3PM   3PA   3P%   FTM   FTA  ...  DREB   REB   AST   STL   BLK  \\\n0    50.0     1     3  33.3     2     3  ...     0     0     1     0     0   \n1    40.0     0     1   0.0     0     0  ...     2     4     0     0     1   \n2    50.0     1     5  20.0     5     5  ...    11    12     1     0     2   \n3    37.5     0     1   0.0     0     0  ...     4     4     2     1     0   \n4    43.8     4     7  57.1     3     3  ...     7     8    13     0     0   \n..    ...   ...   ...   ...   ...   ...  ...   ...   ...   ...   ...   ...   \n477  50.0     1     2  50.0     0     0  ...     1     2     0     0     0   \n478  None  None  None  None  None  None  ...  None  None  None  None  None   \n479  None  None  None  None  None  None  ...  None  None  None  None  None   \n480  None  None  None  None  None  None  ...  None  None  None  None  None   \n481  53.9     9    28  32.1    16    19  ...    39    43    34     8    10   \n\n       TO    PF   PTS   +/-       Game ID  \n0       0     0    13   -11  202310280CLE  \n1       1     1     4    -6  202310280CLE  \n2       2     5    20    -5  202310280CLE  \n3       0     3     6     0  202310280CLE  \n4       1     2    21    -1  202310280CLE  \n..    ...   ...   ...   ...           ...  \n477     0     0     3     5  202403120OKC  \n478  None  None  None  None  202403120OKC  \n479  None  None  None  None  202403120OKC  \n480  None  None  None  None  202403120OKC  \n481     9    11   121    10  202403120OKC  \n\n[482 rows x 22 columns]",
      "text/html": "<div>\n<style scoped>\n    .dataframe tbody tr th:only-of-type {\n        vertical-align: middle;\n    }\n\n    .dataframe tbody tr th {\n        vertical-align: top;\n    }\n\n    .dataframe thead th {\n        text-align: right;\n    }\n</style>\n<table border=\"1\" class=\"dataframe\">\n  <thead>\n    <tr style=\"text-align: right;\">\n      <th></th>\n      <th>PLAYER</th>\n      <th>MIN</th>\n      <th>FGM</th>\n      <th>FGA</th>\n      <th>FG%</th>\n      <th>3PM</th>\n      <th>3PA</th>\n      <th>3P%</th>\n      <th>FTM</th>\n      <th>FTA</th>\n      <th>...</th>\n      <th>DREB</th>\n      <th>REB</th>\n      <th>AST</th>\n      <th>STL</th>\n      <th>BLK</th>\n      <th>TO</th>\n      <th>PF</th>\n      <th>PTS</th>\n      <th>+/-</th>\n      <th>Game ID</th>\n    </tr>\n  </thead>\n  <tbody>\n    <tr>\n      <th>0</th>\n      <td>Bennedict MathurinB. MathurinF</td>\n      <td>17:04</td>\n      <td>5</td>\n      <td>10</td>\n      <td>50.0</td>\n      <td>1</td>\n      <td>3</td>\n      <td>33.3</td>\n      <td>2</td>\n      <td>3</td>\n      <td>...</td>\n      <td>0</td>\n      <td>0</td>\n      <td>1</td>\n      <td>0</td>\n      <td>0</td>\n      <td>0</td>\n      <td>0</td>\n      <td>13</td>\n      <td>-11</td>\n      <td>202310280CLE</td>\n    </tr>\n    <tr>\n      <th>1</th>\n      <td>Obi ToppinO. ToppinF</td>\n      <td>18:00</td>\n      <td>2</td>\n      <td>5</td>\n      <td>40.0</td>\n      <td>0</td>\n      <td>1</td>\n      <td>0.0</td>\n      <td>0</td>\n      <td>0</td>\n      <td>...</td>\n      <td>2</td>\n      <td>4</td>\n      <td>0</td>\n      <td>0</td>\n      <td>1</td>\n      <td>1</td>\n      <td>1</td>\n      <td>4</td>\n      <td>-6</td>\n      <td>202310280CLE</td>\n    </tr>\n    <tr>\n      <th>2</th>\n      <td>Myles TurnerM. TurnerC</td>\n      <td>29:25</td>\n      <td>7</td>\n      <td>14</td>\n      <td>50.0</td>\n      <td>1</td>\n      <td>5</td>\n      <td>20.0</td>\n      <td>5</td>\n      <td>5</td>\n      <td>...</td>\n      <td>11</td>\n      <td>12</td>\n      <td>1</td>\n      <td>0</td>\n      <td>2</td>\n      <td>2</td>\n      <td>5</td>\n      <td>20</td>\n      <td>-5</td>\n      <td>202310280CLE</td>\n    </tr>\n    <tr>\n      <th>3</th>\n      <td>Bruce BrownB. BrownG</td>\n      <td>32:11</td>\n      <td>3</td>\n      <td>8</td>\n      <td>37.5</td>\n      <td>0</td>\n      <td>1</td>\n      <td>0.0</td>\n      <td>0</td>\n      <td>0</td>\n      <td>...</td>\n      <td>4</td>\n      <td>4</td>\n      <td>2</td>\n      <td>1</td>\n      <td>0</td>\n      <td>0</td>\n      <td>3</td>\n      <td>6</td>\n      <td>0</td>\n      <td>202310280CLE</td>\n    </tr>\n    <tr>\n      <th>4</th>\n      <td>Tyrese HaliburtonT. HaliburtonG</td>\n      <td>32:01</td>\n      <td>7</td>\n      <td>16</td>\n      <td>43.8</td>\n      <td>4</td>\n      <td>7</td>\n      <td>57.1</td>\n      <td>3</td>\n      <td>3</td>\n      <td>...</td>\n      <td>7</td>\n      <td>8</td>\n      <td>13</td>\n      <td>0</td>\n      <td>0</td>\n      <td>1</td>\n      <td>2</td>\n      <td>21</td>\n      <td>-1</td>\n      <td>202310280CLE</td>\n    </tr>\n    <tr>\n      <th>...</th>\n      <td>...</td>\n      <td>...</td>\n      <td>...</td>\n      <td>...</td>\n      <td>...</td>\n      <td>...</td>\n      <td>...</td>\n      <td>...</td>\n      <td>...</td>\n      <td>...</td>\n      <td>...</td>\n      <td>...</td>\n      <td>...</td>\n      <td>...</td>\n      <td>...</td>\n      <td>...</td>\n      <td>...</td>\n      <td>...</td>\n      <td>...</td>\n      <td>...</td>\n      <td>...</td>\n    </tr>\n    <tr>\n      <th>477</th>\n      <td>Jarace WalkerJ. Walker</td>\n      <td>6:51</td>\n      <td>1</td>\n      <td>2</td>\n      <td>50.0</td>\n      <td>1</td>\n      <td>2</td>\n      <td>50.0</td>\n      <td>0</td>\n      <td>0</td>\n      <td>...</td>\n      <td>1</td>\n      <td>2</td>\n      <td>0</td>\n      <td>0</td>\n      <td>0</td>\n      <td>0</td>\n      <td>0</td>\n      <td>3</td>\n      <td>5</td>\n      <td>202403120OKC</td>\n    </tr>\n    <tr>\n      <th>478</th>\n      <td>Kendall BrownK. Brown</td>\n      <td>DNP - Coach's Decision</td>\n      <td>None</td>\n      <td>None</td>\n      <td>None</td>\n      <td>None</td>\n      <td>None</td>\n      <td>None</td>\n      <td>None</td>\n      <td>None</td>\n      <td>...</td>\n      <td>None</td>\n      <td>None</td>\n      <td>None</td>\n      <td>None</td>\n      <td>None</td>\n      <td>None</td>\n      <td>None</td>\n      <td>None</td>\n      <td>None</td>\n      <td>202403120OKC</td>\n    </tr>\n    <tr>\n      <th>479</th>\n      <td>Isaiah JacksonI. Jackson</td>\n      <td>DNP - Coach's Decision</td>\n      <td>None</td>\n      <td>None</td>\n      <td>None</td>\n      <td>None</td>\n      <td>None</td>\n      <td>None</td>\n      <td>None</td>\n      <td>None</td>\n      <td>...</td>\n      <td>None</td>\n      <td>None</td>\n      <td>None</td>\n      <td>None</td>\n      <td>None</td>\n      <td>None</td>\n      <td>None</td>\n      <td>None</td>\n      <td>None</td>\n      <td>202403120OKC</td>\n    </tr>\n    <tr>\n      <th>480</th>\n      <td>James JohnsonJ. Johnson</td>\n      <td>DND - Injury/Illness</td>\n      <td>None</td>\n      <td>None</td>\n      <td>None</td>\n      <td>None</td>\n      <td>None</td>\n      <td>None</td>\n      <td>None</td>\n      <td>None</td>\n      <td>...</td>\n      <td>None</td>\n      <td>None</td>\n      <td>None</td>\n      <td>None</td>\n      <td>None</td>\n      <td>None</td>\n      <td>None</td>\n      <td>None</td>\n      <td>None</td>\n      <td>202403120OKC</td>\n    </tr>\n    <tr>\n      <th>481</th>\n      <td>TOTALS</td>\n      <td></td>\n      <td>48</td>\n      <td>89</td>\n      <td>53.9</td>\n      <td>9</td>\n      <td>28</td>\n      <td>32.1</td>\n      <td>16</td>\n      <td>19</td>\n      <td>...</td>\n      <td>39</td>\n      <td>43</td>\n      <td>34</td>\n      <td>8</td>\n      <td>10</td>\n      <td>9</td>\n      <td>11</td>\n      <td>121</td>\n      <td>10</td>\n      <td>202403120OKC</td>\n    </tr>\n  </tbody>\n</table>\n<p>482 rows × 22 columns</p>\n</div>"
     },
     "execution_count": 15,
     "metadata": {},
     "output_type": "execute_result"
    }
   ],
   "source": [
    "combinedbox"
   ],
   "metadata": {
    "collapsed": false,
    "ExecuteTime": {
     "end_time": "2024-03-20T10:29:44.031769100Z",
     "start_time": "2024-03-20T10:29:44.015915100Z"
    }
   },
   "id": "6c16bb6ea1e696e6"
  },
  {
   "cell_type": "code",
   "execution_count": 16,
   "outputs": [],
   "source": [
    "combined_box = pd.concat([box_home, box_away], ignore_index=True)\n",
    "combined_box.to_csv('combined_box.csv', index=False)"
   ],
   "metadata": {
    "collapsed": false,
    "ExecuteTime": {
     "end_time": "2024-03-20T10:30:36.044034400Z",
     "start_time": "2024-03-20T10:30:36.004842400Z"
    }
   },
   "id": "7b2db1cfbd03ec3d"
  },
  {
   "cell_type": "code",
   "execution_count": 17,
   "outputs": [
    {
     "data": {
      "text/plain": "                              PLAYER                     MIN   FGM   FGA  \\\n0     Bennedict MathurinB. MathurinF                   25:50     6    15   \n1               Obi ToppinO. ToppinF                   19:14     4     9   \n2             Myles TurnerM. TurnerC                   23:20     5     8   \n3               Bruce BrownB. BrownG                   27:12     8    11   \n4    Tyrese HaliburtonT. HaliburtonG                   26:54     9    16   \n..                               ...                     ...   ...   ...   \n995           Jarace WalkerJ. Walker                    6:51     1     2   \n996            Kendall BrownK. Brown  DNP - Coach's Decision  None  None   \n997         Isaiah JacksonI. Jackson  DNP - Coach's Decision  None  None   \n998          James JohnsonJ. Johnson    DND - Injury/Illness  None  None   \n999                           TOTALS                            48    89   \n\n      FG%   3PM   3PA   3P%   FTM   FTA  ...  DREB   REB   AST   STL   BLK  \\\n0    40.0     2     6  33.3     4     4  ...     4     4     5     2     0   \n1    44.4     2     5  40.0     1     1  ...     3     4     1     1     0   \n2    62.5     0     2   0.0     1     2  ...     8     8     1     0     3   \n3    72.7     6     8  75.0     2     2  ...     2     3     1     1     0   \n4    56.3     2     6  33.3     0     0  ...     3     3    11     1     2   \n..    ...   ...   ...   ...   ...   ...  ...   ...   ...   ...   ...   ...   \n995  50.0     1     2  50.0     0     0  ...     1     2     0     0     0   \n996  None  None  None  None  None  None  ...  None  None  None  None  None   \n997  None  None  None  None  None  None  ...  None  None  None  None  None   \n998  None  None  None  None  None  None  ...  None  None  None  None  None   \n999  53.9     9    28  32.1    16    19  ...    39    43    34     8    10   \n\n       TO    PF   PTS   +/-       Game ID  \n0       2     1    18    14  202310250IND  \n1       0     0    11     7  202310250IND  \n2       2     4    11    14  202310250IND  \n3       1     3    24    15  202310250IND  \n4       3     1    20     6  202310250IND  \n..    ...   ...   ...   ...           ...  \n995     0     0     3     5  202403120OKC  \n996  None  None  None  None  202403120OKC  \n997  None  None  None  None  202403120OKC  \n998  None  None  None  None  202403120OKC  \n999     9    11   121    10  202403120OKC  \n\n[1000 rows x 22 columns]",
      "text/html": "<div>\n<style scoped>\n    .dataframe tbody tr th:only-of-type {\n        vertical-align: middle;\n    }\n\n    .dataframe tbody tr th {\n        vertical-align: top;\n    }\n\n    .dataframe thead th {\n        text-align: right;\n    }\n</style>\n<table border=\"1\" class=\"dataframe\">\n  <thead>\n    <tr style=\"text-align: right;\">\n      <th></th>\n      <th>PLAYER</th>\n      <th>MIN</th>\n      <th>FGM</th>\n      <th>FGA</th>\n      <th>FG%</th>\n      <th>3PM</th>\n      <th>3PA</th>\n      <th>3P%</th>\n      <th>FTM</th>\n      <th>FTA</th>\n      <th>...</th>\n      <th>DREB</th>\n      <th>REB</th>\n      <th>AST</th>\n      <th>STL</th>\n      <th>BLK</th>\n      <th>TO</th>\n      <th>PF</th>\n      <th>PTS</th>\n      <th>+/-</th>\n      <th>Game ID</th>\n    </tr>\n  </thead>\n  <tbody>\n    <tr>\n      <th>0</th>\n      <td>Bennedict MathurinB. MathurinF</td>\n      <td>25:50</td>\n      <td>6</td>\n      <td>15</td>\n      <td>40.0</td>\n      <td>2</td>\n      <td>6</td>\n      <td>33.3</td>\n      <td>4</td>\n      <td>4</td>\n      <td>...</td>\n      <td>4</td>\n      <td>4</td>\n      <td>5</td>\n      <td>2</td>\n      <td>0</td>\n      <td>2</td>\n      <td>1</td>\n      <td>18</td>\n      <td>14</td>\n      <td>202310250IND</td>\n    </tr>\n    <tr>\n      <th>1</th>\n      <td>Obi ToppinO. ToppinF</td>\n      <td>19:14</td>\n      <td>4</td>\n      <td>9</td>\n      <td>44.4</td>\n      <td>2</td>\n      <td>5</td>\n      <td>40.0</td>\n      <td>1</td>\n      <td>1</td>\n      <td>...</td>\n      <td>3</td>\n      <td>4</td>\n      <td>1</td>\n      <td>1</td>\n      <td>0</td>\n      <td>0</td>\n      <td>0</td>\n      <td>11</td>\n      <td>7</td>\n      <td>202310250IND</td>\n    </tr>\n    <tr>\n      <th>2</th>\n      <td>Myles TurnerM. TurnerC</td>\n      <td>23:20</td>\n      <td>5</td>\n      <td>8</td>\n      <td>62.5</td>\n      <td>0</td>\n      <td>2</td>\n      <td>0.0</td>\n      <td>1</td>\n      <td>2</td>\n      <td>...</td>\n      <td>8</td>\n      <td>8</td>\n      <td>1</td>\n      <td>0</td>\n      <td>3</td>\n      <td>2</td>\n      <td>4</td>\n      <td>11</td>\n      <td>14</td>\n      <td>202310250IND</td>\n    </tr>\n    <tr>\n      <th>3</th>\n      <td>Bruce BrownB. BrownG</td>\n      <td>27:12</td>\n      <td>8</td>\n      <td>11</td>\n      <td>72.7</td>\n      <td>6</td>\n      <td>8</td>\n      <td>75.0</td>\n      <td>2</td>\n      <td>2</td>\n      <td>...</td>\n      <td>2</td>\n      <td>3</td>\n      <td>1</td>\n      <td>1</td>\n      <td>0</td>\n      <td>1</td>\n      <td>3</td>\n      <td>24</td>\n      <td>15</td>\n      <td>202310250IND</td>\n    </tr>\n    <tr>\n      <th>4</th>\n      <td>Tyrese HaliburtonT. HaliburtonG</td>\n      <td>26:54</td>\n      <td>9</td>\n      <td>16</td>\n      <td>56.3</td>\n      <td>2</td>\n      <td>6</td>\n      <td>33.3</td>\n      <td>0</td>\n      <td>0</td>\n      <td>...</td>\n      <td>3</td>\n      <td>3</td>\n      <td>11</td>\n      <td>1</td>\n      <td>2</td>\n      <td>3</td>\n      <td>1</td>\n      <td>20</td>\n      <td>6</td>\n      <td>202310250IND</td>\n    </tr>\n    <tr>\n      <th>...</th>\n      <td>...</td>\n      <td>...</td>\n      <td>...</td>\n      <td>...</td>\n      <td>...</td>\n      <td>...</td>\n      <td>...</td>\n      <td>...</td>\n      <td>...</td>\n      <td>...</td>\n      <td>...</td>\n      <td>...</td>\n      <td>...</td>\n      <td>...</td>\n      <td>...</td>\n      <td>...</td>\n      <td>...</td>\n      <td>...</td>\n      <td>...</td>\n      <td>...</td>\n      <td>...</td>\n    </tr>\n    <tr>\n      <th>995</th>\n      <td>Jarace WalkerJ. Walker</td>\n      <td>6:51</td>\n      <td>1</td>\n      <td>2</td>\n      <td>50.0</td>\n      <td>1</td>\n      <td>2</td>\n      <td>50.0</td>\n      <td>0</td>\n      <td>0</td>\n      <td>...</td>\n      <td>1</td>\n      <td>2</td>\n      <td>0</td>\n      <td>0</td>\n      <td>0</td>\n      <td>0</td>\n      <td>0</td>\n      <td>3</td>\n      <td>5</td>\n      <td>202403120OKC</td>\n    </tr>\n    <tr>\n      <th>996</th>\n      <td>Kendall BrownK. Brown</td>\n      <td>DNP - Coach's Decision</td>\n      <td>None</td>\n      <td>None</td>\n      <td>None</td>\n      <td>None</td>\n      <td>None</td>\n      <td>None</td>\n      <td>None</td>\n      <td>None</td>\n      <td>...</td>\n      <td>None</td>\n      <td>None</td>\n      <td>None</td>\n      <td>None</td>\n      <td>None</td>\n      <td>None</td>\n      <td>None</td>\n      <td>None</td>\n      <td>None</td>\n      <td>202403120OKC</td>\n    </tr>\n    <tr>\n      <th>997</th>\n      <td>Isaiah JacksonI. Jackson</td>\n      <td>DNP - Coach's Decision</td>\n      <td>None</td>\n      <td>None</td>\n      <td>None</td>\n      <td>None</td>\n      <td>None</td>\n      <td>None</td>\n      <td>None</td>\n      <td>None</td>\n      <td>...</td>\n      <td>None</td>\n      <td>None</td>\n      <td>None</td>\n      <td>None</td>\n      <td>None</td>\n      <td>None</td>\n      <td>None</td>\n      <td>None</td>\n      <td>None</td>\n      <td>202403120OKC</td>\n    </tr>\n    <tr>\n      <th>998</th>\n      <td>James JohnsonJ. Johnson</td>\n      <td>DND - Injury/Illness</td>\n      <td>None</td>\n      <td>None</td>\n      <td>None</td>\n      <td>None</td>\n      <td>None</td>\n      <td>None</td>\n      <td>None</td>\n      <td>None</td>\n      <td>...</td>\n      <td>None</td>\n      <td>None</td>\n      <td>None</td>\n      <td>None</td>\n      <td>None</td>\n      <td>None</td>\n      <td>None</td>\n      <td>None</td>\n      <td>None</td>\n      <td>202403120OKC</td>\n    </tr>\n    <tr>\n      <th>999</th>\n      <td>TOTALS</td>\n      <td></td>\n      <td>48</td>\n      <td>89</td>\n      <td>53.9</td>\n      <td>9</td>\n      <td>28</td>\n      <td>32.1</td>\n      <td>16</td>\n      <td>19</td>\n      <td>...</td>\n      <td>39</td>\n      <td>43</td>\n      <td>34</td>\n      <td>8</td>\n      <td>10</td>\n      <td>9</td>\n      <td>11</td>\n      <td>121</td>\n      <td>10</td>\n      <td>202403120OKC</td>\n    </tr>\n  </tbody>\n</table>\n<p>1000 rows × 22 columns</p>\n</div>"
     },
     "execution_count": 17,
     "metadata": {},
     "output_type": "execute_result"
    }
   ],
   "source": [
    "combined_box"
   ],
   "metadata": {
    "collapsed": false,
    "ExecuteTime": {
     "end_time": "2024-03-21T22:33:31.178702100Z",
     "start_time": "2024-03-21T22:33:30.850999100Z"
    }
   },
   "id": "b1ab81f53fa04e8c"
  },
  {
   "cell_type": "code",
   "execution_count": null,
   "outputs": [],
   "source": [],
   "metadata": {
    "collapsed": false
   },
   "id": "cfebce37925ff51b"
  }
 ],
 "metadata": {
  "kernelspec": {
   "display_name": "Python 3",
   "language": "python",
   "name": "python3"
  },
  "language_info": {
   "codemirror_mode": {
    "name": "ipython",
    "version": 2
   },
   "file_extension": ".py",
   "mimetype": "text/x-python",
   "name": "python",
   "nbconvert_exporter": "python",
   "pygments_lexer": "ipython2",
   "version": "2.7.6"
  }
 },
 "nbformat": 4,
 "nbformat_minor": 5
}
